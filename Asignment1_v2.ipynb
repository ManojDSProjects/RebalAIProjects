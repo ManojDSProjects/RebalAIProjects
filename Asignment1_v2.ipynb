{
  "nbformat": 4,
  "nbformat_minor": 0,
  "metadata": {
    "colab": {
      "provenance": []
    },
    "kernelspec": {
      "name": "python3",
      "display_name": "Python 3"
    },
    "language_info": {
      "name": "python"
    }
  },
  "cells": [
    {
      "cell_type": "code",
      "execution_count": 2,
      "metadata": {
        "id": "NrFB0J7Kqjrx"
      },
      "outputs": [],
      "source": [
        "# Importing libraries\n",
        "import pandas as pd\n",
        "import matplotlib.pyplot as plt\n",
        "import plotly.express as px\n",
        "import seaborn as sns"
      ]
    },
    {
      "cell_type": "code",
      "source": [
        "# importing data\n",
        "house_data = pd.read_csv('raw_house_data.csv')\n",
        "house_data.head()"
      ],
      "metadata": {
        "colab": {
          "base_uri": "https://localhost:8080/",
          "height": 399
        },
        "collapsed": true,
        "id": "RVm7wNgnreee",
        "outputId": "6cc13323-545e-4ae3-9304-ece0cf843fdb"
      },
      "execution_count": 10,
      "outputs": [
        {
          "output_type": "execute_result",
          "data": {
            "text/plain": [
              "        MLS  sold_price  zipcode   longitude   latitude  lot_acres     taxes  \\\n",
              "0  21530491   5300000.0    85637 -110.378200  31.356362    2154.00   5272.00   \n",
              "1  21529082   4200000.0    85646 -111.045371  31.594213    1707.00  10422.36   \n",
              "2   3054672   4200000.0    85646 -111.040707  31.594844    1707.00  10482.00   \n",
              "3  21919321   4500000.0    85646 -111.035925  31.645878     636.67   8418.58   \n",
              "4  21306357   3411450.0    85750 -110.813768  32.285162       3.21  15393.00   \n",
              "\n",
              "   year_built  bedrooms  bathrooms  sqrt_ft  garage  \\\n",
              "0        1941        13       10.0  10500.0     0.0   \n",
              "1        1997         2        2.0   7300.0     0.0   \n",
              "2        1997         2        3.0      NaN     NaN   \n",
              "3        1930         7        5.0   9019.0     4.0   \n",
              "4        1995         4        6.0   6396.0     3.0   \n",
              "\n",
              "                                    kitchen_features  fireplaces  \\\n",
              "0            Dishwasher, Freezer, Refrigerator, Oven         6.0   \n",
              "1                       Dishwasher, Garbage Disposal         5.0   \n",
              "2         Dishwasher, Garbage Disposal, Refrigerator         5.0   \n",
              "3  Dishwasher, Double Sink, Pantry: Butler, Refri...         4.0   \n",
              "4  Dishwasher, Garbage Disposal, Refrigerator, Mi...         5.0   \n",
              "\n",
              "                 floor_covering  HOA  \n",
              "0            Mexican Tile, Wood    0  \n",
              "1          Natural Stone, Other    0  \n",
              "2    Natural Stone, Other: Rock  NaN  \n",
              "3  Ceramic Tile, Laminate, Wood  NaN  \n",
              "4              Carpet, Concrete   55  "
            ],
            "text/html": [
              "\n",
              "  <div id=\"df-47f4df96-cb19-4f47-9bca-de49381bffcd\" class=\"colab-df-container\">\n",
              "    <div>\n",
              "<style scoped>\n",
              "    .dataframe tbody tr th:only-of-type {\n",
              "        vertical-align: middle;\n",
              "    }\n",
              "\n",
              "    .dataframe tbody tr th {\n",
              "        vertical-align: top;\n",
              "    }\n",
              "\n",
              "    .dataframe thead th {\n",
              "        text-align: right;\n",
              "    }\n",
              "</style>\n",
              "<table border=\"1\" class=\"dataframe\">\n",
              "  <thead>\n",
              "    <tr style=\"text-align: right;\">\n",
              "      <th></th>\n",
              "      <th>MLS</th>\n",
              "      <th>sold_price</th>\n",
              "      <th>zipcode</th>\n",
              "      <th>longitude</th>\n",
              "      <th>latitude</th>\n",
              "      <th>lot_acres</th>\n",
              "      <th>taxes</th>\n",
              "      <th>year_built</th>\n",
              "      <th>bedrooms</th>\n",
              "      <th>bathrooms</th>\n",
              "      <th>sqrt_ft</th>\n",
              "      <th>garage</th>\n",
              "      <th>kitchen_features</th>\n",
              "      <th>fireplaces</th>\n",
              "      <th>floor_covering</th>\n",
              "      <th>HOA</th>\n",
              "    </tr>\n",
              "  </thead>\n",
              "  <tbody>\n",
              "    <tr>\n",
              "      <th>0</th>\n",
              "      <td>21530491</td>\n",
              "      <td>5300000.0</td>\n",
              "      <td>85637</td>\n",
              "      <td>-110.378200</td>\n",
              "      <td>31.356362</td>\n",
              "      <td>2154.00</td>\n",
              "      <td>5272.00</td>\n",
              "      <td>1941</td>\n",
              "      <td>13</td>\n",
              "      <td>10.0</td>\n",
              "      <td>10500.0</td>\n",
              "      <td>0.0</td>\n",
              "      <td>Dishwasher, Freezer, Refrigerator, Oven</td>\n",
              "      <td>6.0</td>\n",
              "      <td>Mexican Tile, Wood</td>\n",
              "      <td>0</td>\n",
              "    </tr>\n",
              "    <tr>\n",
              "      <th>1</th>\n",
              "      <td>21529082</td>\n",
              "      <td>4200000.0</td>\n",
              "      <td>85646</td>\n",
              "      <td>-111.045371</td>\n",
              "      <td>31.594213</td>\n",
              "      <td>1707.00</td>\n",
              "      <td>10422.36</td>\n",
              "      <td>1997</td>\n",
              "      <td>2</td>\n",
              "      <td>2.0</td>\n",
              "      <td>7300.0</td>\n",
              "      <td>0.0</td>\n",
              "      <td>Dishwasher, Garbage Disposal</td>\n",
              "      <td>5.0</td>\n",
              "      <td>Natural Stone, Other</td>\n",
              "      <td>0</td>\n",
              "    </tr>\n",
              "    <tr>\n",
              "      <th>2</th>\n",
              "      <td>3054672</td>\n",
              "      <td>4200000.0</td>\n",
              "      <td>85646</td>\n",
              "      <td>-111.040707</td>\n",
              "      <td>31.594844</td>\n",
              "      <td>1707.00</td>\n",
              "      <td>10482.00</td>\n",
              "      <td>1997</td>\n",
              "      <td>2</td>\n",
              "      <td>3.0</td>\n",
              "      <td>NaN</td>\n",
              "      <td>NaN</td>\n",
              "      <td>Dishwasher, Garbage Disposal, Refrigerator</td>\n",
              "      <td>5.0</td>\n",
              "      <td>Natural Stone, Other: Rock</td>\n",
              "      <td>NaN</td>\n",
              "    </tr>\n",
              "    <tr>\n",
              "      <th>3</th>\n",
              "      <td>21919321</td>\n",
              "      <td>4500000.0</td>\n",
              "      <td>85646</td>\n",
              "      <td>-111.035925</td>\n",
              "      <td>31.645878</td>\n",
              "      <td>636.67</td>\n",
              "      <td>8418.58</td>\n",
              "      <td>1930</td>\n",
              "      <td>7</td>\n",
              "      <td>5.0</td>\n",
              "      <td>9019.0</td>\n",
              "      <td>4.0</td>\n",
              "      <td>Dishwasher, Double Sink, Pantry: Butler, Refri...</td>\n",
              "      <td>4.0</td>\n",
              "      <td>Ceramic Tile, Laminate, Wood</td>\n",
              "      <td>NaN</td>\n",
              "    </tr>\n",
              "    <tr>\n",
              "      <th>4</th>\n",
              "      <td>21306357</td>\n",
              "      <td>3411450.0</td>\n",
              "      <td>85750</td>\n",
              "      <td>-110.813768</td>\n",
              "      <td>32.285162</td>\n",
              "      <td>3.21</td>\n",
              "      <td>15393.00</td>\n",
              "      <td>1995</td>\n",
              "      <td>4</td>\n",
              "      <td>6.0</td>\n",
              "      <td>6396.0</td>\n",
              "      <td>3.0</td>\n",
              "      <td>Dishwasher, Garbage Disposal, Refrigerator, Mi...</td>\n",
              "      <td>5.0</td>\n",
              "      <td>Carpet, Concrete</td>\n",
              "      <td>55</td>\n",
              "    </tr>\n",
              "  </tbody>\n",
              "</table>\n",
              "</div>\n",
              "    <div class=\"colab-df-buttons\">\n",
              "\n",
              "  <div class=\"colab-df-container\">\n",
              "    <button class=\"colab-df-convert\" onclick=\"convertToInteractive('df-47f4df96-cb19-4f47-9bca-de49381bffcd')\"\n",
              "            title=\"Convert this dataframe to an interactive table.\"\n",
              "            style=\"display:none;\">\n",
              "\n",
              "  <svg xmlns=\"http://www.w3.org/2000/svg\" height=\"24px\" viewBox=\"0 -960 960 960\">\n",
              "    <path d=\"M120-120v-720h720v720H120Zm60-500h600v-160H180v160Zm220 220h160v-160H400v160Zm0 220h160v-160H400v160ZM180-400h160v-160H180v160Zm440 0h160v-160H620v160ZM180-180h160v-160H180v160Zm440 0h160v-160H620v160Z\"/>\n",
              "  </svg>\n",
              "    </button>\n",
              "\n",
              "  <style>\n",
              "    .colab-df-container {\n",
              "      display:flex;\n",
              "      gap: 12px;\n",
              "    }\n",
              "\n",
              "    .colab-df-convert {\n",
              "      background-color: #E8F0FE;\n",
              "      border: none;\n",
              "      border-radius: 50%;\n",
              "      cursor: pointer;\n",
              "      display: none;\n",
              "      fill: #1967D2;\n",
              "      height: 32px;\n",
              "      padding: 0 0 0 0;\n",
              "      width: 32px;\n",
              "    }\n",
              "\n",
              "    .colab-df-convert:hover {\n",
              "      background-color: #E2EBFA;\n",
              "      box-shadow: 0px 1px 2px rgba(60, 64, 67, 0.3), 0px 1px 3px 1px rgba(60, 64, 67, 0.15);\n",
              "      fill: #174EA6;\n",
              "    }\n",
              "\n",
              "    .colab-df-buttons div {\n",
              "      margin-bottom: 4px;\n",
              "    }\n",
              "\n",
              "    [theme=dark] .colab-df-convert {\n",
              "      background-color: #3B4455;\n",
              "      fill: #D2E3FC;\n",
              "    }\n",
              "\n",
              "    [theme=dark] .colab-df-convert:hover {\n",
              "      background-color: #434B5C;\n",
              "      box-shadow: 0px 1px 3px 1px rgba(0, 0, 0, 0.15);\n",
              "      filter: drop-shadow(0px 1px 2px rgba(0, 0, 0, 0.3));\n",
              "      fill: #FFFFFF;\n",
              "    }\n",
              "  </style>\n",
              "\n",
              "    <script>\n",
              "      const buttonEl =\n",
              "        document.querySelector('#df-47f4df96-cb19-4f47-9bca-de49381bffcd button.colab-df-convert');\n",
              "      buttonEl.style.display =\n",
              "        google.colab.kernel.accessAllowed ? 'block' : 'none';\n",
              "\n",
              "      async function convertToInteractive(key) {\n",
              "        const element = document.querySelector('#df-47f4df96-cb19-4f47-9bca-de49381bffcd');\n",
              "        const dataTable =\n",
              "          await google.colab.kernel.invokeFunction('convertToInteractive',\n",
              "                                                    [key], {});\n",
              "        if (!dataTable) return;\n",
              "\n",
              "        const docLinkHtml = 'Like what you see? Visit the ' +\n",
              "          '<a target=\"_blank\" href=https://colab.research.google.com/notebooks/data_table.ipynb>data table notebook</a>'\n",
              "          + ' to learn more about interactive tables.';\n",
              "        element.innerHTML = '';\n",
              "        dataTable['output_type'] = 'display_data';\n",
              "        await google.colab.output.renderOutput(dataTable, element);\n",
              "        const docLink = document.createElement('div');\n",
              "        docLink.innerHTML = docLinkHtml;\n",
              "        element.appendChild(docLink);\n",
              "      }\n",
              "    </script>\n",
              "  </div>\n",
              "\n",
              "\n",
              "<div id=\"df-75b4257e-a0a7-4c00-ba6f-fcef81bd8493\">\n",
              "  <button class=\"colab-df-quickchart\" onclick=\"quickchart('df-75b4257e-a0a7-4c00-ba6f-fcef81bd8493')\"\n",
              "            title=\"Suggest charts\"\n",
              "            style=\"display:none;\">\n",
              "\n",
              "<svg xmlns=\"http://www.w3.org/2000/svg\" height=\"24px\"viewBox=\"0 0 24 24\"\n",
              "     width=\"24px\">\n",
              "    <g>\n",
              "        <path d=\"M19 3H5c-1.1 0-2 .9-2 2v14c0 1.1.9 2 2 2h14c1.1 0 2-.9 2-2V5c0-1.1-.9-2-2-2zM9 17H7v-7h2v7zm4 0h-2V7h2v10zm4 0h-2v-4h2v4z\"/>\n",
              "    </g>\n",
              "</svg>\n",
              "  </button>\n",
              "\n",
              "<style>\n",
              "  .colab-df-quickchart {\n",
              "      --bg-color: #E8F0FE;\n",
              "      --fill-color: #1967D2;\n",
              "      --hover-bg-color: #E2EBFA;\n",
              "      --hover-fill-color: #174EA6;\n",
              "      --disabled-fill-color: #AAA;\n",
              "      --disabled-bg-color: #DDD;\n",
              "  }\n",
              "\n",
              "  [theme=dark] .colab-df-quickchart {\n",
              "      --bg-color: #3B4455;\n",
              "      --fill-color: #D2E3FC;\n",
              "      --hover-bg-color: #434B5C;\n",
              "      --hover-fill-color: #FFFFFF;\n",
              "      --disabled-bg-color: #3B4455;\n",
              "      --disabled-fill-color: #666;\n",
              "  }\n",
              "\n",
              "  .colab-df-quickchart {\n",
              "    background-color: var(--bg-color);\n",
              "    border: none;\n",
              "    border-radius: 50%;\n",
              "    cursor: pointer;\n",
              "    display: none;\n",
              "    fill: var(--fill-color);\n",
              "    height: 32px;\n",
              "    padding: 0;\n",
              "    width: 32px;\n",
              "  }\n",
              "\n",
              "  .colab-df-quickchart:hover {\n",
              "    background-color: var(--hover-bg-color);\n",
              "    box-shadow: 0 1px 2px rgba(60, 64, 67, 0.3), 0 1px 3px 1px rgba(60, 64, 67, 0.15);\n",
              "    fill: var(--button-hover-fill-color);\n",
              "  }\n",
              "\n",
              "  .colab-df-quickchart-complete:disabled,\n",
              "  .colab-df-quickchart-complete:disabled:hover {\n",
              "    background-color: var(--disabled-bg-color);\n",
              "    fill: var(--disabled-fill-color);\n",
              "    box-shadow: none;\n",
              "  }\n",
              "\n",
              "  .colab-df-spinner {\n",
              "    border: 2px solid var(--fill-color);\n",
              "    border-color: transparent;\n",
              "    border-bottom-color: var(--fill-color);\n",
              "    animation:\n",
              "      spin 1s steps(1) infinite;\n",
              "  }\n",
              "\n",
              "  @keyframes spin {\n",
              "    0% {\n",
              "      border-color: transparent;\n",
              "      border-bottom-color: var(--fill-color);\n",
              "      border-left-color: var(--fill-color);\n",
              "    }\n",
              "    20% {\n",
              "      border-color: transparent;\n",
              "      border-left-color: var(--fill-color);\n",
              "      border-top-color: var(--fill-color);\n",
              "    }\n",
              "    30% {\n",
              "      border-color: transparent;\n",
              "      border-left-color: var(--fill-color);\n",
              "      border-top-color: var(--fill-color);\n",
              "      border-right-color: var(--fill-color);\n",
              "    }\n",
              "    40% {\n",
              "      border-color: transparent;\n",
              "      border-right-color: var(--fill-color);\n",
              "      border-top-color: var(--fill-color);\n",
              "    }\n",
              "    60% {\n",
              "      border-color: transparent;\n",
              "      border-right-color: var(--fill-color);\n",
              "    }\n",
              "    80% {\n",
              "      border-color: transparent;\n",
              "      border-right-color: var(--fill-color);\n",
              "      border-bottom-color: var(--fill-color);\n",
              "    }\n",
              "    90% {\n",
              "      border-color: transparent;\n",
              "      border-bottom-color: var(--fill-color);\n",
              "    }\n",
              "  }\n",
              "</style>\n",
              "\n",
              "  <script>\n",
              "    async function quickchart(key) {\n",
              "      const quickchartButtonEl =\n",
              "        document.querySelector('#' + key + ' button');\n",
              "      quickchartButtonEl.disabled = true;  // To prevent multiple clicks.\n",
              "      quickchartButtonEl.classList.add('colab-df-spinner');\n",
              "      try {\n",
              "        const charts = await google.colab.kernel.invokeFunction(\n",
              "            'suggestCharts', [key], {});\n",
              "      } catch (error) {\n",
              "        console.error('Error during call to suggestCharts:', error);\n",
              "      }\n",
              "      quickchartButtonEl.classList.remove('colab-df-spinner');\n",
              "      quickchartButtonEl.classList.add('colab-df-quickchart-complete');\n",
              "    }\n",
              "    (() => {\n",
              "      let quickchartButtonEl =\n",
              "        document.querySelector('#df-75b4257e-a0a7-4c00-ba6f-fcef81bd8493 button');\n",
              "      quickchartButtonEl.style.display =\n",
              "        google.colab.kernel.accessAllowed ? 'block' : 'none';\n",
              "    })();\n",
              "  </script>\n",
              "</div>\n",
              "\n",
              "    </div>\n",
              "  </div>\n"
            ],
            "application/vnd.google.colaboratory.intrinsic+json": {
              "type": "dataframe",
              "variable_name": "house_data",
              "summary": "{\n  \"name\": \"house_data\",\n  \"rows\": 5000,\n  \"fields\": [\n    {\n      \"column\": \"MLS\",\n      \"properties\": {\n        \"dtype\": \"number\",\n        \"std\": 2398507,\n        \"min\": 3042851,\n        \"max\": 21928565,\n        \"num_unique_values\": 5000,\n        \"samples\": [\n          21113616,\n          21910943,\n          21509307\n        ],\n        \"semantic_type\": \"\",\n        \"description\": \"\"\n      }\n    },\n    {\n      \"column\": \"sold_price\",\n      \"properties\": {\n        \"dtype\": \"number\",\n        \"std\": 318555.6054750139,\n        \"min\": 169000.0,\n        \"max\": 5300000.0,\n        \"num_unique_values\": 1092,\n        \"samples\": [\n          809771.0,\n          1370000.0,\n          1697215.0\n        ],\n        \"semantic_type\": \"\",\n        \"description\": \"\"\n      }\n    },\n    {\n      \"column\": \"zipcode\",\n      \"properties\": {\n        \"dtype\": \"number\",\n        \"std\": 38,\n        \"min\": 85118,\n        \"max\": 86323,\n        \"num_unique_values\": 56,\n        \"samples\": [\n          85637,\n          85640,\n          85610\n        ],\n        \"semantic_type\": \"\",\n        \"description\": \"\"\n      }\n    },\n    {\n      \"column\": \"longitude\",\n      \"properties\": {\n        \"dtype\": \"number\",\n        \"std\": 0.1206293793898339,\n        \"min\": -112.520168,\n        \"max\": -109.454637,\n        \"num_unique_values\": 4762,\n        \"samples\": [\n          -110.833364,\n          -110.838161,\n          -110.890327\n        ],\n        \"semantic_type\": \"\",\n        \"description\": \"\"\n      }\n    },\n    {\n      \"column\": \"latitude\",\n      \"properties\": {\n        \"dtype\": \"number\",\n        \"std\": 0.17802844329504958,\n        \"min\": 31.356362,\n        \"max\": 34.927884,\n        \"num_unique_values\": 4821,\n        \"samples\": [\n          32.31739,\n          32.461137,\n          32.548989\n        ],\n        \"semantic_type\": \"\",\n        \"description\": \"\"\n      }\n    },\n    {\n      \"column\": \"lot_acres\",\n      \"properties\": {\n        \"dtype\": \"number\",\n        \"std\": 51.68522997922628,\n        \"min\": 0.0,\n        \"max\": 2154.0,\n        \"num_unique_values\": 645,\n        \"samples\": [\n          5.67,\n          2.83,\n          30.9\n        ],\n        \"semantic_type\": \"\",\n        \"description\": \"\"\n      }\n    },\n    {\n      \"column\": \"taxes\",\n      \"properties\": {\n        \"dtype\": \"number\",\n        \"std\": 172938.52714633418,\n        \"min\": 0.0,\n        \"max\": 12215075.0,\n        \"num_unique_values\": 4719,\n        \"samples\": [\n          7541.42,\n          2580.59,\n          5201.02\n        ],\n        \"semantic_type\": \"\",\n        \"description\": \"\"\n      }\n    },\n    {\n      \"column\": \"year_built\",\n      \"properties\": {\n        \"dtype\": \"number\",\n        \"std\": 65,\n        \"min\": 0,\n        \"max\": 2019,\n        \"num_unique_values\": 112,\n        \"samples\": [\n          1989,\n          1958,\n          1999\n        ],\n        \"semantic_type\": \"\",\n        \"description\": \"\"\n      }\n    },\n    {\n      \"column\": \"bedrooms\",\n      \"properties\": {\n        \"dtype\": \"number\",\n        \"std\": 1,\n        \"min\": 1,\n        \"max\": 36,\n        \"num_unique_values\": 15,\n        \"samples\": [\n          19,\n          10,\n          13\n        ],\n        \"semantic_type\": \"\",\n        \"description\": \"\"\n      }\n    },\n    {\n      \"column\": \"bathrooms\",\n      \"properties\": {\n        \"dtype\": \"number\",\n        \"std\": 1.387062662294605,\n        \"min\": 1.0,\n        \"max\": 36.0,\n        \"num_unique_values\": 19,\n        \"samples\": [\n          10.0,\n          4.0,\n          9.0\n        ],\n        \"semantic_type\": \"\",\n        \"description\": \"\"\n      }\n    },\n    {\n      \"column\": \"sqrt_ft\",\n      \"properties\": {\n        \"dtype\": \"number\",\n        \"std\": 1120.683514741974,\n        \"min\": 1100.0,\n        \"max\": 22408.0,\n        \"num_unique_values\": 2361,\n        \"samples\": [\n          3194.0,\n          3035.0,\n          3253.0\n        ],\n        \"semantic_type\": \"\",\n        \"description\": \"\"\n      }\n    },\n    {\n      \"column\": \"garage\",\n      \"properties\": {\n        \"dtype\": \"number\",\n        \"std\": 1.1929462580238044,\n        \"min\": 0.0,\n        \"max\": 30.0,\n        \"num_unique_values\": 21,\n        \"samples\": [\n          0.0,\n          10.0,\n          30.0\n        ],\n        \"semantic_type\": \"\",\n        \"description\": \"\"\n      }\n    },\n    {\n      \"column\": \"kitchen_features\",\n      \"properties\": {\n        \"dtype\": \"category\",\n        \"num_unique_values\": 1871,\n        \"samples\": [\n          \"Dishwasher, Double Sink, Garbage Disposal, Gas Range, Pantry: Walk-In, Refrigerator, Water Purifier, Appliance Color: Stainless, Countertops: Silestone, Microwave: Built in, Oven: Built in\",\n          \"Compactor, Desk, Dishwasher, Double Sink, Electric Range, Garbage Disposal, Island, Lazy Susan, Pantry: Closet, Refrigerator, Appliance Color: Almond, Countertops: Corian\",\n          \"Dishwasher, Double Sink, Garbage Disposal, Gas Range, Pantry: Cabinet, Appliance Color: Stainless, Countertops: Granite slab, Microwave: Stainless over oven, Oven: wall\"\n        ],\n        \"semantic_type\": \"\",\n        \"description\": \"\"\n      }\n    },\n    {\n      \"column\": \"fireplaces\",\n      \"properties\": {\n        \"dtype\": \"number\",\n        \"std\": 1.1365783023421354,\n        \"min\": 0.0,\n        \"max\": 9.0,\n        \"num_unique_values\": 10,\n        \"samples\": [\n          9.0,\n          5.0,\n          3.0\n        ],\n        \"semantic_type\": \"\",\n        \"description\": \"\"\n      }\n    },\n    {\n      \"column\": \"floor_covering\",\n      \"properties\": {\n        \"dtype\": \"category\",\n        \"num_unique_values\": 310,\n        \"samples\": [\n          \"Carpet, Ceramic Tile, Other: NEW Plank Tile\",\n          \"Mexican Tile, Natural Stone, Wood\",\n          \"Carpet, Mexican Tile, Natural Stone, Wood\"\n        ],\n        \"semantic_type\": \"\",\n        \"description\": \"\"\n      }\n    },\n    {\n      \"column\": \"HOA\",\n      \"properties\": {\n        \"dtype\": \"category\",\n        \"num_unique_values\": 380,\n        \"samples\": [\n          \"1,769\",\n          \"109\",\n          \"77\"\n        ],\n        \"semantic_type\": \"\",\n        \"description\": \"\"\n      }\n    }\n  ]\n}"
            }
          },
          "metadata": {},
          "execution_count": 10
        }
      ]
    },
    {
      "cell_type": "code",
      "source": [
        "# checking data types of the columns\n",
        "house_data.dtypes"
      ],
      "metadata": {
        "colab": {
          "base_uri": "https://localhost:8080/",
          "height": 585
        },
        "id": "eckpSJa6rkm4",
        "outputId": "3213620f-d0b7-46e9-81e6-82af67cbd2a9",
        "collapsed": true
      },
      "execution_count": null,
      "outputs": [
        {
          "output_type": "execute_result",
          "data": {
            "text/plain": [
              "MLS                   int64\n",
              "sold_price          float64\n",
              "zipcode               int64\n",
              "longitude           float64\n",
              "latitude            float64\n",
              "lot_acres           float64\n",
              "taxes               float64\n",
              "year_built            int64\n",
              "bedrooms              int64\n",
              "bathrooms           float64\n",
              "sqrt_ft             float64\n",
              "garage              float64\n",
              "kitchen_features     object\n",
              "fireplaces          float64\n",
              "floor_covering       object\n",
              "HOA                  object\n",
              "dtype: object"
            ],
            "text/html": [
              "<div>\n",
              "<style scoped>\n",
              "    .dataframe tbody tr th:only-of-type {\n",
              "        vertical-align: middle;\n",
              "    }\n",
              "\n",
              "    .dataframe tbody tr th {\n",
              "        vertical-align: top;\n",
              "    }\n",
              "\n",
              "    .dataframe thead th {\n",
              "        text-align: right;\n",
              "    }\n",
              "</style>\n",
              "<table border=\"1\" class=\"dataframe\">\n",
              "  <thead>\n",
              "    <tr style=\"text-align: right;\">\n",
              "      <th></th>\n",
              "      <th>0</th>\n",
              "    </tr>\n",
              "  </thead>\n",
              "  <tbody>\n",
              "    <tr>\n",
              "      <th>MLS</th>\n",
              "      <td>int64</td>\n",
              "    </tr>\n",
              "    <tr>\n",
              "      <th>sold_price</th>\n",
              "      <td>float64</td>\n",
              "    </tr>\n",
              "    <tr>\n",
              "      <th>zipcode</th>\n",
              "      <td>int64</td>\n",
              "    </tr>\n",
              "    <tr>\n",
              "      <th>longitude</th>\n",
              "      <td>float64</td>\n",
              "    </tr>\n",
              "    <tr>\n",
              "      <th>latitude</th>\n",
              "      <td>float64</td>\n",
              "    </tr>\n",
              "    <tr>\n",
              "      <th>lot_acres</th>\n",
              "      <td>float64</td>\n",
              "    </tr>\n",
              "    <tr>\n",
              "      <th>taxes</th>\n",
              "      <td>float64</td>\n",
              "    </tr>\n",
              "    <tr>\n",
              "      <th>year_built</th>\n",
              "      <td>int64</td>\n",
              "    </tr>\n",
              "    <tr>\n",
              "      <th>bedrooms</th>\n",
              "      <td>int64</td>\n",
              "    </tr>\n",
              "    <tr>\n",
              "      <th>bathrooms</th>\n",
              "      <td>float64</td>\n",
              "    </tr>\n",
              "    <tr>\n",
              "      <th>sqrt_ft</th>\n",
              "      <td>float64</td>\n",
              "    </tr>\n",
              "    <tr>\n",
              "      <th>garage</th>\n",
              "      <td>float64</td>\n",
              "    </tr>\n",
              "    <tr>\n",
              "      <th>kitchen_features</th>\n",
              "      <td>object</td>\n",
              "    </tr>\n",
              "    <tr>\n",
              "      <th>fireplaces</th>\n",
              "      <td>float64</td>\n",
              "    </tr>\n",
              "    <tr>\n",
              "      <th>floor_covering</th>\n",
              "      <td>object</td>\n",
              "    </tr>\n",
              "    <tr>\n",
              "      <th>HOA</th>\n",
              "      <td>object</td>\n",
              "    </tr>\n",
              "  </tbody>\n",
              "</table>\n",
              "</div><br><label><b>dtype:</b> object</label>"
            ]
          },
          "metadata": {},
          "execution_count": 4
        }
      ]
    },
    {
      "cell_type": "code",
      "source": [
        "# checking column names\n",
        "house_data.columns"
      ],
      "metadata": {
        "colab": {
          "base_uri": "https://localhost:8080/"
        },
        "id": "_RjF2jm5sFGD",
        "outputId": "e12f50a6-f3f5-4dbf-c379-323dd1618b55"
      },
      "execution_count": null,
      "outputs": [
        {
          "output_type": "execute_result",
          "data": {
            "text/plain": [
              "Index(['MLS', 'sold_price', 'zipcode', 'longitude', 'latitude', 'lot_acres',\n",
              "       'taxes', 'year_built', 'bedrooms', 'bathrooms', 'sqrt_ft', 'garage',\n",
              "       'kitchen_features', 'fireplaces', 'floor_covering', 'HOA'],\n",
              "      dtype='object')"
            ]
          },
          "metadata": {},
          "execution_count": 5
        }
      ]
    },
    {
      "cell_type": "code",
      "source": [
        "# checking DataFrame size\n",
        "house_data.shape"
      ],
      "metadata": {
        "colab": {
          "base_uri": "https://localhost:8080/"
        },
        "id": "_PqCBl3JsYOh",
        "outputId": "466e7fac-1d76-4b3b-fba4-94d96b076b0e",
        "collapsed": true
      },
      "execution_count": null,
      "outputs": [
        {
          "output_type": "execute_result",
          "data": {
            "text/plain": [
              "(5000, 16)"
            ]
          },
          "metadata": {},
          "execution_count": 6
        }
      ]
    },
    {
      "cell_type": "code",
      "source": [
        "# checking duplicate rows in the dataframe\n",
        "duplicates = house_data.duplicated()\n",
        "len(duplicates[duplicates==True])"
      ],
      "metadata": {
        "colab": {
          "base_uri": "https://localhost:8080/"
        },
        "collapsed": true,
        "id": "voS0Vv2DslKL",
        "outputId": "fd88d495-054a-433c-8241-733b4a2bcc1c"
      },
      "execution_count": null,
      "outputs": [
        {
          "output_type": "execute_result",
          "data": {
            "text/plain": [
              "0"
            ]
          },
          "metadata": {},
          "execution_count": 11
        }
      ]
    },
    {
      "cell_type": "code",
      "source": [
        "# checking if there is missing data\n",
        "columns_to_check = ['MLS','sold_price','zipcode','longitude','latitude','lot_acres','taxes','year_built','bedrooms','bathrooms','sqrt_ft','garage','kitchen_features','fireplaces','floor_covering','HOA']\n",
        "nul_count = house_data[columns_to_check].isnull()\n",
        "nul_count.sum()"
      ],
      "metadata": {
        "colab": {
          "base_uri": "https://localhost:8080/",
          "height": 585
        },
        "id": "sSKDtoKVt1OG",
        "outputId": "1fa71c16-7d8a-4a89-f36a-659effcfa008",
        "collapsed": true
      },
      "execution_count": null,
      "outputs": [
        {
          "output_type": "execute_result",
          "data": {
            "text/plain": [
              "MLS                   0\n",
              "sold_price            0\n",
              "zipcode               0\n",
              "longitude             0\n",
              "latitude              0\n",
              "lot_acres            10\n",
              "taxes                 0\n",
              "year_built            0\n",
              "bedrooms              0\n",
              "bathrooms             6\n",
              "sqrt_ft              56\n",
              "garage                7\n",
              "kitchen_features     33\n",
              "fireplaces           25\n",
              "floor_covering        1\n",
              "HOA                 562\n",
              "dtype: int64"
            ],
            "text/html": [
              "<div>\n",
              "<style scoped>\n",
              "    .dataframe tbody tr th:only-of-type {\n",
              "        vertical-align: middle;\n",
              "    }\n",
              "\n",
              "    .dataframe tbody tr th {\n",
              "        vertical-align: top;\n",
              "    }\n",
              "\n",
              "    .dataframe thead th {\n",
              "        text-align: right;\n",
              "    }\n",
              "</style>\n",
              "<table border=\"1\" class=\"dataframe\">\n",
              "  <thead>\n",
              "    <tr style=\"text-align: right;\">\n",
              "      <th></th>\n",
              "      <th>0</th>\n",
              "    </tr>\n",
              "  </thead>\n",
              "  <tbody>\n",
              "    <tr>\n",
              "      <th>MLS</th>\n",
              "      <td>0</td>\n",
              "    </tr>\n",
              "    <tr>\n",
              "      <th>sold_price</th>\n",
              "      <td>0</td>\n",
              "    </tr>\n",
              "    <tr>\n",
              "      <th>zipcode</th>\n",
              "      <td>0</td>\n",
              "    </tr>\n",
              "    <tr>\n",
              "      <th>longitude</th>\n",
              "      <td>0</td>\n",
              "    </tr>\n",
              "    <tr>\n",
              "      <th>latitude</th>\n",
              "      <td>0</td>\n",
              "    </tr>\n",
              "    <tr>\n",
              "      <th>lot_acres</th>\n",
              "      <td>10</td>\n",
              "    </tr>\n",
              "    <tr>\n",
              "      <th>taxes</th>\n",
              "      <td>0</td>\n",
              "    </tr>\n",
              "    <tr>\n",
              "      <th>year_built</th>\n",
              "      <td>0</td>\n",
              "    </tr>\n",
              "    <tr>\n",
              "      <th>bedrooms</th>\n",
              "      <td>0</td>\n",
              "    </tr>\n",
              "    <tr>\n",
              "      <th>bathrooms</th>\n",
              "      <td>6</td>\n",
              "    </tr>\n",
              "    <tr>\n",
              "      <th>sqrt_ft</th>\n",
              "      <td>56</td>\n",
              "    </tr>\n",
              "    <tr>\n",
              "      <th>garage</th>\n",
              "      <td>7</td>\n",
              "    </tr>\n",
              "    <tr>\n",
              "      <th>kitchen_features</th>\n",
              "      <td>33</td>\n",
              "    </tr>\n",
              "    <tr>\n",
              "      <th>fireplaces</th>\n",
              "      <td>25</td>\n",
              "    </tr>\n",
              "    <tr>\n",
              "      <th>floor_covering</th>\n",
              "      <td>1</td>\n",
              "    </tr>\n",
              "    <tr>\n",
              "      <th>HOA</th>\n",
              "      <td>562</td>\n",
              "    </tr>\n",
              "  </tbody>\n",
              "</table>\n",
              "</div><br><label><b>dtype:</b> int64</label>"
            ]
          },
          "metadata": {},
          "execution_count": 13
        }
      ]
    },
    {
      "cell_type": "code",
      "source": [
        "# Creating a function to remove null, 0 and outliers\n",
        "def remove_nul_zero_outliers(df,column):\n",
        "  house_data_non_zero = df[df[column] != 0]\n",
        "  house_data_non_nul = house_data_non_zero[house_data_non_zero[column].notna()]\n",
        "\n",
        "  Q1 = house_data_non_nul[column].quantile(0.25)\n",
        "  Q3 = house_data_non_nul[column].quantile(0.75)\n",
        "  IQR = Q3-Q1\n",
        "  lower_bound = Q1-1.5*IQR\n",
        "  upper_bound = Q3+1.5*IQR\n",
        "  print(f'IQR: {IQR} ,lower_bound: {lower_bound}, upper_bound: {upper_bound}')\n",
        "\n",
        "  house_data_outlier_removed = house_data_non_nul[(house_data_non_nul[column]<= upper_bound) & (house_data_non_nul[column]>= lower_bound)]\n",
        "\n",
        "  # ploting histograms\n",
        "  plt.figure(figsize=(10,6))\n",
        "  sns.histplot(house_data_outlier_removed[column], bins=50)\n",
        "  plt.show()\n",
        "\n",
        "  return house_data_outlier_removed\n",
        "\n",
        "# replace null, 0 with median\n",
        "def replace_null_zero_with_median(house_data_outlier_removed,column,df):\n",
        "  column_median = house_data_outlier_removed[column].median()\n",
        "  house_data_replaced = df.copy()\n",
        "  house_data_replaced[column] = house_data_replaced[column].replace(0,column_median)\n",
        "  house_data_replaced[column] = house_data_replaced[column].fillna(column_median)\n",
        "\n",
        "  return house_data_replaced\n",
        "\n",
        "# replace null, 0 with mean\n",
        "def replace_null_zero_with_mean(house_data_outlier_removed,column,df):\n",
        "  column_mean = house_data_outlier_removed[column].mean()\n",
        "  house_data_replaced = df.copy()\n",
        "  house_data_replaced[column] = house_data_replaced[column].replace(0,column_mean)\n",
        "  house_data_replaced[column] = house_data_replaced[column].fillna(column_mean)\n",
        "\n",
        "  return house_data_replaced\n"
      ],
      "metadata": {
        "id": "aAJ-halIuQI0"
      },
      "execution_count": 11,
      "outputs": []
    },
    {
      "cell_type": "markdown",
      "source": [
        "lot_acres"
      ],
      "metadata": {
        "id": "PaUHPGB_-vN7"
      }
    },
    {
      "cell_type": "code",
      "source": [
        "#cleaning lot_acres column\n",
        "column = 'lot_acres'\n",
        "house_data_outlier_removed_lot_acres = remove_nul_zero_outliers(house_data,column)"
      ],
      "metadata": {
        "colab": {
          "base_uri": "https://localhost:8080/",
          "height": 564
        },
        "collapsed": true,
        "id": "8lLrEgDU51kN",
        "outputId": "6974df64-89a4-48ee-c245-8f4104856389"
      },
      "execution_count": 15,
      "outputs": [
        {
          "output_type": "stream",
          "name": "stdout",
          "text": [
            "IQR: 1.185 ,lower_bound: -1.1875, upper_bound: 3.5525\n"
          ]
        },
        {
          "output_type": "display_data",
          "data": {
            "text/plain": [
              "<Figure size 1000x600 with 1 Axes>"
            ],
            "image/png": "[encoded data removed]"
          },
          "metadata": {}
        }
      ]
    },
    {
      "cell_type": "code",
      "source": [
        "# replace lot_acers column\n",
        "column = 'lot_acres'\n",
        "house_data_replaced_lot_acres = replace_null_zero_with_median(house_data_outlier_removed_lot_acres,column,house_data)\n"
      ],
      "metadata": {
        "id": "0dNJjeRh2Dyt"
      },
      "execution_count": 16,
      "outputs": []
    },
    {
      "cell_type": "markdown",
      "source": [
        "sqrt_ft"
      ],
      "metadata": {
        "id": "fJbkqLMT-hgt"
      }
    },
    {
      "cell_type": "code",
      "source": [
        "#cleaning sqrt_ft column\n",
        "column = 'sqrt_ft'\n",
        "house_data_outlier_removed_sqrt_ft = remove_nul_zero_outliers(house_data_replaced_lot_acres,column)"
      ],
      "metadata": {
        "colab": {
          "base_uri": "https://localhost:8080/",
          "height": 559
        },
        "outputId": "4651f919-f9bd-4226-9557-01c06eca6b61",
        "id": "jUUHjnKq-DXJ",
        "collapsed": true
      },
      "execution_count": 17,
      "outputs": [
        {
          "output_type": "stream",
          "name": "stdout",
          "text": [
            "IQR: 1083.25 ,lower_bound: 1422.125, upper_bound: 5755.125\n"
          ]
        },
        {
          "output_type": "display_data",
          "data": {
            "text/plain": [
              "<Figure size 1000x600 with 1 Axes>"
            ],
            "image/png": "[encoded data removed]"
          },
          "metadata": {}
        }
      ]
    },
    {
      "cell_type": "code",
      "source": [
        "# replace sqrt_ft column\n",
        "column = 'sqrt_ft'\n",
        "house_data_replaced_sqrt_ft = replace_null_zero_with_mean(house_data_outlier_removed_sqrt_ft,column,house_data_replaced_lot_acres)\n"
      ],
      "metadata": {
        "id": "RoPuHHEo-SK6"
      },
      "execution_count": 18,
      "outputs": []
    },
    {
      "cell_type": "markdown",
      "source": [
        "taxes"
      ],
      "metadata": {
        "id": "yyaIoAWK-_HM"
      }
    },
    {
      "cell_type": "code",
      "source": [
        "#cleaning taxes column\n",
        "column = 'taxes'\n",
        "house_data_outlier_removed_taxes = remove_nul_zero_outliers(house_data_replaced_sqrt_ft,column)"
      ],
      "metadata": {
        "colab": {
          "base_uri": "https://localhost:8080/",
          "height": 559
        },
        "collapsed": true,
        "outputId": "d199ef0c-0f7a-4bc7-c603-64e7f8af6301",
        "id": "uHk0mAx1-eAY"
      },
      "execution_count": 19,
      "outputs": [
        {
          "output_type": "stream",
          "name": "stdout",
          "text": [
            "IQR: 3277.2999999999993 ,lower_bound: -93.74999999999818, upper_bound: 13015.449999999999\n"
          ]
        },
        {
          "output_type": "display_data",
          "data": {
            "text/plain": [
              "<Figure size 1000x600 with 1 Axes>"
            ],
            "image/png": "[encoded data removed]"
          },
          "metadata": {}
        }
      ]
    },
    {
      "cell_type": "code",
      "source": [
        "# replace taxes column\n",
        "column = 'taxes'\n",
        "house_data_replaced_taxes = replace_null_zero_with_mean(house_data_outlier_removed_taxes,column,house_data_replaced_sqrt_ft)\n"
      ],
      "metadata": {
        "id": "pJx8HACB_Q2V"
      },
      "execution_count": 20,
      "outputs": []
    },
    {
      "cell_type": "markdown",
      "source": [
        "HOA"
      ],
      "metadata": {
        "id": "7IccAa9fhkHv"
      }
    },
    {
      "cell_type": "code",
      "source": [
        "#converting the data type in the  HOA columns\n",
        "house_data['HOA'] = house_data['HOA'].str.replace(',','',regex=True)\n",
        "house_data['HOA'] = house_data['HOA'].astype(float)"
      ],
      "metadata": {
        "id": "l5_RsJU0hjJJ"
      },
      "execution_count": 13,
      "outputs": []
    },
    {
      "cell_type": "code",
      "source": [
        "#cleaning HOA column\n",
        "column = 'HOA'\n",
        "house_data_outlier_removed_hoa = remove_nul_zero_outliers(house_data_replaced_taxes,column)"
      ],
      "metadata": {
        "colab": {
          "base_uri": "https://localhost:8080/",
          "height": 559
        },
        "id": "ZUAzX72Yi4es",
        "outputId": "7d26fea6-00db-4dc1-ea68-9a1de8a786da"
      },
      "execution_count": 21,
      "outputs": [
        {
          "output_type": "stream",
          "name": "stdout",
          "text": [
            "IQR: 108.0 ,lower_bound: -122.0, upper_bound: 310.0\n"
          ]
        },
        {
          "output_type": "display_data",
          "data": {
            "text/plain": [
              "<Figure size 1000x600 with 1 Axes>"
            ],
            "image/png": "[encoded data removed]"
          },
          "metadata": {}
        }
      ]
    },
    {
      "cell_type": "code",
      "source": [
        "#since its a bit skewd distribution  impute the column with median\n",
        "column = 'HOA'\n",
        "house_data_replaced_hoa = replace_null_zero_with_median(house_data_outlier_removed_hoa,column,house_data_replaced_taxes)\n"
      ],
      "metadata": {
        "id": "WGtgjD0sjocK"
      },
      "execution_count": 22,
      "outputs": []
    },
    {
      "cell_type": "code",
      "source": [
        "# checking DataFrame size\n",
        "#house_data_replaced_hoa.shape\n",
        "house_data_replaced_hoa.dtypes"
      ],
      "metadata": {
        "colab": {
          "base_uri": "https://localhost:8080/",
          "height": 585
        },
        "id": "ZoYxhy-dA2iB",
        "outputId": "1c8360d4-5d6f-41df-8178-2ab344f42dfc",
        "collapsed": true
      },
      "execution_count": 27,
      "outputs": [
        {
          "output_type": "execute_result",
          "data": {
            "text/plain": [
              "MLS                   int64\n",
              "sold_price          float64\n",
              "zipcode               int64\n",
              "longitude           float64\n",
              "latitude            float64\n",
              "lot_acres           float64\n",
              "taxes               float64\n",
              "year_built            int64\n",
              "bedrooms              int64\n",
              "bathrooms           float64\n",
              "sqrt_ft             float64\n",
              "garage              float64\n",
              "kitchen_features     object\n",
              "fireplaces          float64\n",
              "floor_covering       object\n",
              "HOA                 float64\n",
              "dtype: object"
            ],
            "text/html": [
              "<div>\n",
              "<style scoped>\n",
              "    .dataframe tbody tr th:only-of-type {\n",
              "        vertical-align: middle;\n",
              "    }\n",
              "\n",
              "    .dataframe tbody tr th {\n",
              "        vertical-align: top;\n",
              "    }\n",
              "\n",
              "    .dataframe thead th {\n",
              "        text-align: right;\n",
              "    }\n",
              "</style>\n",
              "<table border=\"1\" class=\"dataframe\">\n",
              "  <thead>\n",
              "    <tr style=\"text-align: right;\">\n",
              "      <th></th>\n",
              "      <th>0</th>\n",
              "    </tr>\n",
              "  </thead>\n",
              "  <tbody>\n",
              "    <tr>\n",
              "      <th>MLS</th>\n",
              "      <td>int64</td>\n",
              "    </tr>\n",
              "    <tr>\n",
              "      <th>sold_price</th>\n",
              "      <td>float64</td>\n",
              "    </tr>\n",
              "    <tr>\n",
              "      <th>zipcode</th>\n",
              "      <td>int64</td>\n",
              "    </tr>\n",
              "    <tr>\n",
              "      <th>longitude</th>\n",
              "      <td>float64</td>\n",
              "    </tr>\n",
              "    <tr>\n",
              "      <th>latitude</th>\n",
              "      <td>float64</td>\n",
              "    </tr>\n",
              "    <tr>\n",
              "      <th>lot_acres</th>\n",
              "      <td>float64</td>\n",
              "    </tr>\n",
              "    <tr>\n",
              "      <th>taxes</th>\n",
              "      <td>float64</td>\n",
              "    </tr>\n",
              "    <tr>\n",
              "      <th>year_built</th>\n",
              "      <td>int64</td>\n",
              "    </tr>\n",
              "    <tr>\n",
              "      <th>bedrooms</th>\n",
              "      <td>int64</td>\n",
              "    </tr>\n",
              "    <tr>\n",
              "      <th>bathrooms</th>\n",
              "      <td>float64</td>\n",
              "    </tr>\n",
              "    <tr>\n",
              "      <th>sqrt_ft</th>\n",
              "      <td>float64</td>\n",
              "    </tr>\n",
              "    <tr>\n",
              "      <th>garage</th>\n",
              "      <td>float64</td>\n",
              "    </tr>\n",
              "    <tr>\n",
              "      <th>kitchen_features</th>\n",
              "      <td>object</td>\n",
              "    </tr>\n",
              "    <tr>\n",
              "      <th>fireplaces</th>\n",
              "      <td>float64</td>\n",
              "    </tr>\n",
              "    <tr>\n",
              "      <th>floor_covering</th>\n",
              "      <td>object</td>\n",
              "    </tr>\n",
              "    <tr>\n",
              "      <th>HOA</th>\n",
              "      <td>float64</td>\n",
              "    </tr>\n",
              "  </tbody>\n",
              "</table>\n",
              "</div><br><label><b>dtype:</b> object</label>"
            ]
          },
          "metadata": {},
          "execution_count": 27
        }
      ]
    },
    {
      "cell_type": "code",
      "source": [
        "# checking if there is missing data\n",
        "columns_to_check = ['lot_acres','taxes','sqrt_ft','HOA']\n",
        "nul_count = house_data_replaced_hoa[columns_to_check].isnull()\n",
        "nul_count.sum()"
      ],
      "metadata": {
        "colab": {
          "base_uri": "https://localhost:8080/",
          "height": 209
        },
        "id": "XQm1oyXGA7LJ",
        "outputId": "29b22bab-9915-477e-90e6-a678c77f02ca",
        "collapsed": true
      },
      "execution_count": 29,
      "outputs": [
        {
          "output_type": "execute_result",
          "data": {
            "text/plain": [
              "lot_acres    0\n",
              "taxes        0\n",
              "sqrt_ft      0\n",
              "HOA          0\n",
              "dtype: int64"
            ],
            "text/html": [
              "<div>\n",
              "<style scoped>\n",
              "    .dataframe tbody tr th:only-of-type {\n",
              "        vertical-align: middle;\n",
              "    }\n",
              "\n",
              "    .dataframe tbody tr th {\n",
              "        vertical-align: top;\n",
              "    }\n",
              "\n",
              "    .dataframe thead th {\n",
              "        text-align: right;\n",
              "    }\n",
              "</style>\n",
              "<table border=\"1\" class=\"dataframe\">\n",
              "  <thead>\n",
              "    <tr style=\"text-align: right;\">\n",
              "      <th></th>\n",
              "      <th>0</th>\n",
              "    </tr>\n",
              "  </thead>\n",
              "  <tbody>\n",
              "    <tr>\n",
              "      <th>lot_acres</th>\n",
              "      <td>0</td>\n",
              "    </tr>\n",
              "    <tr>\n",
              "      <th>taxes</th>\n",
              "      <td>0</td>\n",
              "    </tr>\n",
              "    <tr>\n",
              "      <th>sqrt_ft</th>\n",
              "      <td>0</td>\n",
              "    </tr>\n",
              "    <tr>\n",
              "      <th>HOA</th>\n",
              "      <td>0</td>\n",
              "    </tr>\n",
              "  </tbody>\n",
              "</table>\n",
              "</div><br><label><b>dtype:</b> int64</label>"
            ]
          },
          "metadata": {},
          "execution_count": 29
        }
      ]
    },
    {
      "cell_type": "code",
      "source": [
        "# saving the imputed dataframe with outliers\n",
        "house_data_replaced_hoa.to_csv('house_data_clean_imputed.csv')"
      ],
      "metadata": {
        "id": "B6k_QgVhDf_P"
      },
      "execution_count": 30,
      "outputs": []
    },
    {
      "cell_type": "code",
      "source": [
        "house_data_cleaned = house_data_replaced_taxes.copy()"
      ],
      "metadata": {
        "id": "IkszGbHXGLaa"
      },
      "execution_count": null,
      "outputs": []
    },
    {
      "cell_type": "code",
      "source": [
        "# plot corelation graph with outliers\n",
        "cols_selected = ['sqrt_ft','taxes','zipcode','year_built','lot_acres']\n",
        "df_house_data_selected = house_data_cleaned[cols_selected]\n",
        "\n",
        "# sns.pairplot(df_house_data_selected)\n",
        "# plt.show()\n",
        "\n",
        "plt.figure(figsize=(10,5))\n",
        "c = df_house_data_selected.corr()\n",
        "sns.heatmap(c, cmap=\"BrBG\", annot =True)"
      ],
      "metadata": {
        "colab": {
          "base_uri": "https://localhost:8080/",
          "height": 468
        },
        "id": "oUIwNI6tFm_I",
        "outputId": "43b06f66-9ea2-4302-edf2-558f5125234c",
        "collapsed": true
      },
      "execution_count": null,
      "outputs": [
        {
          "output_type": "execute_result",
          "data": {
            "text/plain": [
              "<Axes: >"
            ]
          },
          "metadata": {},
          "execution_count": 43
        },
        {
          "output_type": "display_data",
          "data": {
            "text/plain": [
              "<Figure size 1000x500 with 2 Axes>"
            ],
            "image/png": "[encoded data removed]"
          },
          "metadata": {}
        }
      ]
    },
    {
      "cell_type": "code",
      "source": [
        "def remove_outliers(df,column):\n",
        "\n",
        "  Q1 = df[column].quantile(0.25)\n",
        "  Q3 = df[column].quantile(0.75)\n",
        "  IQR = Q3-Q1\n",
        "  lower_bound = Q1-1.5*IQR\n",
        "  upper_bound = Q3+1.5*IQR\n",
        "\n",
        "  df_outlier_removed = df[(df[column]<= upper_bound) & (df[column]>= lower_bound)]\n",
        "\n",
        "  return df_outlier_removed\n",
        "\n",
        "\n",
        "columns = ['sqrt_ft','taxes','lot_acres']\n",
        "\n",
        "df = house_data_cleaned\n",
        "\n",
        "for col in columns:\n",
        "  df_outlier_removed = remove_outliers(df,col)\n",
        "  df = df_outlier_removed\n",
        "\n",
        "# plot corelation graph without outliers\n",
        "cols_selected = ['sqrt_ft','taxes','zipcode','year_built','lot_acres']\n",
        "df_house_data_selected = df[cols_selected]\n",
        "\n",
        "plt.figure(figsize=(10,5))\n",
        "c = df_house_data_selected.corr()\n",
        "sns.heatmap(c, cmap=\"BrBG\", annot =True)"
      ],
      "metadata": {
        "colab": {
          "base_uri": "https://localhost:8080/",
          "height": 468
        },
        "collapsed": true,
        "id": "ZdbX21SwHGdc",
        "outputId": "b6df6289-4e2f-4d79-82b1-6340c25af4ea"
      },
      "execution_count": null,
      "outputs": [
        {
          "output_type": "execute_result",
          "data": {
            "text/plain": [
              "<Axes: >"
            ]
          },
          "metadata": {},
          "execution_count": 45
        },
        {
          "output_type": "display_data",
          "data": {
            "text/plain": [
              "<Figure size 1000x500 with 2 Axes>"
            ],
            "image/png": "[encoded data removed]"
          },
          "metadata": {}
        }
      ]
    },
    {
      "cell_type": "code",
      "source": [
        "# size of outlier removed dataframe\n",
        "df.shape"
      ],
      "metadata": {
        "colab": {
          "base_uri": "https://localhost:8080/"
        },
        "id": "XT0lCs-9LiBc",
        "outputId": "f71f0004-a5b6-4b99-bcc0-9b597fdf39e3"
      },
      "execution_count": null,
      "outputs": [
        {
          "output_type": "execute_result",
          "data": {
            "text/plain": [
              "(3771, 16)"
            ]
          },
          "metadata": {},
          "execution_count": 46
        }
      ]
    },
    {
      "cell_type": "code",
      "source": [
        "# saving the imputed dataframe with outlier removed\n",
        "df.to_csv('house_data_clean_outlier_removed.csv')\n"
      ],
      "metadata": {
        "id": "VAkU509TMAQL"
      },
      "execution_count": null,
      "outputs": []
    },
    {
      "cell_type": "code",
      "source": [
        "# importing imputed outlier removed data\n",
        "house_data_clean_outlier_removed = pd.read_csv('/content/house_data_clean_outlier_removed.csv')\n",
        "house_data_clean_outlier_removed.head()"
      ],
      "metadata": {
        "colab": {
          "base_uri": "https://localhost:8080/",
          "height": 417
        },
        "id": "r1TBwJVQGS-D",
        "outputId": "8f04745e-a495-42d4-8674-32a82b34a344",
        "collapsed": true
      },
      "execution_count": 3,
      "outputs": [
        {
          "output_type": "execute_result",
          "data": {
            "text/plain": [
              "   Unnamed: 0       MLS  sold_price  zipcode   longitude   latitude  \\\n",
              "0          20  21207846   2600000.0    85739 -110.883065  32.508778   \n",
              "1          40  21221120   2224506.0    85658 -111.096767  32.467444   \n",
              "2          44  21824716   2331000.0    85718 -110.941781  32.350810   \n",
              "3          46  21707019   2296443.0    85658 -111.096171  32.467398   \n",
              "4          57  21601233   1750000.0    85718 -110.877379  32.331167   \n",
              "\n",
              "   lot_acres     taxes  year_built  bedrooms  bathrooms  sqrt_ft  garage  \\\n",
              "0       0.90   8753.35        2008         3        3.0   3095.0     0.0   \n",
              "1       0.77   1286.59        2012         3        4.0   4724.0     3.0   \n",
              "2       1.26   6656.20        2018         4        6.0   5550.0     4.0   \n",
              "3       0.91   1896.71        2018         3        4.0   4850.0     3.0   \n",
              "4       1.31  10956.02        1994         4        6.0   4907.0     3.0   \n",
              "\n",
              "                                    kitchen_features  fireplaces  \\\n",
              "0  Dishwasher, Garbage Disposal, Refrigerator, Mi...         3.0   \n",
              "1  Dishwasher, Garbage Disposal, Refrigerator, Mi...         2.0   \n",
              "2  Dishwasher, Garbage Disposal, Gas Range, Islan...         1.0   \n",
              "3  Dishwasher, Freezer, Garbage Disposal, Refrige...         2.0   \n",
              "4  Dishwasher, Garbage Disposal, Refrigerator, Mi...         4.0   \n",
              "\n",
              "                floor_covering  HOA  \n",
              "0          Natural Stone, Wood    0  \n",
              "1  Carpet, Natural Stone, Wood  550  \n",
              "2                 Ceramic Tile  169  \n",
              "3        Carpet, Natural Stone  550  \n",
              "4        Carpet, Natural Stone  258  "
            ],
            "text/html": [
              "\n",
              "  <div id=\"df-4481d458-0e03-46ff-ad99-19248d804694\" class=\"colab-df-container\">\n",
              "    <div>\n",
              "<style scoped>\n",
              "    .dataframe tbody tr th:only-of-type {\n",
              "        vertical-align: middle;\n",
              "    }\n",
              "\n",
              "    .dataframe tbody tr th {\n",
              "        vertical-align: top;\n",
              "    }\n",
              "\n",
              "    .dataframe thead th {\n",
              "        text-align: right;\n",
              "    }\n",
              "</style>\n",
              "<table border=\"1\" class=\"dataframe\">\n",
              "  <thead>\n",
              "    <tr style=\"text-align: right;\">\n",
              "      <th></th>\n",
              "      <th>Unnamed: 0</th>\n",
              "      <th>MLS</th>\n",
              "      <th>sold_price</th>\n",
              "      <th>zipcode</th>\n",
              "      <th>longitude</th>\n",
              "      <th>latitude</th>\n",
              "      <th>lot_acres</th>\n",
              "      <th>taxes</th>\n",
              "      <th>year_built</th>\n",
              "      <th>bedrooms</th>\n",
              "      <th>bathrooms</th>\n",
              "      <th>sqrt_ft</th>\n",
              "      <th>garage</th>\n",
              "      <th>kitchen_features</th>\n",
              "      <th>fireplaces</th>\n",
              "      <th>floor_covering</th>\n",
              "      <th>HOA</th>\n",
              "    </tr>\n",
              "  </thead>\n",
              "  <tbody>\n",
              "    <tr>\n",
              "      <th>0</th>\n",
              "      <td>20</td>\n",
              "      <td>21207846</td>\n",
              "      <td>2600000.0</td>\n",
              "      <td>85739</td>\n",
              "      <td>-110.883065</td>\n",
              "      <td>32.508778</td>\n",
              "      <td>0.90</td>\n",
              "      <td>8753.35</td>\n",
              "      <td>2008</td>\n",
              "      <td>3</td>\n",
              "      <td>3.0</td>\n",
              "      <td>3095.0</td>\n",
              "      <td>0.0</td>\n",
              "      <td>Dishwasher, Garbage Disposal, Refrigerator, Mi...</td>\n",
              "      <td>3.0</td>\n",
              "      <td>Natural Stone, Wood</td>\n",
              "      <td>0</td>\n",
              "    </tr>\n",
              "    <tr>\n",
              "      <th>1</th>\n",
              "      <td>40</td>\n",
              "      <td>21221120</td>\n",
              "      <td>2224506.0</td>\n",
              "      <td>85658</td>\n",
              "      <td>-111.096767</td>\n",
              "      <td>32.467444</td>\n",
              "      <td>0.77</td>\n",
              "      <td>1286.59</td>\n",
              "      <td>2012</td>\n",
              "      <td>3</td>\n",
              "      <td>4.0</td>\n",
              "      <td>4724.0</td>\n",
              "      <td>3.0</td>\n",
              "      <td>Dishwasher, Garbage Disposal, Refrigerator, Mi...</td>\n",
              "      <td>2.0</td>\n",
              "      <td>Carpet, Natural Stone, Wood</td>\n",
              "      <td>550</td>\n",
              "    </tr>\n",
              "    <tr>\n",
              "      <th>2</th>\n",
              "      <td>44</td>\n",
              "      <td>21824716</td>\n",
              "      <td>2331000.0</td>\n",
              "      <td>85718</td>\n",
              "      <td>-110.941781</td>\n",
              "      <td>32.350810</td>\n",
              "      <td>1.26</td>\n",
              "      <td>6656.20</td>\n",
              "      <td>2018</td>\n",
              "      <td>4</td>\n",
              "      <td>6.0</td>\n",
              "      <td>5550.0</td>\n",
              "      <td>4.0</td>\n",
              "      <td>Dishwasher, Garbage Disposal, Gas Range, Islan...</td>\n",
              "      <td>1.0</td>\n",
              "      <td>Ceramic Tile</td>\n",
              "      <td>169</td>\n",
              "    </tr>\n",
              "    <tr>\n",
              "      <th>3</th>\n",
              "      <td>46</td>\n",
              "      <td>21707019</td>\n",
              "      <td>2296443.0</td>\n",
              "      <td>85658</td>\n",
              "      <td>-111.096171</td>\n",
              "      <td>32.467398</td>\n",
              "      <td>0.91</td>\n",
              "      <td>1896.71</td>\n",
              "      <td>2018</td>\n",
              "      <td>3</td>\n",
              "      <td>4.0</td>\n",
              "      <td>4850.0</td>\n",
              "      <td>3.0</td>\n",
              "      <td>Dishwasher, Freezer, Garbage Disposal, Refrige...</td>\n",
              "      <td>2.0</td>\n",
              "      <td>Carpet, Natural Stone</td>\n",
              "      <td>550</td>\n",
              "    </tr>\n",
              "    <tr>\n",
              "      <th>4</th>\n",
              "      <td>57</td>\n",
              "      <td>21601233</td>\n",
              "      <td>1750000.0</td>\n",
              "      <td>85718</td>\n",
              "      <td>-110.877379</td>\n",
              "      <td>32.331167</td>\n",
              "      <td>1.31</td>\n",
              "      <td>10956.02</td>\n",
              "      <td>1994</td>\n",
              "      <td>4</td>\n",
              "      <td>6.0</td>\n",
              "      <td>4907.0</td>\n",
              "      <td>3.0</td>\n",
              "      <td>Dishwasher, Garbage Disposal, Refrigerator, Mi...</td>\n",
              "      <td>4.0</td>\n",
              "      <td>Carpet, Natural Stone</td>\n",
              "      <td>258</td>\n",
              "    </tr>\n",
              "  </tbody>\n",
              "</table>\n",
              "</div>\n",
              "    <div class=\"colab-df-buttons\">\n",
              "\n",
              "  <div class=\"colab-df-container\">\n",
              "    <button class=\"colab-df-convert\" onclick=\"convertToInteractive('df-4481d458-0e03-46ff-ad99-19248d804694')\"\n",
              "            title=\"Convert this dataframe to an interactive table.\"\n",
              "            style=\"display:none;\">\n",
              "\n",
              "  <svg xmlns=\"http://www.w3.org/2000/svg\" height=\"24px\" viewBox=\"0 -960 960 960\">\n",
              "    <path d=\"M120-120v-720h720v720H120Zm60-500h600v-160H180v160Zm220 220h160v-160H400v160Zm0 220h160v-160H400v160ZM180-400h160v-160H180v160Zm440 0h160v-160H620v160ZM180-180h160v-160H180v160Zm440 0h160v-160H620v160Z\"/>\n",
              "  </svg>\n",
              "    </button>\n",
              "\n",
              "  <style>\n",
              "    .colab-df-container {\n",
              "      display:flex;\n",
              "      gap: 12px;\n",
              "    }\n",
              "\n",
              "    .colab-df-convert {\n",
              "      background-color: #E8F0FE;\n",
              "      border: none;\n",
              "      border-radius: 50%;\n",
              "      cursor: pointer;\n",
              "      display: none;\n",
              "      fill: #1967D2;\n",
              "      height: 32px;\n",
              "      padding: 0 0 0 0;\n",
              "      width: 32px;\n",
              "    }\n",
              "\n",
              "    .colab-df-convert:hover {\n",
              "      background-color: #E2EBFA;\n",
              "      box-shadow: 0px 1px 2px rgba(60, 64, 67, 0.3), 0px 1px 3px 1px rgba(60, 64, 67, 0.15);\n",
              "      fill: #174EA6;\n",
              "    }\n",
              "\n",
              "    .colab-df-buttons div {\n",
              "      margin-bottom: 4px;\n",
              "    }\n",
              "\n",
              "    [theme=dark] .colab-df-convert {\n",
              "      background-color: #3B4455;\n",
              "      fill: #D2E3FC;\n",
              "    }\n",
              "\n",
              "    [theme=dark] .colab-df-convert:hover {\n",
              "      background-color: #434B5C;\n",
              "      box-shadow: 0px 1px 3px 1px rgba(0, 0, 0, 0.15);\n",
              "      filter: drop-shadow(0px 1px 2px rgba(0, 0, 0, 0.3));\n",
              "      fill: #FFFFFF;\n",
              "    }\n",
              "  </style>\n",
              "\n",
              "    <script>\n",
              "      const buttonEl =\n",
              "        document.querySelector('#df-4481d458-0e03-46ff-ad99-19248d804694 button.colab-df-convert');\n",
              "      buttonEl.style.display =\n",
              "        google.colab.kernel.accessAllowed ? 'block' : 'none';\n",
              "\n",
              "      async function convertToInteractive(key) {\n",
              "        const element = document.querySelector('#df-4481d458-0e03-46ff-ad99-19248d804694');\n",
              "        const dataTable =\n",
              "          await google.colab.kernel.invokeFunction('convertToInteractive',\n",
              "                                                    [key], {});\n",
              "        if (!dataTable) return;\n",
              "\n",
              "        const docLinkHtml = 'Like what you see? Visit the ' +\n",
              "          '<a target=\"_blank\" href=https://colab.research.google.com/notebooks/data_table.ipynb>data table notebook</a>'\n",
              "          + ' to learn more about interactive tables.';\n",
              "        element.innerHTML = '';\n",
              "        dataTable['output_type'] = 'display_data';\n",
              "        await google.colab.output.renderOutput(dataTable, element);\n",
              "        const docLink = document.createElement('div');\n",
              "        docLink.innerHTML = docLinkHtml;\n",
              "        element.appendChild(docLink);\n",
              "      }\n",
              "    </script>\n",
              "  </div>\n",
              "\n",
              "\n",
              "<div id=\"df-985fe725-dc97-444e-8e45-e1e0215bf573\">\n",
              "  <button class=\"colab-df-quickchart\" onclick=\"quickchart('df-985fe725-dc97-444e-8e45-e1e0215bf573')\"\n",
              "            title=\"Suggest charts\"\n",
              "            style=\"display:none;\">\n",
              "\n",
              "<svg xmlns=\"http://www.w3.org/2000/svg\" height=\"24px\"viewBox=\"0 0 24 24\"\n",
              "     width=\"24px\">\n",
              "    <g>\n",
              "        <path d=\"M19 3H5c-1.1 0-2 .9-2 2v14c0 1.1.9 2 2 2h14c1.1 0 2-.9 2-2V5c0-1.1-.9-2-2-2zM9 17H7v-7h2v7zm4 0h-2V7h2v10zm4 0h-2v-4h2v4z\"/>\n",
              "    </g>\n",
              "</svg>\n",
              "  </button>\n",
              "\n",
              "<style>\n",
              "  .colab-df-quickchart {\n",
              "      --bg-color: #E8F0FE;\n",
              "      --fill-color: #1967D2;\n",
              "      --hover-bg-color: #E2EBFA;\n",
              "      --hover-fill-color: #174EA6;\n",
              "      --disabled-fill-color: #AAA;\n",
              "      --disabled-bg-color: #DDD;\n",
              "  }\n",
              "\n",
              "  [theme=dark] .colab-df-quickchart {\n",
              "      --bg-color: #3B4455;\n",
              "      --fill-color: #D2E3FC;\n",
              "      --hover-bg-color: #434B5C;\n",
              "      --hover-fill-color: #FFFFFF;\n",
              "      --disabled-bg-color: #3B4455;\n",
              "      --disabled-fill-color: #666;\n",
              "  }\n",
              "\n",
              "  .colab-df-quickchart {\n",
              "    background-color: var(--bg-color);\n",
              "    border: none;\n",
              "    border-radius: 50%;\n",
              "    cursor: pointer;\n",
              "    display: none;\n",
              "    fill: var(--fill-color);\n",
              "    height: 32px;\n",
              "    padding: 0;\n",
              "    width: 32px;\n",
              "  }\n",
              "\n",
              "  .colab-df-quickchart:hover {\n",
              "    background-color: var(--hover-bg-color);\n",
              "    box-shadow: 0 1px 2px rgba(60, 64, 67, 0.3), 0 1px 3px 1px rgba(60, 64, 67, 0.15);\n",
              "    fill: var(--button-hover-fill-color);\n",
              "  }\n",
              "\n",
              "  .colab-df-quickchart-complete:disabled,\n",
              "  .colab-df-quickchart-complete:disabled:hover {\n",
              "    background-color: var(--disabled-bg-color);\n",
              "    fill: var(--disabled-fill-color);\n",
              "    box-shadow: none;\n",
              "  }\n",
              "\n",
              "  .colab-df-spinner {\n",
              "    border: 2px solid var(--fill-color);\n",
              "    border-color: transparent;\n",
              "    border-bottom-color: var(--fill-color);\n",
              "    animation:\n",
              "      spin 1s steps(1) infinite;\n",
              "  }\n",
              "\n",
              "  @keyframes spin {\n",
              "    0% {\n",
              "      border-color: transparent;\n",
              "      border-bottom-color: var(--fill-color);\n",
              "      border-left-color: var(--fill-color);\n",
              "    }\n",
              "    20% {\n",
              "      border-color: transparent;\n",
              "      border-left-color: var(--fill-color);\n",
              "      border-top-color: var(--fill-color);\n",
              "    }\n",
              "    30% {\n",
              "      border-color: transparent;\n",
              "      border-left-color: var(--fill-color);\n",
              "      border-top-color: var(--fill-color);\n",
              "      border-right-color: var(--fill-color);\n",
              "    }\n",
              "    40% {\n",
              "      border-color: transparent;\n",
              "      border-right-color: var(--fill-color);\n",
              "      border-top-color: var(--fill-color);\n",
              "    }\n",
              "    60% {\n",
              "      border-color: transparent;\n",
              "      border-right-color: var(--fill-color);\n",
              "    }\n",
              "    80% {\n",
              "      border-color: transparent;\n",
              "      border-right-color: var(--fill-color);\n",
              "      border-bottom-color: var(--fill-color);\n",
              "    }\n",
              "    90% {\n",
              "      border-color: transparent;\n",
              "      border-bottom-color: var(--fill-color);\n",
              "    }\n",
              "  }\n",
              "</style>\n",
              "\n",
              "  <script>\n",
              "    async function quickchart(key) {\n",
              "      const quickchartButtonEl =\n",
              "        document.querySelector('#' + key + ' button');\n",
              "      quickchartButtonEl.disabled = true;  // To prevent multiple clicks.\n",
              "      quickchartButtonEl.classList.add('colab-df-spinner');\n",
              "      try {\n",
              "        const charts = await google.colab.kernel.invokeFunction(\n",
              "            'suggestCharts', [key], {});\n",
              "      } catch (error) {\n",
              "        console.error('Error during call to suggestCharts:', error);\n",
              "      }\n",
              "      quickchartButtonEl.classList.remove('colab-df-spinner');\n",
              "      quickchartButtonEl.classList.add('colab-df-quickchart-complete');\n",
              "    }\n",
              "    (() => {\n",
              "      let quickchartButtonEl =\n",
              "        document.querySelector('#df-985fe725-dc97-444e-8e45-e1e0215bf573 button');\n",
              "      quickchartButtonEl.style.display =\n",
              "        google.colab.kernel.accessAllowed ? 'block' : 'none';\n",
              "    })();\n",
              "  </script>\n",
              "</div>\n",
              "\n",
              "    </div>\n",
              "  </div>\n"
            ],
            "application/vnd.google.colaboratory.intrinsic+json": {
              "type": "dataframe",
              "variable_name": "house_data_clean_outlier_removed",
              "summary": "{\n  \"name\": \"house_data_clean_outlier_removed\",\n  \"rows\": 3771,\n  \"fields\": [\n    {\n      \"column\": \"Unnamed: 0\",\n      \"properties\": {\n        \"dtype\": \"number\",\n        \"std\": 1365,\n        \"min\": 20,\n        \"max\": 4998,\n        \"num_unique_values\": 3771,\n        \"samples\": [\n          647,\n          2973,\n          4873\n        ],\n        \"semantic_type\": \"\",\n        \"description\": \"\"\n      }\n    },\n    {\n      \"column\": \"MLS\",\n      \"properties\": {\n        \"dtype\": \"number\",\n        \"std\": 2111637,\n        \"min\": 3042851,\n        \"max\": 21928565,\n        \"num_unique_values\": 3771,\n        \"samples\": [\n          21426978,\n          21307203,\n          21412250\n        ],\n        \"semantic_type\": \"\",\n        \"description\": \"\"\n      }\n    },\n    {\n      \"column\": \"sold_price\",\n      \"properties\": {\n        \"dtype\": \"number\",\n        \"std\": 210841.50981634686,\n        \"min\": 375000.0,\n        \"max\": 2600000.0,\n        \"num_unique_values\": 879,\n        \"samples\": [\n          788500.0,\n          817000.0,\n          578418.0\n        ],\n        \"semantic_type\": \"\",\n        \"description\": \"\"\n      }\n    },\n    {\n      \"column\": \"zipcode\",\n      \"properties\": {\n        \"dtype\": \"number\",\n        \"std\": 33,\n        \"min\": 85118,\n        \"max\": 85935,\n        \"num_unique_values\": 35,\n        \"samples\": [\n          85711,\n          85646,\n          85710\n        ],\n        \"semantic_type\": \"\",\n        \"description\": \"\"\n      }\n    },\n    {\n      \"column\": \"longitude\",\n      \"properties\": {\n        \"dtype\": \"number\",\n        \"std\": 0.08556781227135646,\n        \"min\": -111.430863,\n        \"max\": -109.861617,\n        \"num_unique_values\": 3590,\n        \"samples\": [\n          -110.954305,\n          -110.938291,\n          -110.818532\n        ],\n        \"semantic_type\": \"\",\n        \"description\": \"\"\n      }\n    },\n    {\n      \"column\": \"latitude\",\n      \"properties\": {\n        \"dtype\": \"number\",\n        \"std\": 0.13605339554476295,\n        \"min\": 31.458609,\n        \"max\": 34.314889,\n        \"num_unique_values\": 3642,\n        \"samples\": [\n          32.326648,\n          32.405023,\n          32.39195\n        ],\n        \"semantic_type\": \"\",\n        \"description\": \"\"\n      }\n    },\n    {\n      \"column\": \"lot_acres\",\n      \"properties\": {\n        \"dtype\": \"number\",\n        \"std\": 0.5380722279442983,\n        \"min\": 0.02,\n        \"max\": 3.1,\n        \"num_unique_values\": 274,\n        \"samples\": [\n          0.36,\n          3.09,\n          0.74\n        ],\n        \"semantic_type\": \"\",\n        \"description\": \"\"\n      }\n    },\n    {\n      \"column\": \"taxes\",\n      \"properties\": {\n        \"dtype\": \"number\",\n        \"std\": 2312.4971683925796,\n        \"min\": 261.55,\n        \"max\": 12251.45,\n        \"num_unique_values\": 3565,\n        \"samples\": [\n          7443.31,\n          5716.0,\n          4716.0\n        ],\n        \"semantic_type\": \"\",\n        \"description\": \"\"\n      }\n    },\n    {\n      \"column\": \"year_built\",\n      \"properties\": {\n        \"dtype\": \"number\",\n        \"std\": 59,\n        \"min\": 0,\n        \"max\": 2019,\n        \"num_unique_values\": 111,\n        \"samples\": [\n          1893,\n          2015,\n          2014\n        ],\n        \"semantic_type\": \"\",\n        \"description\": \"\"\n      }\n    },\n    {\n      \"column\": \"bedrooms\",\n      \"properties\": {\n        \"dtype\": \"number\",\n        \"std\": 0,\n        \"min\": 2,\n        \"max\": 18,\n        \"num_unique_values\": 9,\n        \"samples\": [\n          8,\n          4,\n          7\n        ],\n        \"semantic_type\": \"\",\n        \"description\": \"\"\n      }\n    },\n    {\n      \"column\": \"bathrooms\",\n      \"properties\": {\n        \"dtype\": \"number\",\n        \"std\": 0.9962449911522496,\n        \"min\": 2.0,\n        \"max\": 36.0,\n        \"num_unique_values\": 11,\n        \"samples\": [\n          2.0,\n          3.0,\n          2.5\n        ],\n        \"semantic_type\": \"\",\n        \"description\": \"\"\n      }\n    },\n    {\n      \"column\": \"sqrt_ft\",\n      \"properties\": {\n        \"dtype\": \"number\",\n        \"std\": 699.34967633103,\n        \"min\": 1690.0,\n        \"max\": 5723.0,\n        \"num_unique_values\": 1803,\n        \"samples\": [\n          2242.0,\n          3738.0,\n          2661.0\n        ],\n        \"semantic_type\": \"\",\n        \"description\": \"\"\n      }\n    },\n    {\n      \"column\": \"garage\",\n      \"properties\": {\n        \"dtype\": \"number\",\n        \"std\": 0.949614896737523,\n        \"min\": 0.0,\n        \"max\": 30.0,\n        \"num_unique_values\": 15,\n        \"samples\": [\n          9.0,\n          4.5,\n          0.0\n        ],\n        \"semantic_type\": \"\",\n        \"description\": \"\"\n      }\n    },\n    {\n      \"column\": \"kitchen_features\",\n      \"properties\": {\n        \"dtype\": \"category\",\n        \"num_unique_values\": 1416,\n        \"samples\": [\n          \"Dishwasher, Electric Range, Garbage Disposal, Pantry: Walk-In, Appliance Color: Stainless, Countertops: Granite\",\n          \"Dishwasher, Double Sink, Garbage Disposal, Gas Range, Island, Refrigerator, Reverse Osmosis, Appliance Color: Stainless, Countertops: Granite, Microwave: Stainless, Oven: Stainless\",\n          \"Dishwasher, Double Sink, Garbage Disposal, Gas Range, Island, Pantry: Cabinet, Refrigerator, Water Purifier, Appliance Color: Stainless, Countertops: Granite, Microwave: Built-in Wall, Oven: Built-in Wall\"\n        ],\n        \"semantic_type\": \"\",\n        \"description\": \"\"\n      }\n    },\n    {\n      \"column\": \"fireplaces\",\n      \"properties\": {\n        \"dtype\": \"number\",\n        \"std\": 1.0165307797939709,\n        \"min\": 0.0,\n        \"max\": 8.0,\n        \"num_unique_values\": 8,\n        \"samples\": [\n          2.0,\n          0.0,\n          3.0\n        ],\n        \"semantic_type\": \"\",\n        \"description\": \"\"\n      }\n    },\n    {\n      \"column\": \"floor_covering\",\n      \"properties\": {\n        \"dtype\": \"category\",\n        \"num_unique_values\": 248,\n        \"samples\": [\n          \"Ceramic Tile, Mexican Tile, Wood\",\n          \"Concrete\",\n          \"Carpet, Ceramic Tile, Concrete, Laminate\"\n        ],\n        \"semantic_type\": \"\",\n        \"description\": \"\"\n      }\n    },\n    {\n      \"column\": \"HOA\",\n      \"properties\": {\n        \"dtype\": \"category\",\n        \"num_unique_values\": 340,\n        \"samples\": [\n          \"168\",\n          \"44\",\n          \"71\"\n        ],\n        \"semantic_type\": \"\",\n        \"description\": \"\"\n      }\n    }\n  ]\n}"
            }
          },
          "metadata": {},
          "execution_count": 3
        }
      ]
    },
    {
      "cell_type": "code",
      "source": [
        "house_data_eda = house_data_clean_outlier_removed.copy()\n"
      ],
      "metadata": {
        "id": "rRcBPE64GxjS"
      },
      "execution_count": 4,
      "outputs": []
    },
    {
      "cell_type": "code",
      "source": [
        "# ploting sold_price\tand zipcode\n",
        "fig, ax =plt.subplots(figsize=(10,6))\n",
        "ax.scatter(house_data_eda['sold_price'],house_data_eda['zipcode'] )\n",
        "ax.set_xlabel('sold_price')\n",
        "ax.set_ylabel('zipcode')"
      ],
      "metadata": {
        "colab": {
          "base_uri": "https://localhost:8080/",
          "height": 559
        },
        "id": "bqer5nHet271",
        "outputId": "42c326e0-486c-43da-da0d-e08fbbd2c76c",
        "collapsed": true
      },
      "execution_count": 5,
      "outputs": [
        {
          "output_type": "execute_result",
          "data": {
            "text/plain": [
              "Text(0, 0.5, 'zipcode')"
            ]
          },
          "metadata": {},
          "execution_count": 5
        },
        {
          "output_type": "display_data",
          "data": {
            "text/plain": [
              "<Figure size 1000x600 with 1 Axes>"
            ],
            "image/png": "[encoded data removed]"
          },
          "metadata": {}
        }
      ]
    },
    {
      "cell_type": "code",
      "source": [
        "# ploting sold_price\tand zipcode\n",
        "house_data_optimised = house_data_eda[(house_data_eda['zipcode']<=85800) & (house_data_eda['zipcode']>=85500)]\n",
        "fig, ax =plt.subplots(figsize=(10,6))\n",
        "ax.scatter(house_data_optimised['sold_price'],house_data_optimised['zipcode'] )\n",
        "ax.set_xlabel('sold_price')\n",
        "ax.set_ylabel('zipcode')"
      ],
      "metadata": {
        "colab": {
          "base_uri": "https://localhost:8080/",
          "height": 559
        },
        "id": "fqaRAYTEjrSw",
        "outputId": "91298ca7-80ef-4b57-a94f-92f53b6cb63b",
        "collapsed": true
      },
      "execution_count": 6,
      "outputs": [
        {
          "output_type": "execute_result",
          "data": {
            "text/plain": [
              "Text(0, 0.5, 'zipcode')"
            ]
          },
          "metadata": {},
          "execution_count": 6
        },
        {
          "output_type": "display_data",
          "data": {
            "text/plain": [
              "<Figure size 1000x600 with 1 Axes>"
            ],
            "image/png": "[encoded data removed]"
          },
          "metadata": {}
        }
      ]
    },
    {
      "cell_type": "code",
      "source": [
        "#converting the data type in the  HOA columns\n",
        "house_data_eda['HOA'] = house_data_eda['HOA'].str.replace(',','',regex=True)\n",
        "house_data_eda['HOA'] = house_data_eda['HOA'].astype(float)"
      ],
      "metadata": {
        "id": "C3YxhrWkgTW_"
      },
      "execution_count": 7,
      "outputs": []
    },
    {
      "cell_type": "code",
      "source": [
        "house_data_eda['HOA'].dtype\n",
        "house_data_eda.dtypes"
      ],
      "metadata": {
        "colab": {
          "base_uri": "https://localhost:8080/",
          "height": 617
        },
        "id": "GMmrfRlcuO2w",
        "outputId": "e6946ffd-7125-438e-b8ed-e36cc9afdc9f",
        "collapsed": true
      },
      "execution_count": 8,
      "outputs": [
        {
          "output_type": "execute_result",
          "data": {
            "text/plain": [
              "Unnamed: 0            int64\n",
              "MLS                   int64\n",
              "sold_price          float64\n",
              "zipcode               int64\n",
              "longitude           float64\n",
              "latitude            float64\n",
              "lot_acres           float64\n",
              "taxes               float64\n",
              "year_built            int64\n",
              "bedrooms              int64\n",
              "bathrooms           float64\n",
              "sqrt_ft             float64\n",
              "garage              float64\n",
              "kitchen_features     object\n",
              "fireplaces          float64\n",
              "floor_covering       object\n",
              "HOA                 float64\n",
              "dtype: object"
            ],
            "text/html": [
              "<div>\n",
              "<style scoped>\n",
              "    .dataframe tbody tr th:only-of-type {\n",
              "        vertical-align: middle;\n",
              "    }\n",
              "\n",
              "    .dataframe tbody tr th {\n",
              "        vertical-align: top;\n",
              "    }\n",
              "\n",
              "    .dataframe thead th {\n",
              "        text-align: right;\n",
              "    }\n",
              "</style>\n",
              "<table border=\"1\" class=\"dataframe\">\n",
              "  <thead>\n",
              "    <tr style=\"text-align: right;\">\n",
              "      <th></th>\n",
              "      <th>0</th>\n",
              "    </tr>\n",
              "  </thead>\n",
              "  <tbody>\n",
              "    <tr>\n",
              "      <th>Unnamed: 0</th>\n",
              "      <td>int64</td>\n",
              "    </tr>\n",
              "    <tr>\n",
              "      <th>MLS</th>\n",
              "      <td>int64</td>\n",
              "    </tr>\n",
              "    <tr>\n",
              "      <th>sold_price</th>\n",
              "      <td>float64</td>\n",
              "    </tr>\n",
              "    <tr>\n",
              "      <th>zipcode</th>\n",
              "      <td>int64</td>\n",
              "    </tr>\n",
              "    <tr>\n",
              "      <th>longitude</th>\n",
              "      <td>float64</td>\n",
              "    </tr>\n",
              "    <tr>\n",
              "      <th>latitude</th>\n",
              "      <td>float64</td>\n",
              "    </tr>\n",
              "    <tr>\n",
              "      <th>lot_acres</th>\n",
              "      <td>float64</td>\n",
              "    </tr>\n",
              "    <tr>\n",
              "      <th>taxes</th>\n",
              "      <td>float64</td>\n",
              "    </tr>\n",
              "    <tr>\n",
              "      <th>year_built</th>\n",
              "      <td>int64</td>\n",
              "    </tr>\n",
              "    <tr>\n",
              "      <th>bedrooms</th>\n",
              "      <td>int64</td>\n",
              "    </tr>\n",
              "    <tr>\n",
              "      <th>bathrooms</th>\n",
              "      <td>float64</td>\n",
              "    </tr>\n",
              "    <tr>\n",
              "      <th>sqrt_ft</th>\n",
              "      <td>float64</td>\n",
              "    </tr>\n",
              "    <tr>\n",
              "      <th>garage</th>\n",
              "      <td>float64</td>\n",
              "    </tr>\n",
              "    <tr>\n",
              "      <th>kitchen_features</th>\n",
              "      <td>object</td>\n",
              "    </tr>\n",
              "    <tr>\n",
              "      <th>fireplaces</th>\n",
              "      <td>float64</td>\n",
              "    </tr>\n",
              "    <tr>\n",
              "      <th>floor_covering</th>\n",
              "      <td>object</td>\n",
              "    </tr>\n",
              "    <tr>\n",
              "      <th>HOA</th>\n",
              "      <td>float64</td>\n",
              "    </tr>\n",
              "  </tbody>\n",
              "</table>\n",
              "</div><br><label><b>dtype:</b> object</label>"
            ]
          },
          "metadata": {},
          "execution_count": 8
        }
      ]
    },
    {
      "cell_type": "code",
      "source": [
        "# ploting HOA\tand zipcode\n",
        "house_data_optimised = house_data_eda[(house_data_eda['zipcode']<=85800) & (house_data_eda['zipcode']>=85500)]\n",
        "fig, ax =plt.subplots(figsize=(10,6))\n",
        "ax.scatter(house_data_optimised['HOA'],house_data_optimised['zipcode'] )\n",
        "ax.set_xlabel('HOA')\n",
        "ax.set_ylabel('zipcode')"
      ],
      "metadata": {
        "colab": {
          "base_uri": "https://localhost:8080/",
          "height": 559
        },
        "id": "tANzUl8Qw5On",
        "outputId": "a04fbd90-1972-41db-d436-72c95f8c7375",
        "collapsed": true
      },
      "execution_count": null,
      "outputs": [
        {
          "output_type": "execute_result",
          "data": {
            "text/plain": [
              "Text(0, 0.5, 'zipcode')"
            ]
          },
          "metadata": {},
          "execution_count": 46
        },
        {
          "output_type": "display_data",
          "data": {
            "text/plain": [
              "<Figure size 1000x600 with 1 Axes>"
            ],
            "image/png": "[encoded data removed]"
          },
          "metadata": {}
        }
      ]
    },
    {
      "cell_type": "code",
      "source": [
        "# ploting 'HOA' distribution on a box plot\n",
        "df_hoa = house_data_optimised[(house_data_optimised['HOA']<=5000)&(house_data_optimised['HOA']>=0)]\n",
        "sns.boxplot(x =df_hoa['HOA'])"
      ],
      "metadata": {
        "colab": {
          "base_uri": "https://localhost:8080/",
          "height": 466
        },
        "id": "2vHgRGbP0YDp",
        "outputId": "3e623720-b98e-4f84-9cb1-f12a01c52705",
        "collapsed": true
      },
      "execution_count": null,
      "outputs": [
        {
          "output_type": "execute_result",
          "data": {
            "text/plain": [
              "<Axes: xlabel='HOA'>"
            ]
          },
          "metadata": {},
          "execution_count": 60
        },
        {
          "output_type": "display_data",
          "data": {
            "text/plain": [
              "<Figure size 640x480 with 1 Axes>"
            ],
            "image/png": "[encoded data removed]"
          },
          "metadata": {}
        }
      ]
    },
    {
      "cell_type": "code",
      "source": [
        "# ploting 'HOA' distribution on a box plot\n",
        "fig = px.box(df_hoa, x= 'HOA', title= 'HOA boxplot')\n",
        "fig.show()"
      ],
      "metadata": {
        "colab": {
          "base_uri": "https://localhost:8080/",
          "height": 542
        },
        "id": "q3bfZ7nC3k4a",
        "outputId": "0ba5e99e-0f85-4f47-a38c-434c524777f1",
        "collapsed": true
      },
      "execution_count": null,
      "outputs": [
        {
          "output_type": "display_data",
          "data": {
            "text/html": [
              "<html>\n",
              "<head><meta charset=\"utf-8\" /></head>\n",
              "<body>\n",
              "    <div>            <script src=\"https://cdnjs.cloudflare.com/ajax/libs/mathjax/2.7.5/MathJax.js?config=TeX-AMS-MML_SVG\"></script><script type=\"text/javascript\">if (window.MathJax && window.MathJax.Hub && window.MathJax.Hub.Config) {window.MathJax.Hub.Config({SVG: {font: \"STIX-Web\"}});}</script>                <script type=\"text/javascript\">window.PlotlyConfig = {MathJaxConfig: 'local'};</script>\n",
              "        <script charset=\"utf-8\" src=\"https://cdn.plot.ly/plotly-2.35.2.min.js\"></script>                <div id=\"3b132f95-8436-41f8-9570-72c6b9c4f374\" class=\"plotly-graph-div\" style=\"height:525px; width:100%;\"></div>            <script type=\"text/javascript\">                                    window.PLOTLYENV=window.PLOTLYENV || {};                                    if (document.getElementById(\"3b132f95-8436-41f8-9570-72c6b9c4f374\")) {                    Plotly.newPlot(                        \"3b132f95-8436-41f8-9570-72c6b9c4f374\",                        [{\"alignmentgroup\":\"True\",\"hovertemplate\":\"HOA=%{x}\\u003cextra\\u003e\\u003c\\u002fextra\\u003e\",\"legendgroup\":\"\",\"marker\":{\"color\":\"#636efa\"},\"name\":\"\",\"notched\":false,\"offsetgroup\":\"\",\"orientation\":\"h\",\"showlegend\":false,\"x\":[0.0,550.0,169.0,550.0,258.0,550.0,159.0,193.0,69.0,208.0,79.0,1100.0,550.0,149.0,118.0,220.0,550.0,550.0,550.0,142.0,0.0,550.0,117.0,550.0,550.0,153.0,157.33,194.0,550.0,550.0,550.0,211.0,550.0,203.0,550.0,550.0,167.0,190.0,145.0,63.0,0.0,550.0,57.0,550.0,184.0,125.0,48.0,158.0,550.0,195.0,0.0,258.0,550.0,258.0,118.0,0.0,0.0,117.0,1270.0,146.0,117.0,0.0,148.0,125.0,116.0,550.0,550.0,0.0,550.0,550.0,311.0,167.0,94.0,117.0,295.0,550.0,57.33,153.0,243.0,150.0,135.0,116.0,135.0,550.0,34.0,215.0,0.0,158.0,191.0,157.0,143.0,110.0,153.0,300.0,322.0,43.0,150.0,48.0,4.0,48.0,550.0,100.0,110.0,550.0,322.0,50.0,41.0,125.0,116.0,700.0,118.0,0.0,195.0,194.0,30.0,40.0,179.0,58.0,79.0,102.0,0.0,550.0,175.0,97.0,195.0,25.0,40.0,159.0,153.0,0.0,132.0,25.0,242.0,49.43,175.0,333.0,159.0,40.0,145.0,295.0,270.0,84.0,215.0,165.0,0.0,506.0,142.0,157.0,131.0,30.0,35.0,64.0,258.08,148.0,208.0,175.0,175.0,108.0,193.0,208.0,125.0,4.0,187.0,186.0,1600.0,212.0,117.0,12.0,158.0,40.0,209.0,107.0,169.0,84.0,219.0,125.0,175.0,146.0,323.0,142.0,0.0,193.0,52.0,145.0,160.0,300.0,153.0,125.0,194.0,0.0,0.0,145.83,175.0,143.0,0.0,0.0,195.0,51.0,22.0,35.0,194.0,165.0,145.0,242.0,93.0,139.0,110.0,200.0,167.0,211.0,241.0,161.0,195.0,5.0,120.0,100.0,79.0,5.0,143.0,150.0,37.5,153.0,193.0,146.0,173.0,157.0,119.66,157.0,50.0,159.0,155.0,123.0,200.0,50.0,299.0,0.0,143.0,154.0,170.0,193.0,157.0,270.0,21.0,0.0,150.0,135.0,159.0,58.0,52.0,123.0,142.0,131.0,84.0,157.0,233.0,0.0,12.0,140.0,194.0,132.0,58.0,100.0,159.0,122.0,193.0,45.0,0.0,117.0,171.0,45.0,242.0,195.0,550.0,0.0,157.0,194.0,75.0,258.0,71.0,212.88,0.0,110.0,200.0,135.0,159.0,160.0,165.0,40.0,41.0,58.0,157.0,159.0,250.0,44.0,158.0,146.0,125.0,58.0,125.0,23.0,5.0,161.0,37.0,6.0,8.0,43.0,550.0,0.0,215.0,40.0,0.0,167.0,166.0,270.0,215.0,0.0,194.0,42.0,0.0,159.0,8.0,146.0,97.0,0.0,300.0,193.0,157.0,157.33,125.0,5.0,142.0,5.0,9.0,145.0,117.0,0.0,0.0,48.0,5.0,25.0,199.0,125.0,83.0,170.0,100.0,113.0,100.0,17.0,51.0,160.0,0.0,125.0,0.0,135.0,1010.0,0.0,75.0,43.0,116.0,159.0,133.0,110.0,0.0,123.0,78.0,141.0,42.0,0.0,194.0,26.0,6.0,184.0,142.0,97.0,157.0,213.88,41.0,16.0,43.0,43.0,54.0,0.0,187.0,67.0,11.0,58.0,71.0,26.0,39.0,144.0,195.0,172.0,52.0,56.0,4.0,170.0,550.0,156.0,135.0,110.0,50.0,263.0,34.0,83.0,92.0,166.0,219.0,34.0,40.0,170.0,50.0,0.0,258.0,125.0,180.0,157.33,175.0,550.0,131.0,150.0,60.0,145.0,95.0,0.0,17.0,0.0,125.0,125.0,100.0,76.0,4.16,70.0,141.66,145.0,195.0,0.0,343.0,0.0,33.0,194.0,216.0,72.0,194.0,146.0,0.0,80.0,170.0,64.0,142.0,247.0,199.0,187.0,41.0,64.0,5.0,167.0,4.0,135.0,0.0,0.0,40.0,120.0,123.0,0.0,194.0,43.0,135.0,125.0,180.0,516.0,25.0,0.0,0.0,9.0,0.0,0.0,75.0,166.0,146.0,45.0,55.0,84.0,6.0,167.0,5.0,166.0,0.0,200.0,20.0,258.0,167.0,0.0,100.0,100.0,0.0,114.0,4.0,0.0,43.75,73.0,195.0,40.0,166.0,42.0,317.0,0.0,123.0,119.0,0.0,88.0,258.08,58.0,135.0,0.0,167.0,0.0,36.02,40.0,150.0,199.0,212.88,15.0,125.0,0.0,115.0,50.0,0.0,30.0,0.0,0.0,145.0,160.0,17.0,34.0,0.0,180.0,157.0,212.0,212.88,199.0,285.0,0.0,33.0,110.0,135.0,48.0,100.0,190.0,127.0,157.0,32.0,159.0,40.0,0.0,0.0,117.0,37.0,12.0,110.0,10.0,102.0,332.66,12.0,100.0,51.0,194.0,4.0,43.01,263.0,258.0,72.0,50.0,110.0,159.0,149.0,80.0,198.0,194.0,193.0,8.0,42.0,67.0,167.0,303.0,113.0,44.0,52.0,110.0,37.0,40.0,133.0,258.0,11.0,5.0,63.0,332.67,142.0,142.0,33.0,208.0,150.0,69.16,166.0,73.0,135.0,187.0,193.0,146.0,180.0,34.0,58.0,0.0,110.0,41.0,148.0,41.0,0.0,17.0,71.0,41.0,180.0,205.0,97.0,80.0,240.0,200.0,194.0,5.0,0.0,0.0,193.0,115.0,242.0,88.0,25.0,125.0,145.0,0.0,0.0,125.0,55.0,0.0,67.0,174.0,550.0,50.0,6.0,15.0,125.0,5.0,249.0,83.0,48.0,193.0,194.0,71.0,38.0,41.0,66.0,165.0,40.55,123.0,43.71,55.0,25.0,0.0,117.0,194.0,40.0,0.0,51.0,142.0,129.0,42.0,125.0,17.0,0.0,40.55,135.0,0.0,122.0,195.0,34.0,195.0,0.0,11.0,167.0,100.0,76.0,123.0,135.0,145.0,60.0,103.0,125.0,70.0,0.0,13.0,6.0,20.0,79.0,150.0,19.0,0.0,0.0,198.0,0.0,185.0,132.0,84.0,48.0,75.0,6.0,0.0,25.0,43.0,258.0,156.0,193.0,193.0,125.0,146.0,124.0,39.0,111.0,0.0,98.0,122.0,80.0,33.0,40.0,166.66,157.0,213.0,8.33,180.0,76.0,142.0,119.66,50.0,202.0,0.0,193.0,0.0,107.0,67.0,84.0,88.0,80.0,195.0,12.0,258.0,167.0,0.0,110.0,149.0,66.0,70.0,100.0,66.0,125.0,25.0,194.0,0.0,130.0,140.0,124.0,43.0,25.0,59.0,194.0,213.0,0.0,66.0,89.0,100.0,167.0,148.0,140.0,21.0,6.0,85.0,167.0,42.0,122.0,0.0,48.0,0.0,48.0,100.0,80.0,30.0,194.0,63.0,12.0,107.0,110.0,116.0,0.0,0.0,75.0,100.0,62.0,135.0,55.0,64.0,67.0,0.0,142.0,5.0,66.67,92.0,45.0,80.0,0.0,180.0,4.16,50.0,153.0,128.0,151.0,0.0,0.0,48.0,135.0,258.0,67.0,18.0,100.0,100.0,0.0,141.0,83.0,100.0,225.21,194.0,98.0,167.0,126.0,19.0,170.0,38.0,75.0,6.0,194.0,140.0,110.0,135.0,194.0,75.0,156.0,0.0,65.0,129.0,186.0,52.0,8.0,116.0,133.0,42.0,0.0,44.0,4.0,100.0,72.0,125.0,43.0,11.0,232.0,10.0,100.0,62.0,48.0,75.0,73.0,5.0,67.0,5.0,120.0,134.0,144.0,167.0,75.0,66.67,24.0,0.0,179.0,50.0,179.0,0.0,122.0,42.0,0.0,5.0,0.0,125.0,95.0,129.0,15.0,52.0,112.0,102.0,142.0,77.0,34.0,0.0,110.0,157.0,100.0,100.0,233.0,45.0,0.0,51.0,0.0,100.0,80.0,0.0,34.0,241.0,0.0,65.0,0.0,25.0,300.0,80.0,123.0,0.0,59.0,158.0,110.0,135.0,100.0,80.0,322.0,59.0,157.0,107.0,1769.0,258.0,83.0,0.0,193.0,50.0,71.0,80.0,150.0,102.0,180.0,157.0,225.21,73.0,50.42,0.0,41.0,74.0,92.0,149.0,64.0,41.0,0.0,199.0,100.0,10.0,52.0,100.0,166.0,110.0,110.0,67.0,174.0,43.0,52.0,21.0,135.0,1100.0,0.0,79.0,51.0,21.0,60.0,40.0,149.0,58.0,9.0,65.0,47.0,322.0,0.0,142.0,4.0,44.0,0.0,170.0,142.0,83.0,85.0,57.33,41.0,73.72,80.0,21.0,149.5,73.0,250.0,4.0,100.0,120.0,95.0,0.0,97.0,0.0,0.0,107.0,0.0,188.33,44.0,43.0,213.0,100.0,12.0,122.0,180.0,0.0,110.0,257.0,258.0,98.0,80.0,0.0,80.0,74.0,0.0,73.33,0.0,0.0,9.0,58.0,269.0,25.0,233.0,135.0,194.0,135.0,4.17,55.0,45.0,4.0,0.0,15.0,80.0,0.0,99.0,83.0,143.0,80.0,80.0,83.0,21.0,49.0,43.0,52.0,43.0,106.0,80.0,8.0,9.0,80.0,165.0,145.0,70.0,0.0,73.0,34.0,80.0,0.0,21.0,0.0,4.0,52.0,42.0,132.0,0.0,39.0,390.0,45.0,21.0,0.0,170.0,40.77,137.0,5.0,85.0,84.0,258.08,43.0,17.0,99.0,100.0,135.0,0.0,42.0,213.0,258.0,194.0,62.0,100.0,11.0,0.0,45.0,99.0,39.0,0.0,63.0,100.0,165.0,40.0,126.0,0.0,0.0,52.0,3.0,100.0,5.0,79.0,144.0,194.51,225.0,42.0,167.0,80.0,75.0,41.0,269.0,140.0,58.0,99.0,5.0,170.0,6.25,55.0,55.0,65.0,65.0,125.0,40.0,40.0,107.0,51.0,100.0,0.0,129.0,145.0,122.0,16.0,41.0,55.58,133.0,43.0,110.0,68.0,51.0,15.0,0.0,25.0,194.0,110.0,100.0,0.0,60.0,16.0,15.0,11.0,50.0,83.0,0.0,40.0,56.0,38.0,144.0,40.0,7.0,145.0,9.0,170.0,38.0,50.0,35.0,18.0,66.0,185.0,77.0,67.0,50.0,48.0,100.0,87.0,165.0,90.0,99.0,170.0,85.0,53.34,21.0,11.0,258.0,100.0,43.0,150.0,40.0,295.0,275.08,40.0,85.0,9.0,21.0,8.0,37.0,110.0,76.0,134.0,17.0,25.0,11.0,40.0,5.0,5.0,149.0,58.0,40.0,215.0,0.0,55.0,120.0,267.0,126.0,5.0,58.0,183.0,80.0,0.0,135.0,16.0,16.0,32.0,0.0,0.0,40.0,50.0,13.0,242.0,65.0,0.0,67.0,53.0,258.0,165.0,136.0,0.0,4.0,124.0,80.0,4.16,101.0,135.0,240.0,16.66,30.0,66.0,44.0,194.51,63.0,8.0,0.0,97.66,80.0,0.0,0.0,0.0,0.0,0.0,50.0,0.0,71.0,100.0,64.0,39.59,213.0,50.0,58.36,142.0,0.0,156.0,30.0,48.0,0.0,116.0,30.0,18.0,6.0,40.0,50.0,175.0,103.0,184.0,65.0,42.0,95.0,80.0,73.0,67.0,0.0,5.0,124.0,0.0,145.0,79.0,0.0,258.0,67.0,135.0,40.78,80.0,0.0,198.0,8.0,66.0,45.0,100.0,0.0,111.0,79.0,0.0,48.0,101.0,165.0,5.0,0.0,69.0,0.0,76.0,18.0,18.0,0.0,13.0,88.0,11.0,57.0,10.0,198.0,50.0,145.0,141.0,62.5,125.0,9.0,71.0,75.0,5.0,64.0,110.0,50.0,8.0,126.0,79.0,117.0,37.0,80.0,10.0,0.0,100.0,105.0,215.0,100.0,45.0,67.0,100.0,126.0,4.0,5.0,67.0,100.0,194.0,0.0,153.0,40.0,45.0,0.0,323.0,55.0,258.0,116.0,142.0,4.16,42.0,190.0,15.0,100.0,60.0,24.0,4.0,42.0,8.0,88.0,16.0,100.0,67.0,50.0,50.0,8.33,20.0,100.0,50.0,0.0,113.0,40.0,97.0,95.0,0.0,105.0,21.0,25.0,76.0,0.0,81.0,8.0,194.0,100.0,270.0,62.0,0.0,116.0,113.0,18.0,44.0,90.0,100.0,290.0,0.0,97.0,125.0,153.0,0.0,18.0,63.0,4.0,45.0,83.0,330.0,80.0,40.0,21.0,67.0,80.0,77.0,100.0,215.0,52.0,148.0,32.0,0.0,0.0,46.0,76.0,100.0,70.0,25.0,50.0,0.0,0.0,36.0,323.0,0.0,80.0,18.0,75.0,100.0,21.0,50.0,110.0,23.0,12.0,21.0,16.67,146.0,0.0,8.0,100.0,41.08,96.0,59.0,111.0,0.0,0.0,60.0,146.0,20.0,51.0,50.0,60.0,111.0,140.0,111.0,159.0,6.0,33.0,0.0,125.0,71.0,0.0,45.0,17.0,18.0,125.0,83.0,88.0,6.0,40.0,0.0,5.5,176.0,6.0,0.0,30.0,50.0,67.0,5.0,67.0,100.0,194.0,97.0,20.0,0.0,10.0,42.0,1.0,6.0,3.0,5.0,101.0,226.0,142.0,44.0,165.0,195.0,0.0,45.0,79.0,0.0,76.0,0.0,17.0,0.0,111.0,50.0,5.0,40.0,0.0,153.0,79.0,111.0,37.0,150.0,145.0,144.0,8.0,112.0,5.0,50.0,30.0,23.0,0.0,85.0,165.0,0.0,60.0,48.0,0.0,25.0,100.0,107.0,107.0,5.0,142.0,84.0,25.0,0.0,258.0,15.0,15.41,48.0,195.0,44.0,18.0,75.0,18.0,99.0,100.0,195.0,258.0,142.0,283.0,170.0,30.0,100.0,5.0,142.0,6.0,250.0,75.0,79.0,159.0,110.0,50.0,42.0,81.0,0.0,0.0,89.0,100.0,37.0,1.0,100.0,193.0,91.0,0.0,0.0,199.0,2.0,7.0,0.0,42.0,70.0,0.0,0.0,84.0,15.0,252.0,0.0,0.0,257.0,6.0,175.0,0.0,15.0,52.0,5.0,100.0,5.0,135.0,4.0,90.0,83.0,6.0,86.0,30.0,75.0,22.0,100.0,43.75,6.0,30.0,41.0,83.0,155.0,156.0,48.0,0.0,120.0,134.0,110.0,75.0,0.0,0.0,72.0,275.0,48.0,25.0,76.0,4.0,183.0,43.0,1.0,157.0,5.0,15.0,100.0,129.0,14.0,6.25,5.0,92.0,142.0,57.0,208.0,43.0,153.0,6.0,45.0,89.0,41.0,179.0,0.0,10.0,12.0,120.0,40.0,6.0,83.0,83.0,48.0,157.0,41.0,80.0,100.0,135.0,65.0,0.0,83.0,40.0,258.0,5.0,126.0,41.0,0.0,43.0,159.0,95.0,193.0,80.0,80.0,69.0,72.0,183.0,51.0,21.0,0.0,50.0,124.0,17.0,97.0,62.0,12.0,324.0,324.0,325.0,4.16,142.0,125.0,180.0,250.0,83.0,0.0,90.0,99.0,225.21,100.0,40.0,0.0,67.0,129.0,4.0,30.0,45.0,183.0,0.0,10.0,215.0,0.0,5.0,0.0,0.0,60.0,17.0,0.0,6.0,82.0,0.0,165.0,0.0,42.0,323.0,0.0,133.0,133.0,40.0,14.0,52.0,213.0,0.0,79.0,5.0,165.0,165.0,37.0,165.0,14.0,0.0,62.5,65.0,8.0,44.0,258.0,100.0,87.66,100.0,42.38,199.0,113.0,80.0,18.0,110.0,5.0,58.0,6.0,0.0,75.0,18.0,79.0,350.0,20.0,183.0,18.0,0.0,72.0,4.0,50.0,11.0,21.0,21.0,85.0,65.0,0.0,25.0,75.0,73.0,0.0,168.0,45.0,130.0,8.0,32.0,5.0,325.0,80.0,24.0,233.33,73.0,8.0,149.0,40.0,45.0,5.0,112.0,48.0,135.0,11.0,135.0,58.0,21.0,88.0,83.0,83.34,158.0,148.0,10.0,3.0,52.0,45.0,0.0,34.0,120.0,0.0,0.0,142.0,88.0,52.0,16.66,45.0,0.0,193.0,75.0,83.33,38.0,44.0,41.0,325.0,50.0,52.0,5.0,75.0,142.0,43.0,0.0,55.0,5.0,58.33,125.0,0.0,25.0,33.0,75.0,110.0,43.75,6.0,123.0,30.0,80.0,40.0,4.0,320.0,80.0,122.0,0.0,0.0,0.0,5.0,48.0,2.0,21.0,67.0,5.0,21.0,46.0,5.0,21.0,0.0,0.0,7.0,0.0,103.0,68.66,159.0,253.0,36.0,15.45,50.0,75.0,51.0,174.0,0.0,5.0,5.0,35.0,5.0,50.0,10.0,45.0,9.0,175.0,155.0,70.0,11.0,55.0,215.0,0.0,21.0,5.0,0.0,0.0,95.0,71.0,150.0,0.0,83.0,7.0,149.0,43.0,0.0,0.0,258.0,199.0,72.0,0.0,40.0,40.0,41.0,63.0,63.0,13.0,18.0,53.0,90.0,79.0,40.0,75.0,25.0,0.0,140.0,149.0,140.0,55.0,79.0,75.0,6.0,0.0,43.0,0.0,0.0,142.0,83.0,99.0,30.0,44.0,44.0,15.45,0.0,155.0,7.0,110.0,88.33,5.0,90.0,83.33,39.0,80.0,48.0,199.0,75.0,34.0,5.0,58.0,100.0,170.0,1200.0,5.0,6.0,4.17,150.0,95.0,258.0,4.0,17.0,34.0,99.0,17.0,82.0,45.0,47.0,55.0,148.0,323.0,140.0,0.0,35.0,75.0,89.0,100.0,0.0,141.0,59.0,119.0,0.0,0.0,35.0,21.0,21.0,0.0,105.0,190.0,100.0,88.0,115.0,50.0,48.0,63.0,75.0,0.0,219.0,66.0,185.0,9.0,113.0,52.0,183.0,100.0,42.0,111.0,75.0,60.0,21.0,70.0,52.0,0.0,10.0,30.0,52.0,75.0,0.0,81.0,55.0,0.0,45.0,11.0,5.0,75.0,52.0,5.0,6.0,149.0,75.0,73.0,40.0,51.0,0.0,154.0,6.0,194.0,149.0,58.0,56.0,150.0,46.0,51.0,111.0,76.0,80.0,75.0,4.0,199.0,107.0,31.0,0.0,85.0,8.33,75.0,100.0,169.0,31.0,36.0,0.0,85.0,83.0,56.0,99.0,4.0,92.0,63.0,5.0,17.0,5.0,35.0,5.0,80.0,323.0,35.0,65.0,0.0,15.0,72.0,25.0,107.0,20.0,5.0,80.0,213.0,107.0,12.0,189.0,30.0,135.0,89.0,113.0,16.0,44.0,0.0,108.0,0.0,12.0,487.88,194.51,250.0,66.0,20.83,0.0,0.0,189.0,113.0,57.33,148.0,199.0,50.0,12.0,0.0,75.0,7.0,48.0,258.0,328.0,80.0,43.0,6.0,149.0,62.0,53.0,9.0,4.0,168.92,75.0,6.0,14.58,56.0,57.33,247.0,62.5,40.0,75.0,10.0,100.0,67.0,0.0,242.0,0.0,0.0,0.0,33.0,92.0,15.0,0.0,149.0,5.0,0.0,0.0,170.0,43.75,8.0,50.0,25.0,30.0,67.0,368.0,111.0,5.0,18.0,43.0,50.0,100.0,17.0,50.0,157.0,67.0,165.0,0.0,10.0,95.0,17.0,6.25,57.5,17.0,40.0,61.0,0.0,11.0,53.0,5.0,257.0,106.0,43.0,85.0,46.95,20.0,119.0,85.0,76.0,0.0,11.0,50.0,31.0,48.0,100.0,55.0,0.0,25.0,98.0,5.0,9.0,0.0,40.0,0.0,149.0,0.0,125.0,57.33,65.0,110.0,21.0,123.0,0.0,100.0,5.0,148.0,150.0,45.0,65.0,0.0,80.0,8.0,4.0,11.0,0.0,21.0,45.0,10.0,0.0,48.0,5.0,14.0,16.0,32.0,43.0,183.0,153.0,35.0,20.0,226.0,0.0,78.0,295.0,40.0,41.0,0.0,0.0,0.0,100.0,102.0,750.0,39.0,0.0,66.0,0.0,11.0,0.0,5.0,167.0,3.0,0.0,98.0,75.0,170.0,5.0,84.75,21.0,213.0,100.0,205.0,11.0,9.0,8.34,250.0,232.0,145.0,9.0,17.0,88.0,21.0,0.0,6.0,0.0,158.0,135.0,100.0,140.0,220.0,5.41,158.0,39.0,110.0,107.0,15.0,55.0,44.0,139.0,180.0,5.0,0.0,0.0,0.0,99.0,57.0,44.0,259.0,17.0,65.0,75.0,166.0,55.0,5.0,13.0,8.33,105.0,0.0,40.0,35.0,67.0,148.0,0.0,50.0,6.0,258.0,56.0,45.0,92.0,142.0,0.0,5.0,6.0,213.0,107.0,25.0,225.21,40.0,16.0,21.0,8.0,66.66,55.0,5.0,44.0,100.0,100.0,83.0,0.0,4.0,10.0,51.0,215.0,0.0,54.0,7.0,0.0,43.0,83.0,84.0,50.0,6.0,45.9,487.88,83.0,148.0,75.0,66.0,55.0,175.0,83.0,30.0,0.0,337.0,7.0,5.0,7.0,17.0,213.0,66.67,50.0,249.0,8.0,68.0,0.0,50.0,150.0,67.0,60.0,44.0,11.0,202.75,51.0,15.0,50.0,91.0,215.0,16.0,0.0,38.0,3.0,30.0,100.0,60.0,130.0,111.0,23.0,0.0,12.0,58.0,40.0,21.0,88.0,0.0,6.0,4.0,5.0,258.0,40.0,154.0,0.0,7.0,70.0,0.0,0.0,199.0,21.0,258.08,24.0,5.0,93.0,5.0,43.75,149.04,5.0,30.0,123.0,215.0,0.0,0.0,0.0,0.0,73.0,0.0,140.0,179.0,5.0,38.0,30.0,75.0,180.0,0.0,6.0,145.0,69.0,114.0,149.0,149.0,137.0,38.0,16.0,71.0,44.0,4.0,15.45,80.0,25.0,30.0,66.66,35.0,12.0,8.33,100.0,17.0,2.08,1200.0,44.0,142.0,32.0,109.0,44.0,48.0,150.0,4.0,5.0,149.0,5.0,168.0,48.0,16.67,0.0,175.0,214.0,2.0,66.0,192.0,5.0,11.0,150.0,13.0,148.0,148.0,5.0,0.0,48.0,12.0,0.0,0.0,9.0,0.0,194.0,0.0,39.0,75.0,0.0,5.0,157.0,0.0,0.0,7.0,155.0,69.0,0.0,0.0,74.0,4.0,0.0,165.0,0.0,21.0,0.0,0.0,176.0,40.0,0.0,0.0,68.0,4.0,80.0,30.0,179.0,70.0,0.0,15.0,62.0,6.0,0.0,110.0,50.0,0.0,134.0,145.0,21.0,35.0,295.0,117.0,175.0,44.0,0.0,175.0,0.0,0.0,66.0,2.0,140.0,51.0,37.0,41.0,100.0,12.0,175.0,62.0,25.0,0.0,97.0,62.0,0.0,65.0,154.0,25.0,75.0,0.0,5.0,125.0,145.83,55.0,175.0,90.0,42.0,0.0,145.0,199.0,50.0,100.0,44.0,42.0,199.0,100.0,8.33,102.0,110.0,10.0,259.0,100.0,100.0,170.0,65.0,12.0,101.0,45.0,24.0,13.0,150.0,212.38,180.0,37.0,37.0,199.0,200.0,185.0,0.0,0.0,40.0,100.0,0.0,158.0,0.0,48.0,0.0,45.0,83.0,158.0,75.0,52.0,17.0,180.0,50.0,0.0,50.0,149.0,41.61,140.0,192.0,80.0,111.0,78.0,270.0,215.0,83.0,4.0,75.0,54.0,79.0,5.0,39.0,9.0,62.0,40.0,16.0,0.0,16.0,100.0,44.0,154.0,925.0,57.0,72.0,54.0,48.0,134.0,50.0,11.0,194.0,14.0,0.0,0.0,0.0,17.0,0.0,25.0,0.0,120.0,0.0,0.0,270.0,0.0,4.0,33.0,75.0,21.0,58.0,0.0,193.0,0.0,42.0,21.0,62.0,30.0,5.0,45.0,107.0,165.0,9.0,21.0,30.0,250.0,44.0,6.0,44.0,5.0,42.0,73.0,108.0,0.0,0.0,100.0,60.0,39.0,31.0,5.0,129.0,0.0,167.0,192.0,0.0,0.0,56.0,170.0,4.0,132.66,10.0,0.0,158.0,0.0,101.0,0.0,140.0,6.0,0.0,0.0,30.0,158.0,60.0,0.0,157.0,0.0,0.0,50.0,0.0,16.0,4.0,12.0,25.0,11.0,0.0,8.0,44.0,112.0,53.0,63.0,133.0,5.0,21.0,5.0,40.0,113.0,48.0,41.66,7.0,100.0,5.0,107.0,56.0,23.0,39.0,0.0,111.0,140.0,75.0,194.51,80.0,40.0,0.0,40.0,25.0,40.0,80.0,0.0,50.0,25.0,48.0,0.0,258.0,75.0,10.0,184.0,0.0,165.0,19.0,75.0,128.0,295.0,76.0,21.0,90.0,88.0,6.0,3.0,92.0,0.0,0.0,105.0,0.0,48.0,99.66,193.0,12.0,5.0,25.0,155.0,42.0,30.0,80.0,0.0,5.0,165.0,65.0,60.0,0.0,80.0,50.0,100.0,88.0,9.0,41.0,0.0,80.0,0.0,67.0,91.0,18.0,34.0,170.0,5.0,6.0,17.0,149.0,41.0,44.0,0.0,40.0,47.0,44.0,250.0,199.0,0.0,6.0,30.0,125.0,122.0,0.0,5.0,99.0,12.0,43.0,183.0,0.0,125.0,10.0,0.0,42.0,0.0,107.0,142.0,177.0,10.0,128.0,30.0,43.0,25.0,234.0,5.0,199.0,84.75,21.0,17.0,33.33,180.0,44.0,89.0,63.0,60.0,183.0,199.0,168.0,40.0,0.0,35.0,60.0,99.0,99.0,21.0,25.0,30.0,70.0,0.0,109.0,38.0,140.0,0.0,0.0,10.0,5.0,215.0,23.0,149.0,0.0,0.0,0.0,28.0,100.0,104.0,58.0,125.0,12.0,0.0,219.0,79.0,9.0,48.0,0.0,267.0,0.0,0.0,124.0,43.0,62.0,73.0,50.0,15.0,258.0,199.0,120.0,0.0,100.0,0.0,40.0,25.0,0.0,33.0,0.0,54.0,111.0,40.0,7.0,57.0,110.0,65.0,123.0,294.0,81.0,0.0,4.0,0.0,81.0,193.0,16.0,78.0,35.0,52.0,100.0,165.0,56.0,4.0,12.0,165.0,60.0,47.0,0.0,0.0,183.0,80.0,73.0,110.0,112.0,258.0,240.0,24.0,44.0,70.0,154.0,105.0,0.0,135.0,38.55,30.0,107.0,44.0,33.0,5.0,0.0,157.0,20.83,131.0,180.0,33.0,37.0,325.0,8.0,170.0,117.0,43.0,70.0,101.0,5.0,135.0,99.0,5.0,52.0,21.0,5.0,134.0,0.0,0.0,80.0,0.0,39.0,21.0,135.0,45.0,135.0,50.0,50.0,175.0,140.0,0.0,55.0,225.21,65.0,134.0,39.0,50.0,5.0,65.0,0.0,60.0,0.0,46.0,75.0,258.0,49.0,3.0,123.0,42.0,0.0,37.0,58.0,59.0,154.0,170.0,0.0,45.0,148.0,23.0,220.0,5.0,115.0,80.0,49.0,49.0,67.0,65.0,0.0,155.0,213.0,88.0,15.0,141.0,68.0,0.0,149.0,48.0,125.0,15.0,17.0,0.0,0.0,257.0,0.0,183.0,21.0,0.0,6.0,0.0,0.0,40.0,30.0,75.0,0.0,6.25,194.51,119.66,38.0,63.33,194.51,8.33,107.0,5.0,6.25,75.0,45.0,50.0,193.0,83.0,3.0,2.08,134.0,198.0,92.0,75.0,37.0,0.0,150.0,83.0,25.0,81.0,45.0,0.0,25.0,10.0,53.0,0.0,0.0,158.0,0.0,5.0,0.0,8.0,149.0,165.0,14.0,5.0,0.0,50.0,50.0,0.0,166.0,165.0,0.0,65.0,60.0,62.0,100.0,6.0,69.0,132.0,25.0,34.0,8.34,11.08,16.67,22.0,83.34,4.0,60.0,65.0,212.0,67.0,97.0,4.0,140.0,71.0,7.0,8.0,25.0,30.0,110.0,111.0,0.0,92.0,75.0,40.0,50.0,50.0,5.0,12.0,202.0,54.0,35.0,0.0,175.0,149.0,55.0,42.0,15.0,110.0,89.0,5.0,6.0,0.0,0.0,65.0,75.0,165.0,0.0,60.0,85.0,40.0,85.0,73.0,198.0,0.0,75.0,5.0,62.0,200.0,42.0,41.0,250.0,58.0,40.0,169.0,116.0,55.0,22.0,90.0,250.0,0.0,63.33,112.38,6.25,23.0,232.0,250.0,134.0,50.0,100.0,60.0,142.0,0.0,0.0,40.0,89.0,155.0,97.0,95.0,33.0,110.0,65.0,89.0,199.0,120.0,100.0,44.0,30.0,12.0,100.0,83.0,5.0,80.0,44.0,168.0,110.0,12.0,135.0,55.0,100.0,25.0,39.0,20.0,37.0,41.0,108.0,20.0,0.0,0.0,133.0,57.0,199.0,3.0,56.0,120.0,36.0,54.0,0.0,0.0,100.0,270.0,99.0,154.0,0.0,37.0,130.0,155.0,4.0,135.0,8.0,0.0,30.0,75.0,0.0,0.0,5.0,0.0,0.0,6.0,6.0,41.0,108.0,0.0,50.0,0.0,58.0,75.0,0.0,0.0,5.0,10.0,214.0,20.0,67.0,191.0,16.0,42.0,50.0,0.0,40.0,0.0,58.0,60.0,78.0,172.0,290.0,35.0,88.0,2.0,40.0,50.0,0.0,10.0,165.0,42.0,0.0,258.0,50.0,75.0,90.0,100.0,144.0,0.0,7.0,0.0,165.0,5.4,99.0,31.0,150.0,303.0,154.0,199.0,258.0,194.51,57.5,33.33,12.0,36.66,199.0,25.0,5.0,10.0,73.0,55.0,149.0,21.0,12.0,16.67,65.0,42.0,83.0,36.0,180.0,12.0,78.65,37.0,6.0,198.0,43.0],\"x0\":\" \",\"xaxis\":\"x\",\"y0\":\" \",\"yaxis\":\"y\",\"type\":\"box\"}],                        {\"template\":{\"data\":{\"histogram2dcontour\":[{\"type\":\"histogram2dcontour\",\"colorbar\":{\"outlinewidth\":0,\"ticks\":\"\"},\"colorscale\":[[0.0,\"#0d0887\"],[0.1111111111111111,\"#46039f\"],[0.2222222222222222,\"#7201a8\"],[0.3333333333333333,\"#9c179e\"],[0.4444444444444444,\"#bd3786\"],[0.5555555555555556,\"#d8576b\"],[0.6666666666666666,\"#ed7953\"],[0.7777777777777778,\"#fb9f3a\"],[0.8888888888888888,\"#fdca26\"],[1.0,\"#f0f921\"]]}],\"choropleth\":[{\"type\":\"choropleth\",\"colorbar\":{\"outlinewidth\":0,\"ticks\":\"\"}}],\"histogram2d\":[{\"type\":\"histogram2d\",\"colorbar\":{\"outlinewidth\":0,\"ticks\":\"\"},\"colorscale\":[[0.0,\"#0d0887\"],[0.1111111111111111,\"#46039f\"],[0.2222222222222222,\"#7201a8\"],[0.3333333333333333,\"#9c179e\"],[0.4444444444444444,\"#bd3786\"],[0.5555555555555556,\"#d8576b\"],[0.6666666666666666,\"#ed7953\"],[0.7777777777777778,\"#fb9f3a\"],[0.8888888888888888,\"#fdca26\"],[1.0,\"#f0f921\"]]}],\"heatmap\":[{\"type\":\"heatmap\",\"colorbar\":{\"outlinewidth\":0,\"ticks\":\"\"},\"colorscale\":[[0.0,\"#0d0887\"],[0.1111111111111111,\"#46039f\"],[0.2222222222222222,\"#7201a8\"],[0.3333333333333333,\"#9c179e\"],[0.4444444444444444,\"#bd3786\"],[0.5555555555555556,\"#d8576b\"],[0.6666666666666666,\"#ed7953\"],[0.7777777777777778,\"#fb9f3a\"],[0.8888888888888888,\"#fdca26\"],[1.0,\"#f0f921\"]]}],\"heatmapgl\":[{\"type\":\"heatmapgl\",\"colorbar\":{\"outlinewidth\":0,\"ticks\":\"\"},\"colorscale\":[[0.0,\"#0d0887\"],[0.1111111111111111,\"#46039f\"],[0.2222222222222222,\"#7201a8\"],[0.3333333333333333,\"#9c179e\"],[0.4444444444444444,\"#bd3786\"],[0.5555555555555556,\"#d8576b\"],[0.6666666666666666,\"#ed7953\"],[0.7777777777777778,\"#fb9f3a\"],[0.8888888888888888,\"#fdca26\"],[1.0,\"#f0f921\"]]}],\"contourcarpet\":[{\"type\":\"contourcarpet\",\"colorbar\":{\"outlinewidth\":0,\"ticks\":\"\"}}],\"contour\":[{\"type\":\"contour\",\"colorbar\":{\"outlinewidth\":0,\"ticks\":\"\"},\"colorscale\":[[0.0,\"#0d0887\"],[0.1111111111111111,\"#46039f\"],[0.2222222222222222,\"#7201a8\"],[0.3333333333333333,\"#9c179e\"],[0.4444444444444444,\"#bd3786\"],[0.5555555555555556,\"#d8576b\"],[0.6666666666666666,\"#ed7953\"],[0.7777777777777778,\"#fb9f3a\"],[0.8888888888888888,\"#fdca26\"],[1.0,\"#f0f921\"]]}],\"surface\":[{\"type\":\"surface\",\"colorbar\":{\"outlinewidth\":0,\"ticks\":\"\"},\"colorscale\":[[0.0,\"#0d0887\"],[0.1111111111111111,\"#46039f\"],[0.2222222222222222,\"#7201a8\"],[0.3333333333333333,\"#9c179e\"],[0.4444444444444444,\"#bd3786\"],[0.5555555555555556,\"#d8576b\"],[0.6666666666666666,\"#ed7953\"],[0.7777777777777778,\"#fb9f3a\"],[0.8888888888888888,\"#fdca26\"],[1.0,\"#f0f921\"]]}],\"mesh3d\":[{\"type\":\"mesh3d\",\"colorbar\":{\"outlinewidth\":0,\"ticks\":\"\"}}],\"scatter\":[{\"fillpattern\":{\"fillmode\":\"overlay\",\"size\":10,\"solidity\":0.2},\"type\":\"scatter\"}],\"parcoords\":[{\"type\":\"parcoords\",\"line\":{\"colorbar\":{\"outlinewidth\":0,\"ticks\":\"\"}}}],\"scatterpolargl\":[{\"type\":\"scatterpolargl\",\"marker\":{\"colorbar\":{\"outlinewidth\":0,\"ticks\":\"\"}}}],\"bar\":[{\"error_x\":{\"color\":\"#2a3f5f\"},\"error_y\":{\"color\":\"#2a3f5f\"},\"marker\":{\"line\":{\"color\":\"#E5ECF6\",\"width\":0.5},\"pattern\":{\"fillmode\":\"overlay\",\"size\":10,\"solidity\":0.2}},\"type\":\"bar\"}],\"scattergeo\":[{\"type\":\"scattergeo\",\"marker\":{\"colorbar\":{\"outlinewidth\":0,\"ticks\":\"\"}}}],\"scatterpolar\":[{\"type\":\"scatterpolar\",\"marker\":{\"colorbar\":{\"outlinewidth\":0,\"ticks\":\"\"}}}],\"histogram\":[{\"marker\":{\"pattern\":{\"fillmode\":\"overlay\",\"size\":10,\"solidity\":0.2}},\"type\":\"histogram\"}],\"scattergl\":[{\"type\":\"scattergl\",\"marker\":{\"colorbar\":{\"outlinewidth\":0,\"ticks\":\"\"}}}],\"scatter3d\":[{\"type\":\"scatter3d\",\"line\":{\"colorbar\":{\"outlinewidth\":0,\"ticks\":\"\"}},\"marker\":{\"colorbar\":{\"outlinewidth\":0,\"ticks\":\"\"}}}],\"scattermapbox\":[{\"type\":\"scattermapbox\",\"marker\":{\"colorbar\":{\"outlinewidth\":0,\"ticks\":\"\"}}}],\"scatterternary\":[{\"type\":\"scatterternary\",\"marker\":{\"colorbar\":{\"outlinewidth\":0,\"ticks\":\"\"}}}],\"scattercarpet\":[{\"type\":\"scattercarpet\",\"marker\":{\"colorbar\":{\"outlinewidth\":0,\"ticks\":\"\"}}}],\"carpet\":[{\"aaxis\":{\"endlinecolor\":\"#2a3f5f\",\"gridcolor\":\"white\",\"linecolor\":\"white\",\"minorgridcolor\":\"white\",\"startlinecolor\":\"#2a3f5f\"},\"baxis\":{\"endlinecolor\":\"#2a3f5f\",\"gridcolor\":\"white\",\"linecolor\":\"white\",\"minorgridcolor\":\"white\",\"startlinecolor\":\"#2a3f5f\"},\"type\":\"carpet\"}],\"table\":[{\"cells\":{\"fill\":{\"color\":\"#EBF0F8\"},\"line\":{\"color\":\"white\"}},\"header\":{\"fill\":{\"color\":\"#C8D4E3\"},\"line\":{\"color\":\"white\"}},\"type\":\"table\"}],\"barpolar\":[{\"marker\":{\"line\":{\"color\":\"#E5ECF6\",\"width\":0.5},\"pattern\":{\"fillmode\":\"overlay\",\"size\":10,\"solidity\":0.2}},\"type\":\"barpolar\"}],\"pie\":[{\"automargin\":true,\"type\":\"pie\"}]},\"layout\":{\"autotypenumbers\":\"strict\",\"colorway\":[\"#636efa\",\"#EF553B\",\"#00cc96\",\"#ab63fa\",\"#FFA15A\",\"#19d3f3\",\"#FF6692\",\"#B6E880\",\"#FF97FF\",\"#FECB52\"],\"font\":{\"color\":\"#2a3f5f\"},\"hovermode\":\"closest\",\"hoverlabel\":{\"align\":\"left\"},\"paper_bgcolor\":\"white\",\"plot_bgcolor\":\"#E5ECF6\",\"polar\":{\"bgcolor\":\"#E5ECF6\",\"angularaxis\":{\"gridcolor\":\"white\",\"linecolor\":\"white\",\"ticks\":\"\"},\"radialaxis\":{\"gridcolor\":\"white\",\"linecolor\":\"white\",\"ticks\":\"\"}},\"ternary\":{\"bgcolor\":\"#E5ECF6\",\"aaxis\":{\"gridcolor\":\"white\",\"linecolor\":\"white\",\"ticks\":\"\"},\"baxis\":{\"gridcolor\":\"white\",\"linecolor\":\"white\",\"ticks\":\"\"},\"caxis\":{\"gridcolor\":\"white\",\"linecolor\":\"white\",\"ticks\":\"\"}},\"coloraxis\":{\"colorbar\":{\"outlinewidth\":0,\"ticks\":\"\"}},\"colorscale\":{\"sequential\":[[0.0,\"#0d0887\"],[0.1111111111111111,\"#46039f\"],[0.2222222222222222,\"#7201a8\"],[0.3333333333333333,\"#9c179e\"],[0.4444444444444444,\"#bd3786\"],[0.5555555555555556,\"#d8576b\"],[0.6666666666666666,\"#ed7953\"],[0.7777777777777778,\"#fb9f3a\"],[0.8888888888888888,\"#fdca26\"],[1.0,\"#f0f921\"]],\"sequentialminus\":[[0.0,\"#0d0887\"],[0.1111111111111111,\"#46039f\"],[0.2222222222222222,\"#7201a8\"],[0.3333333333333333,\"#9c179e\"],[0.4444444444444444,\"#bd3786\"],[0.5555555555555556,\"#d8576b\"],[0.6666666666666666,\"#ed7953\"],[0.7777777777777778,\"#fb9f3a\"],[0.8888888888888888,\"#fdca26\"],[1.0,\"#f0f921\"]],\"diverging\":[[0,\"#8e0152\"],[0.1,\"#c51b7d\"],[0.2,\"#de77ae\"],[0.3,\"#f1b6da\"],[0.4,\"#fde0ef\"],[0.5,\"#f7f7f7\"],[0.6,\"#e6f5d0\"],[0.7,\"#b8e186\"],[0.8,\"#7fbc41\"],[0.9,\"#4d9221\"],[1,\"#276419\"]]},\"xaxis\":{\"gridcolor\":\"white\",\"linecolor\":\"white\",\"ticks\":\"\",\"title\":{\"standoff\":15},\"zerolinecolor\":\"white\",\"automargin\":true,\"zerolinewidth\":2},\"yaxis\":{\"gridcolor\":\"white\",\"linecolor\":\"white\",\"ticks\":\"\",\"title\":{\"standoff\":15},\"zerolinecolor\":\"white\",\"automargin\":true,\"zerolinewidth\":2},\"scene\":{\"xaxis\":{\"backgroundcolor\":\"#E5ECF6\",\"gridcolor\":\"white\",\"linecolor\":\"white\",\"showbackground\":true,\"ticks\":\"\",\"zerolinecolor\":\"white\",\"gridwidth\":2},\"yaxis\":{\"backgroundcolor\":\"#E5ECF6\",\"gridcolor\":\"white\",\"linecolor\":\"white\",\"showbackground\":true,\"ticks\":\"\",\"zerolinecolor\":\"white\",\"gridwidth\":2},\"zaxis\":{\"backgroundcolor\":\"#E5ECF6\",\"gridcolor\":\"white\",\"linecolor\":\"white\",\"showbackground\":true,\"ticks\":\"\",\"zerolinecolor\":\"white\",\"gridwidth\":2}},\"shapedefaults\":{\"line\":{\"color\":\"#2a3f5f\"}},\"annotationdefaults\":{\"arrowcolor\":\"#2a3f5f\",\"arrowhead\":0,\"arrowwidth\":1},\"geo\":{\"bgcolor\":\"white\",\"landcolor\":\"#E5ECF6\",\"subunitcolor\":\"white\",\"showland\":true,\"showlakes\":true,\"lakecolor\":\"white\"},\"title\":{\"x\":0.05},\"mapbox\":{\"style\":\"light\"}}},\"xaxis\":{\"anchor\":\"y\",\"domain\":[0.0,1.0],\"title\":{\"text\":\"HOA\"}},\"yaxis\":{\"anchor\":\"x\",\"domain\":[0.0,1.0]},\"legend\":{\"tracegroupgap\":0},\"title\":{\"text\":\"HOA boxplot\"},\"boxmode\":\"group\"},                        {\"responsive\": true}                    ).then(function(){\n",
              "                            \n",
              "var gd = document.getElementById('3b132f95-8436-41f8-9570-72c6b9c4f374');\n",
              "var x = new MutationObserver(function (mutations, observer) {{\n",
              "        var display = window.getComputedStyle(gd).display;\n",
              "        if (!display || display === 'none') {{\n",
              "            console.log([gd, 'removed!']);\n",
              "            Plotly.purge(gd);\n",
              "            observer.disconnect();\n",
              "        }}\n",
              "}});\n",
              "\n",
              "// Listen for the removal of the full notebook cells\n",
              "var notebookContainer = gd.closest('#notebook-container');\n",
              "if (notebookContainer) {{\n",
              "    x.observe(notebookContainer, {childList: true});\n",
              "}}\n",
              "\n",
              "// Listen for the clearing of the current output cell\n",
              "var outputEl = gd.closest('.output');\n",
              "if (outputEl) {{\n",
              "    x.observe(outputEl, {childList: true});\n",
              "}}\n",
              "\n",
              "                        })                };                            </script>        </div>\n",
              "</body>\n",
              "</html>"
            ]
          },
          "metadata": {}
        }
      ]
    },
    {
      "cell_type": "code",
      "source": [
        "# ploting 'HOA' distribution on a box plot\n",
        "df_sold_price = house_data_optimised['sold_price']\n",
        "fig = px.box(df_sold_price, x= 'sold_price', title= 'sold_price boxplot')\n",
        "fig.show()"
      ],
      "metadata": {
        "colab": {
          "base_uri": "https://localhost:8080/",
          "height": 542
        },
        "id": "3u_KAvXx75oi",
        "outputId": "056489ef-b3bb-492e-a670-f778da02343f",
        "collapsed": true
      },
      "execution_count": null,
      "outputs": [
        {
          "output_type": "display_data",
          "data": {
            "text/html": [
              "<html>\n",
              "<head><meta charset=\"utf-8\" /></head>\n",
              "<body>\n",
              "    <div>            <script src=\"https://cdnjs.cloudflare.com/ajax/libs/mathjax/2.7.5/MathJax.js?config=TeX-AMS-MML_SVG\"></script><script type=\"text/javascript\">if (window.MathJax && window.MathJax.Hub && window.MathJax.Hub.Config) {window.MathJax.Hub.Config({SVG: {font: \"STIX-Web\"}});}</script>                <script type=\"text/javascript\">window.PlotlyConfig = {MathJaxConfig: 'local'};</script>\n",
              "        <script charset=\"utf-8\" src=\"https://cdn.plot.ly/plotly-2.35.2.min.js\"></script>                <div id=\"327fbe43-6c49-4b45-b3a8-5344b5271d19\" class=\"plotly-graph-div\" style=\"height:525px; width:100%;\"></div>            <script type=\"text/javascript\">                                    window.PLOTLYENV=window.PLOTLYENV || {};                                    if (document.getElementById(\"327fbe43-6c49-4b45-b3a8-5344b5271d19\")) {                    Plotly.newPlot(                        \"327fbe43-6c49-4b45-b3a8-5344b5271d19\",                        [{\"alignmentgroup\":\"True\",\"hovertemplate\":\"sold_price=%{x}\\u003cextra\\u003e\\u003c\\u002fextra\\u003e\",\"legendgroup\":\"\",\"marker\":{\"color\":\"#636efa\"},\"name\":\"\",\"notched\":false,\"offsetgroup\":\"\",\"orientation\":\"h\",\"showlegend\":false,\"x\":[2600000.0,2224506.0,2331000.0,2296443.0,1750000.0,2117552.0,1750000.0,1800000.0,1950000.0,1950000.0,1890000.0,1400000.0,1909299.0,1800000.0,1600000.0,1680000.0,1750000.0,1937000.0,1831392.0,1700000.0,1650000.0,1700000.0,1700000.0,2272554.0,1768000.0,1865705.0,1610000.0,1500000.0,1600000.0,1769386.0,1450000.0,1657019.0,1500000.0,1550000.0,1210520.0,1557864.0,1625000.0,1780313.0,1697215.0,1450000.0,1600000.0,1525000.0,1400000.0,1480000.0,1495000.0,1549000.0,1565000.0,1593000.0,1500000.0,1547664.0,1350000.0,1510000.0,1550000.0,1501313.0,1262500.0,1400000.0,1575042.0,1450000.0,1400000.0,1350000.0,1300000.0,1200000.0,1400000.0,1310000.0,1375000.0,1225000.0,1425000.0,1494392.0,1450000.0,1350000.0,1300000.0,1325000.0,1425000.0,1467523.0,2076160.0,1350000.0,1350000.0,1263000.0,1250000.0,1335000.0,1350000.0,1443840.0,1325000.0,1370000.0,1220000.0,1250000.0,1341387.0,1250000.0,1275000.0,1300000.0,1337500.0,1332000.0,1175000.0,1325000.0,1302000.0,1297500.0,1250000.0,1340000.0,1250000.0,1212500.0,1374000.0,1345000.0,1275000.0,1300000.0,1285000.0,1250000.0,1362000.0,1250000.0,1325000.0,1323000.0,1189550.0,1275000.0,1200000.0,1344000.0,1296500.0,1300000.0,1348000.0,1250000.0,1408464.0,1215000.0,1330245.0,1100000.0,1250000.0,1275000.0,1225000.0,1100000.0,1250000.0,1225000.0,1125000.0,1100000.0,1295000.0,1320000.0,1400000.0,1395000.0,1200000.0,1260000.0,1250000.0,1200000.0,1180000.0,1175500.0,1200000.0,1250000.0,1275000.0,1200000.0,1250000.0,1125478.0,1100000.0,1200000.0,1250000.0,1112500.0,1245000.0,1180000.0,900000.0,1200000.0,1090000.0,1026000.0,1075000.0,1169000.0,1200000.0,1250000.0,1200000.0,1240000.0,1150000.0,1185000.0,1225000.0,1185000.0,1200000.0,1160000.0,1249000.0,1110000.0,1220000.0,1140000.0,1150000.0,1120000.0,1100000.0,1075000.0,1200000.0,1100000.0,1050000.0,1200000.0,1075000.0,1150000.0,1034000.0,1100000.0,1200000.0,1100000.0,1050000.0,1100000.0,1150000.0,1155000.0,1150000.0,1180000.0,1075000.0,1060000.0,1035000.0,1035000.0,1100000.0,1050000.0,1100000.0,1136500.0,1100000.0,1015000.0,1090600.0,1195000.0,1017500.0,1060000.0,1150000.0,1060000.0,1100000.0,1100000.0,1150000.0,1020000.0,1115000.0,1125000.0,1000000.0,1070000.0,1032000.0,1050000.0,1100000.0,950000.0,1135000.0,995000.0,1050000.0,1000000.0,1025000.0,1075000.0,1055000.0,966770.5,1060000.0,1000000.0,1030000.0,1078750.0,1000000.0,1040000.0,1120000.0,1062500.0,1080000.0,1125000.0,1080000.0,1025000.0,1075000.0,1100000.0,1055000.0,1110000.0,1095000.0,1100000.0,1125000.0,1050000.0,1050000.0,1060000.0,950000.0,1058000.0,1000000.0,987500.0,1050000.0,975000.0,1050000.0,1035000.0,975000.0,1065000.0,1040000.0,1100000.0,1032500.0,910000.0,1000000.0,1100000.0,985000.0,1043320.0,1040000.0,985000.0,1043000.0,1025000.0,1084000.0,1050000.0,1005000.0,1025000.0,990000.0,1020000.0,1030000.0,1085000.0,1010000.0,1045000.0,980000.0,1030000.0,930000.0,1090000.0,1015000.0,1050000.0,1050000.0,993000.0,975000.0,1000000.0,970000.0,965000.0,950000.0,1000000.0,1073942.0,977000.0,1045000.0,960000.0,1095084.0,950000.0,990000.0,1053649.0,975000.0,1040000.0,1020000.0,1035000.0,1010000.0,950000.0,935000.0,1090000.0,1025000.0,950000.0,1005000.0,975000.0,1001000.0,1004965.0,1010000.0,1038000.0,975000.0,1048842.0,1005000.0,1069000.0,990000.0,960000.0,935000.0,975000.0,973000.0,950000.0,900000.0,1000000.0,1000089.0,1100000.0,945000.0,925000.0,950000.0,950000.0,960000.0,975000.0,950000.0,960000.0,990000.0,982500.0,945000.0,1000000.0,850000.0,900000.0,1048685.0,1025000.0,1007821.3,975000.0,965000.0,950000.0,975000.0,980000.0,975000.0,1007583.0,970000.0,950000.0,1075000.0,950000.0,980000.0,980000.0,999000.0,969500.0,980000.0,950000.0,998000.0,998000.0,972877.0,987500.0,937650.0,935000.0,975000.0,945000.0,975000.0,975000.0,890000.0,980000.0,985000.0,980000.0,945000.0,850000.0,950000.0,1020000.0,915000.0,925000.0,950000.0,800000.0,925000.0,930000.0,955000.0,950000.0,950000.0,956000.0,965000.0,965000.0,1005000.0,955000.0,900000.0,975000.0,940000.0,1110000.0,965000.0,960750.0,985000.0,900000.0,930000.0,963000.0,965000.0,960000.0,925000.0,860000.0,880290.0,950000.0,947500.0,987000.0,989000.0,950000.0,965000.0,935000.0,907000.0,965000.0,985000.0,900000.0,900000.0,965000.0,960000.0,927500.0,1044756.0,900000.0,950000.0,875000.0,959500.0,975000.0,975000.0,965000.0,950000.0,940000.0,907000.0,942500.0,950000.0,875000.0,975000.0,945000.0,965000.0,925000.0,985368.0,950000.0,925000.0,920000.0,921500.0,900000.0,940000.0,971976.0,900000.0,910000.0,941965.0,908000.0,937500.0,950000.0,935000.0,945000.0,950795.0,915000.0,959900.0,925000.0,910000.0,960000.0,915000.0,900000.0,850000.0,867500.0,875000.0,888000.0,867500.0,925000.0,807000.0,870000.0,920000.0,920000.0,905000.0,889000.0,859000.0,885000.0,900000.0,935000.0,950000.0,915000.0,695000.0,915000.0,950000.0,950000.0,900000.0,928000.0,922000.0,875000.0,925000.0,885000.0,830000.0,943500.0,888000.0,930000.0,925000.0,925000.0,925000.0,880700.0,850000.0,915000.0,940000.0,887000.0,925000.0,923000.0,890000.0,912500.0,911000.0,820000.0,1000000.0,920000.0,945000.0,897176.0,890000.0,895000.0,900000.0,900000.0,917000.0,900000.0,895000.0,900000.0,875000.0,900000.0,900000.0,935000.0,895000.0,915000.0,900000.0,850000.0,905000.0,815000.0,875000.0,870000.0,900000.0,900000.0,929000.0,920000.0,927000.0,899900.0,880000.0,885000.0,860000.0,842500.0,920000.0,910000.0,900000.0,885000.0,890000.0,870000.0,869900.0,922500.0,900000.0,850000.0,885000.0,885000.0,900000.0,875000.0,860000.0,777633.0,865000.0,900000.0,907000.0,890000.0,900000.0,875000.0,885000.0,900000.0,826500.0,825000.0,925000.0,900000.0,860000.0,860000.0,870000.0,850000.0,900000.0,880000.0,820000.0,862500.0,860000.0,900000.0,825000.0,865000.0,835000.0,875000.0,899000.0,850000.0,865000.0,840000.0,865000.0,840000.0,780000.0,876000.0,868500.0,870000.0,855000.0,875000.0,844000.0,850000.0,862500.0,875000.0,880000.0,817000.0,825000.0,837500.0,885000.0,870000.0,880000.0,865000.0,870000.0,830000.0,865000.0,815000.0,897000.0,850000.0,825000.0,895000.0,835000.0,850000.0,865000.0,850000.0,1020000.0,840000.0,869500.0,825000.0,842500.0,889500.0,859500.0,810000.0,885000.0,850000.0,875000.0,845000.0,860000.0,850000.0,885000.0,895000.0,880000.0,825000.0,875000.0,875000.0,895000.0,895000.0,890000.0,875000.0,864500.0,850000.0,860000.0,875000.0,875000.0,800000.0,890000.0,870000.0,862500.0,885000.0,879526.0,889626.0,855000.0,837000.0,850000.0,815000.0,865000.0,836000.0,880000.0,833500.0,858000.0,835000.0,900000.0,850000.0,860000.0,800000.0,873000.0,870000.0,875000.0,842000.0,875000.0,850000.0,870000.0,850000.0,860000.0,800000.0,880000.0,825000.0,845000.0,820000.0,830000.0,879000.0,856500.0,883286.0,867677.09,848000.0,842500.0,845000.0,825000.0,800000.0,800000.0,815000.0,860000.0,845000.0,875000.0,825000.0,840000.0,845000.0,865000.0,850000.0,865000.0,840000.0,785000.0,825000.0,840000.0,830000.0,875000.0,850000.0,835000.0,840000.0,860000.0,845000.0,850000.0,835000.0,840000.0,834000.0,859000.0,850000.0,830000.0,859000.0,850000.0,800000.0,869000.0,845000.0,870500.0,800000.0,821000.0,811969.0,835000.0,820000.0,840000.0,850000.0,855000.0,815940.0,861638.0,784000.0,839000.0,800000.0,825000.0,820000.0,825000.0,847600.0,837500.0,835000.0,850000.0,821359.0,780000.0,800000.0,845000.0,815000.0,850000.0,825000.0,819000.0,785000.0,840000.0,850000.0,786000.0,869000.0,850000.0,795000.0,787500.0,810000.0,775000.0,816500.0,802300.0,843000.0,825000.0,825000.0,825000.0,835000.0,775000.0,805000.0,795000.0,803000.0,815000.0,808750.0,750000.0,851000.0,835000.0,827000.0,771500.0,822500.0,815000.0,801000.0,750000.0,835000.0,815000.0,750000.0,800000.0,811250.0,822500.0,775000.0,800000.0,800000.0,820000.0,820000.0,810000.0,790000.0,830000.0,810000.0,793008.0,830000.0,789000.0,815000.0,765000.0,825000.0,800000.0,789000.0,800000.0,792500.0,823000.0,805000.0,786620.0,790000.0,799800.0,802500.0,748000.0,775000.0,800000.0,809000.0,799500.0,809170.0,832375.0,790000.0,825000.0,820000.0,800000.0,809310.0,800000.0,812500.0,825000.0,815000.0,750000.0,800000.0,810000.0,750000.0,877170.0,770000.0,800000.0,795000.0,775000.0,780000.0,810000.0,750000.0,815500.0,795000.0,800000.0,780000.0,740000.0,815000.0,797000.0,765000.0,805000.0,815000.0,820000.0,820000.0,850000.0,775000.0,800000.0,805000.0,810000.0,805000.0,800000.0,837000.0,825000.0,800000.0,800000.0,812000.0,790000.0,790000.0,849000.0,805000.0,790000.0,795000.0,775000.0,821080.0,770000.0,790000.0,718000.0,770000.0,750000.0,750000.0,795000.0,800000.0,810000.0,802000.0,814500.0,790000.0,750000.0,800000.0,819000.0,781250.0,800000.0,825000.0,800000.0,817034.0,815000.0,799000.0,790000.0,780000.0,805000.0,798000.0,799847.0,788500.0,809400.0,770000.0,750000.0,806971.0,735000.0,769000.0,790000.0,735000.0,771000.0,750000.0,765000.0,763000.0,800000.0,775000.0,760000.0,730000.0,750000.0,752400.0,790000.0,760000.0,735000.0,805000.0,800000.0,800000.0,800977.67,780000.0,771000.0,790000.0,785000.0,735000.0,775000.0,773000.0,769000.0,740000.0,750000.0,799000.0,775000.0,750000.0,799900.0,789770.0,775000.0,775000.0,715000.0,799000.0,765000.0,799000.0,745000.0,799000.0,788000.0,800000.0,750000.0,698000.0,725000.0,780000.0,710000.0,780000.0,750000.0,674150.0,783000.0,787000.0,792000.0,788000.0,700000.0,743500.0,790000.0,710000.0,765000.0,788000.0,785000.0,750000.0,775000.0,700000.0,727000.0,779000.0,780000.0,760000.0,690000.0,779000.0,785000.0,799000.0,785000.0,750000.0,885000.0,765000.0,800000.0,790000.0,757000.0,720000.0,771000.0,760000.0,757500.0,725000.0,799000.0,784500.0,775000.0,799000.0,770000.0,760000.0,775000.0,775000.0,799000.0,779000.0,779500.0,768500.0,770000.0,775000.0,700000.0,775000.0,795000.0,745000.0,750000.0,700000.0,801000.0,780000.0,750000.0,775000.0,765000.0,750000.0,785000.0,769000.0,787000.0,720000.0,780488.0,737345.0,775000.0,750000.0,780000.0,765000.0,775000.0,795000.0,750000.0,565000.0,740000.0,775000.0,840000.0,725000.0,775000.0,742000.0,775000.0,705000.0,675000.0,775000.0,795000.0,690000.0,740000.0,700000.0,790000.0,740000.0,786000.0,760000.0,791000.0,755000.0,750000.0,790000.0,749500.0,750000.0,765000.0,784500.0,751750.0,790000.0,565000.0,675000.0,780000.0,785000.0,565000.0,796000.0,790000.0,780000.0,775000.0,780000.0,760000.0,745000.0,775000.0,780000.0,775000.0,790000.0,800000.0,782500.0,798342.0,735000.0,780000.0,750122.0,789900.0,766000.0,800000.0,741000.0,730000.0,765000.0,765000.0,779000.0,760000.0,767000.0,700000.0,765000.0,775000.0,788000.0,755000.0,782000.0,650000.0,769000.0,760000.0,735000.0,785000.0,767500.0,748000.0,740000.0,773817.0,730000.0,760000.0,784154.0,754500.0,750000.0,740000.0,760000.0,725000.0,780000.0,750000.0,780000.0,750000.0,760000.0,740000.0,765000.0,770000.0,740000.0,729500.0,740000.0,754500.0,720000.0,779000.0,710000.0,741500.0,755000.0,745000.0,758000.0,760000.0,745000.0,800000.0,764000.0,700000.0,775000.0,700000.0,755000.0,755000.0,744000.0,700000.0,754500.0,765000.0,765000.0,680000.0,750000.0,761000.0,750000.0,727500.0,743000.0,690000.0,700000.0,740000.0,750000.0,760000.0,775000.0,765000.0,690000.0,695000.0,750000.0,710000.0,735000.0,740000.0,783750.13,720000.0,740711.0,735000.0,745000.0,750000.0,735480.0,750000.0,805635.0,745000.0,772279.0,740000.0,690000.0,745000.0,770000.0,725000.0,745000.0,769900.0,745000.0,750000.0,735000.0,740000.0,725000.0,730000.0,745000.0,750000.0,740000.0,750000.0,769000.0,750000.0,760000.0,745000.0,745000.0,766735.0,690000.0,757500.0,752500.0,745000.0,740000.0,700000.0,765000.0,742000.0,753000.0,727000.0,750000.0,762418.0,762393.0,733000.0,751000.0,740000.0,812770.0,759900.0,759500.0,680000.0,725000.0,759000.0,745000.0,759000.0,725000.0,735000.0,700000.0,745000.0,740000.0,719000.0,735000.0,737500.0,730000.0,745000.0,725000.0,725000.0,725000.0,734500.0,735000.0,725000.0,695000.0,740000.0,715000.0,735000.0,730000.0,725000.0,740000.0,745000.0,720000.0,725000.0,730000.0,700000.0,732000.0,640000.0,740000.0,700000.0,700000.0,708000.0,730000.0,750000.0,735000.0,750000.0,762500.0,720000.0,730000.0,715000.0,700000.0,671000.0,735000.0,750000.0,727500.0,710000.0,730000.0,755000.0,737000.0,710000.0,730000.0,709000.0,740000.0,714000.0,715000.0,690000.0,720000.0,715000.0,765000.0,739900.0,680000.0,735000.0,740000.0,739000.0,665000.0,730000.0,750000.0,740000.0,690000.0,682000.0,708000.0,745000.0,749900.0,727500.0,730000.0,725000.0,710000.0,725000.0,749000.0,715000.0,685000.0,745000.0,728000.0,740000.0,700000.0,739000.0,745000.0,717000.0,725000.0,710000.0,739000.0,739000.0,749000.0,705000.0,667000.0,700000.0,725000.0,685000.0,725000.0,730000.0,749000.0,670000.0,697000.0,710000.0,725000.0,735000.0,732000.0,737000.0,749000.0,717000.0,715000.0,710000.0,720000.0,735000.0,725000.0,690000.0,735000.0,705000.0,715000.0,733000.0,742000.0,735000.0,725000.0,735000.0,737000.0,735000.0,747000.0,695000.0,694500.0,742000.0,700000.0,730000.0,740000.0,725000.0,740000.0,758663.91,730000.0,720000.0,725000.0,710000.0,728400.0,710000.0,750000.0,701000.0,735000.0,698000.0,740000.0,720000.0,740000.0,700000.0,740000.0,725000.0,735000.0,705000.0,739900.0,739900.0,720000.0,730000.0,670000.0,725000.0,739900.0,720000.0,705000.0,686900.0,735000.0,700000.0,694000.0,735000.0,715000.0,707000.0,700000.0,675000.0,730000.0,645000.0,710000.0,720000.0,695000.0,732000.0,680000.0,715000.0,700000.0,727000.0,718000.0,679500.0,737485.0,736415.0,680000.0,735000.0,700000.0,722000.0,700000.0,775000.0,725000.0,700000.0,710000.0,725000.0,680000.0,705000.0,713500.0,720000.0,735000.0,710000.0,695000.0,700000.0,705000.0,733000.0,730000.0,730000.0,716000.0,720000.0,700000.0,695000.0,694300.0,710000.0,660000.0,680000.0,700000.0,719900.0,695000.0,675000.0,729000.0,690000.0,695000.0,710000.0,715000.0,705000.0,695000.0,729000.0,670000.0,725554.0,700000.0,650000.0,725000.0,680000.0,700000.0,725000.0,685000.0,728000.0,680000.0,720000.0,690000.0,700000.0,690000.0,710000.0,725000.0,690000.0,725000.0,700000.0,700000.0,690000.0,700000.0,710000.0,726000.0,722000.0,713000.0,710000.0,725000.0,708000.0,700000.0,725000.0,715000.0,725000.0,725000.0,715000.0,725000.0,665000.0,685000.0,705000.0,725000.0,699500.0,700000.0,685000.0,680000.0,725000.0,706495.0,700000.0,708320.0,712000.0,675000.0,724000.0,723660.0,695000.0,722330.0,721701.0,705000.0,695000.0,677500.0,720000.0,725000.0,700000.0,690000.0,720000.0,705000.0,719900.0,682500.0,685000.0,614995.0,690000.0,580000.0,690000.0,719000.0,710000.0,716083.0,682500.0,715000.0,700000.0,667000.0,689000.0,716000.0,710000.0,701000.0,705000.0,698000.0,675000.0,711254.0,680000.0,695000.0,698000.0,687500.0,690000.0,698000.0,704000.0,709000.0,705837.0,781000.0,695000.0,700000.0,720000.0,600000.0,600000.0,662500.0,625000.0,678000.0,700000.0,795000.0,689000.0,630000.0,715000.0,685000.0,690000.0,690000.0,680000.0,680000.0,690000.0,685000.0,700000.0,680000.0,685000.0,685000.0,664000.0,700000.0,667500.0,685000.0,670000.0,700000.0,695000.0,675000.0,692000.0,687000.0,685000.0,670000.0,695000.0,680000.0,658000.0,712000.0,670000.0,665000.0,689900.0,680000.0,660000.0,680679.0,640000.0,699900.0,675000.0,683000.0,611500.0,695000.0,685000.0,690000.0,699900.0,660000.0,688000.0,700000.0,695000.0,699900.0,675000.0,699900.0,669000.0,690000.0,713700.0,700000.0,650000.0,672500.0,675000.0,679000.0,500000.0,680000.0,640000.0,699000.0,699000.0,667500.0,675000.0,640000.0,680000.0,685000.0,628000.0,668000.0,690000.0,680000.0,680000.0,686000.0,655000.0,698000.0,630000.0,622500.0,699000.0,668000.0,665000.0,680000.0,705000.0,675000.0,650000.0,662000.0,699000.0,630000.0,630000.0,685000.0,690000.0,671000.0,650000.0,685000.0,672000.0,690000.0,619000.0,700000.0,690000.0,644000.0,675000.0,682080.0,715000.0,670000.0,683000.0,665000.0,680000.0,650000.0,614000.0,650000.0,675000.0,685000.0,677000.0,600000.0,685000.0,678200.0,690000.0,680000.0,675000.0,659500.0,699000.0,656500.0,688882.0,681600.0,560000.0,675000.0,687000.0,680000.0,680000.0,695000.0,670000.0,600000.0,675000.0,680000.0,675000.0,663000.0,675000.0,712000.0,680000.0,705000.0,675000.0,669500.0,690000.0,650000.0,699000.0,680000.0,650000.0,614000.0,659000.0,680000.0,665000.0,635000.0,680000.0,675000.0,674000.0,675000.0,667000.0,697700.0,684000.0,660000.0,670000.0,690000.0,685000.0,660000.0,695257.0,675000.0,682500.0,650000.0,675000.0,665000.0,685000.0,675000.0,669000.0,630000.0,686000.0,675000.0,660000.0,654000.0,680000.0,675000.0,675000.0,622500.0,675000.0,680000.0,690000.0,655000.0,675000.0,682000.0,620000.0,675000.0,689000.0,649000.0,670000.0,685000.0,655000.0,685000.0,675000.0,675000.0,685000.0,680000.0,660000.0,685000.0,660000.0,650000.0,565000.0,700500.0,680000.0,495000.0,685000.0,695000.0,664500.0,687500.0,671000.0,670000.0,698334.0,640000.0,675000.0,685000.0,690000.0,691000.0,675000.0,670000.0,655000.0,650000.0,665000.0,685000.0,650000.0,675000.0,679500.0,665000.0,689000.0,665000.0,662000.0,679000.0,650000.0,670000.0,625000.0,650000.0,640000.0,680000.0,674000.0,689000.0,650000.0,640000.0,675000.0,660000.0,665000.0,662500.0,654000.0,675000.0,662000.0,650000.0,675000.0,686000.0,665000.0,565000.0,615000.0,640000.0,670000.0,670000.0,680000.0,685000.0,645000.0,670000.0,685000.0,672000.0,685000.0,665000.0,670000.0,640000.0,675000.0,600000.0,665000.0,635000.0,667000.0,660000.0,650000.0,650000.0,660000.0,663500.0,677900.0,658000.0,650000.0,670000.0,670000.0,669000.0,679000.0,675000.0,660000.0,667500.0,668000.0,675000.0,575000.0,625000.0,610000.0,650000.0,644500.0,662500.0,660000.0,667500.0,655000.0,660000.0,645000.0,660000.0,679000.0,645500.0,665000.0,575000.0,651500.0,677500.0,660000.0,670000.0,655000.0,650000.0,665000.0,660000.0,660000.0,646000.0,605000.0,650000.0,649000.0,675000.0,525000.0,702000.0,625000.0,650000.0,658000.0,550000.0,623787.0,665000.0,630000.0,595000.0,650000.0,650000.0,696000.0,655000.0,682500.0,653000.0,650000.0,633000.0,620000.0,650000.0,675000.0,650000.0,633000.0,635000.0,655000.0,660000.0,675000.0,674000.0,645000.0,675000.0,665000.0,675000.0,658000.0,650000.0,665000.0,675000.0,660000.0,658000.0,646000.0,670000.0,657000.0,660000.0,650000.0,650000.0,670000.0,666000.0,675000.0,630000.0,650000.0,675000.0,645000.0,665000.0,687000.0,665000.0,660000.0,610000.0,650000.0,675000.0,665000.0,645000.0,650000.0,671000.0,606500.0,659747.0,655000.0,630000.0,650000.0,620000.0,657500.0,675000.0,674500.0,645000.0,625000.0,674492.0,664000.0,655000.0,655000.0,560100.0,650000.0,655000.0,665000.0,670000.0,650000.0,660000.0,642000.0,650000.0,660000.0,659200.0,667500.0,650000.0,655000.0,625000.0,660000.0,651000.0,665000.0,640500.0,630000.0,669000.0,637500.0,632000.0,635000.0,605000.0,629000.0,625000.0,650000.0,657000.0,612000.0,632000.0,630000.0,638500.0,640000.0,625000.0,625000.0,580000.0,580000.0,625000.0,655000.0,661000.0,650000.0,650000.0,650000.0,620000.0,654000.0,640000.0,667500.0,652000.0,650000.0,661500.0,625000.0,660000.0,655000.0,644000.0,664500.0,655000.0,655000.0,640000.0,662900.0,657000.0,652000.0,630000.0,650000.0,594500.0,635000.0,605000.0,660000.0,655000.0,640000.0,650000.0,650000.0,665000.0,640000.0,640000.0,620000.0,634000.0,660000.0,659800.0,650000.0,640000.0,647000.0,645000.0,630000.0,630000.0,650000.0,650000.0,649000.0,625000.0,610000.0,645000.0,622500.0,625000.0,660000.0,650000.0,650000.0,640000.0,650928.0,649000.0,650000.0,635000.0,650000.0,615000.0,635000.0,625000.0,658000.0,657500.0,640000.0,630000.0,655000.0,615000.0,640000.0,670596.0,645000.0,650716.0,620000.0,650000.0,625000.0,620000.0,620000.0,620000.0,615000.0,622500.0,620000.0,643000.0,640000.0,620000.0,630000.0,638500.0,615000.0,545000.0,655000.0,633000.0,650000.0,600000.0,625000.0,639000.0,550000.0,650000.0,625000.0,640000.0,620000.0,605000.0,620000.0,640000.0,615000.0,650000.0,617500.0,615000.0,628000.0,620000.0,650000.0,625000.0,599000.0,640000.0,615000.0,620000.0,600000.0,630000.0,592005.0,627500.0,650000.0,635000.0,620000.0,632500.0,595000.0,627500.0,580000.0,595000.0,635000.0,612500.0,630000.0,664000.0,640000.0,640000.0,625000.0,660000.0,625000.0,575000.0,650000.0,637500.0,615000.0,640000.0,615000.0,640000.0,630000.0,640000.0,625000.0,620000.0,635000.0,650000.0,637000.0,650000.0,660000.0,650000.0,635000.0,620000.0,650000.0,635000.0,635000.0,640000.0,635000.0,606250.0,630000.0,645000.0,630000.0,610000.0,595000.0,655000.0,637500.0,650000.0,630000.0,620000.0,580000.0,620000.0,600000.0,630000.0,620750.0,598975.0,650000.0,624000.0,650000.0,632000.0,607000.0,640000.0,630000.0,615000.0,635000.0,645000.0,622000.0,635000.0,615000.0,626500.0,625000.0,640000.0,631000.0,625000.0,635000.0,600000.0,600000.0,650000.0,607000.0,625000.0,550678.25,635000.0,649900.0,630000.0,649900.0,620000.0,625000.0,649900.0,637000.0,665000.0,641000.0,640000.0,632000.0,615000.0,634000.0,642000.0,625000.0,620000.0,600000.0,630500.0,625000.0,635000.0,607500.0,640000.0,630000.0,635000.0,615000.0,658000.0,625000.0,625000.0,645000.0,635000.0,625000.0,620000.0,649000.0,615000.0,636000.0,642500.0,636000.0,625000.0,635000.0,630000.0,640000.0,625000.0,620000.0,635000.0,611500.0,643000.0,635000.0,609000.0,600000.0,629000.0,640000.0,625000.0,649000.0,622000.0,619500.0,630000.0,635000.0,630000.0,610000.0,575000.0,615000.0,635000.0,645000.0,600000.0,639500.0,625000.0,629000.0,650000.0,627500.0,649000.0,640000.0,630000.0,625000.0,638000.0,600000.0,617500.0,630000.0,600000.0,640000.0,627650.0,640000.0,629000.0,630000.0,635000.0,625000.0,635000.0,610000.0,624500.0,649000.0,654000.0,610000.0,640000.0,572500.0,638000.0,635000.0,640000.0,605000.0,630000.0,635000.0,625000.0,625000.0,620000.0,632000.0,625000.0,615000.0,625000.0,635000.0,635000.0,637000.0,630000.0,600000.0,615000.0,597450.0,635000.0,626500.0,635000.0,620000.0,600000.0,620000.0,630000.0,625000.0,640000.0,540000.0,640000.0,540000.0,615000.0,639900.0,635000.0,629000.0,625000.0,630000.0,600000.0,601900.0,624000.0,646759.0,625000.0,612500.0,605000.0,567260.0,600000.0,610000.0,612500.0,633000.0,615000.0,610000.0,639000.0,622000.0,625000.0,620000.0,630000.0,617500.0,639000.0,620500.0,629400.0,620000.0,618000.0,617000.0,639000.0,625000.0,637400.0,600000.0,635451.0,617000.0,600000.0,630000.0,629000.0,565000.0,620000.0,615000.0,580000.0,570000.0,589000.0,600000.0,610000.0,606000.0,635000.0,615000.0,618000.0,622500.0,600000.0,600000.0,600000.0,625000.0,607040.0,635000.0,622000.0,575000.0,585000.0,601500.0,595000.0,607000.0,621000.0,630198.0,605000.0,575000.0,626500.0,625000.0,620000.0,602000.0,600000.0,580000.0,600000.0,610000.0,604090.0,615000.0,625000.0,580000.0,622950.0,619900.0,613000.0,605900.0,625000.0,623000.0,560000.0,613000.0,605000.0,550000.0,625000.0,606000.0,600000.0,605000.0,601000.0,590000.0,597500.0,603059.0,595000.0,622000.0,605000.0,624000.0,570000.0,629000.0,612500.0,605000.0,595000.0,615000.0,600000.0,629000.0,610000.0,570000.0,600000.0,625000.0,620000.0,600000.0,629000.0,625000.0,600000.0,600000.0,605000.0,590000.0,590000.0,625000.0,570000.0,600000.0,610500.0,612500.0,610000.0,625000.0,610000.0,602500.0,600000.0,620000.0,580000.0,600000.0,547500.0,600000.0,578461.0,610000.0,610000.0,575000.0,610000.0,610000.0,565000.0,550000.0,592288.0,575000.0,525000.0,615000.0,627711.0,615000.0,580000.0,605000.0,600000.0,603000.0,625000.0,590000.0,605000.0,590000.0,580000.0,625000.0,625000.0,615000.0,601250.0,615000.0,615000.0,580000.0,590000.0,612000.0,625000.0,625000.0,595000.0,620000.0,625000.0,580000.0,596735.0,617000.0,575000.0,610000.0,600000.0,613000.0,580000.0,630000.0,610000.0,584000.0,635000.0,625000.0,550000.0,625000.0,625000.0,598000.0,605000.0,610000.0,612500.0,603500.0,575000.0,605000.0,600000.0,624900.0,625000.0,625000.0,598000.0,615000.0,600000.0,624900.0,600000.0,610000.0,610000.0,615000.0,623949.0,585000.0,605000.0,617000.0,600000.0,545000.0,565000.0,590000.0,590000.0,575000.0,599000.0,620000.0,620000.0,620000.0,602500.0,602000.0,600000.0,619900.0,580000.0,599000.0,590000.0,605000.0,605000.0,618875.0,585000.0,575000.0,612000.0,575000.0,592000.0,599900.0,610000.0,612000.0,585000.0,600000.0,580000.0,544000.0,600000.0,557000.0,600000.0,609000.0,600000.0,600000.0,600000.0,648000.0,596000.0,600000.0,600000.0,614000.0,599000.0,750000.0,600000.0,618000.0,605000.0,590000.0,616755.0,615712.0,615527.0,595000.0,625000.0,580000.0,610000.0,585000.0,560000.0,600000.0,644777.0,600000.0,605000.0,605000.0,605000.0,606000.0,595000.0,605000.0,605000.0,580000.0,595000.0,606000.0,600000.0,605000.0,602500.0,645000.0,587000.0,614900.0,613587.0,611000.0,600000.0,595000.0,570000.0,595000.0,590000.0,610000.0,595000.0,590000.0,565000.0,565000.0,585000.0,610000.0,610000.0,610000.0,575000.0,556500.0,600000.0,570000.0,609000.0,600000.0,578570.0,606000.0,585000.0,575000.0,595000.0,605000.0,585000.0,615000.0,600000.0,589000.0,560000.0,555000.0,575000.0,625000.0,585000.0,570000.0,590000.0,575000.0,460000.0,600000.0,580000.0,550000.0,571000.0,600000.0,575000.0,560000.0,570000.0,620000.0,600000.0,602000.0,610000.0,592500.0,565000.0,580000.0,589900.0,575000.0,615000.0,580000.0,565000.0,590000.0,585000.0,570000.0,570000.0,590000.0,570000.0,600000.0,571300.0,565000.0,580000.0,605500.0,555000.0,580000.0,600000.0,600000.0,575000.0,590000.0,612000.0,600000.0,589000.0,585000.0,585000.0,575000.0,599999.0,614735.0,600000.0,579950.0,553750.0,575000.0,565000.0,525000.0,585000.0,599999.0,589000.0,580000.0,590000.0,600500.0,580000.0,564000.0,550000.0,595000.0,562000.0,575000.0,535000.0,585000.0,575000.0,580000.0,580162.0,591000.0,575000.0,547250.0,582000.0,549000.0,569900.0,588000.0,575000.0,575000.0,590000.0,575000.0,560000.0,599900.0,575000.0,565000.0,589000.0,540000.0,570000.0,580000.0,550000.0,579900.0,595000.0,605000.0,589000.0,599900.0,600000.0,583500.0,590000.0,585000.0,589900.0,587500.0,579000.0,511000.0,575000.0,490000.0,565000.0,560000.0,560000.0,630000.0,575000.0,599000.0,580000.0,590000.0,561000.0,560000.0,575000.0,540000.0,605000.0,575000.0,575000.0,599000.0,527000.0,595000.0,574000.0,599000.0,585000.0,540000.0,600000.0,605000.0,582500.0,590000.0,599000.0,530000.0,572500.0,565000.0,576000.0,582000.0,550000.0,569000.0,575000.0,549000.0,569000.0,580000.0,585000.0,566630.0,574500.0,555000.0,575000.0,630000.0,550000.0,487500.0,565000.0,550000.0,558000.0,560000.0,590000.0,590000.0,595000.0,570000.0,565000.0,565000.0,575000.0,572000.0,559310.0,555000.0,575000.0,552500.0,570000.0,576000.0,560000.0,560000.0,585000.0,550000.0,560000.0,587500.0,580000.0,585000.0,580000.0,552000.0,550000.0,581750.0,580000.0,579000.0,611000.0,575200.0,594000.0,585000.0,585000.0,590000.0,587500.0,575000.0,586000.0,583000.0,549000.0,585000.0,510000.0,600000.0,600000.0,599000.0,579000.0,575000.0,595000.0,580000.0,575000.0,580000.0,599000.0,560000.0,585000.0,570000.0,562500.0,579900.0,567500.0,540000.0,590000.0,599000.0,595000.0,575000.0,583000.0,568500.0,570000.0,567000.0,579000.0,540000.0,560000.0,525000.0,575000.0,589000.0,600000.0,573000.0,600000.0,599000.0,590000.0,596000.0,589000.0,562000.0,600000.0,600000.0,576000.0,570000.0,563500.0,595000.0,540000.0,568000.0,559000.0,598000.0,585000.0,570000.0,559000.0,578000.0,575000.0,584000.0,534150.0,585000.0,588000.0,597500.0,550000.0,595500.0,550000.0,599122.0,575000.0,555000.0,565000.0,566000.0,585000.0,525000.0,540000.0,550000.0,565000.0,550000.0,500000.0,575000.0,580000.0,584911.0,595000.0,595000.0,605000.0,565000.0,455000.0,580000.0,557000.0,580000.0,517000.0,550000.0,585000.0,580000.0,575000.0,595000.0,600000.0,580000.0,595000.0,565000.0,575000.0,575000.0,595000.0,569500.0,536700.0,580000.0,575000.0,575000.0,580000.0,575000.0,545000.0,567500.0,520000.0,550000.0,590000.0,570000.0,565000.0,575000.0,570000.0,560000.0,580000.0,593000.0,585000.0,585000.0,565000.0,532500.0,552000.0,595000.0,550000.0,540000.0,596000.0,580000.0,562500.0,587500.0,585000.0,560000.0,555000.0,580000.0,585000.0,566500.0,557500.0,565000.0,595000.0,585000.0,595000.0,567000.0,595000.0,575000.0,595000.0,550000.0,552500.0,585000.0,590000.0,594900.0,584500.0,644143.0,585000.0,553118.0,584000.0,579000.0,550000.0,580000.0,565000.0,580000.0,678751.73,565000.0,525000.0,580000.0,590000.0,570000.0,598750.0,565000.0,575000.0,580000.0,550000.0,582000.0,570000.0,560000.0,582000.0,550000.0,569000.0,545000.0,568425.0,550000.0,560000.0,550000.0,552500.0,570000.0,529000.0,589000.0,570000.0,575000.0,566000.0,579000.0,565000.0,580000.0,570000.0,580000.0,575000.0,575000.0,580000.0,560000.0,574900.0,505000.0,575000.0,573000.0,575000.0,579000.0,575000.0,580000.0,567500.0,572500.0,583000.0,574500.0,575000.0,559000.0,580000.0,582500.0,588000.0,550000.0,565000.0,570000.0,595000.0,560000.0,573500.0,562500.0,468000.0,580000.0,585000.0,575000.0,585000.0,575000.0,570000.0,585000.0,600000.0,573300.0,575000.0,565000.0,555000.0,565000.0,575000.0,565000.0,565000.0,535000.0,550000.0,566500.0,585000.0,530000.0,565000.0,572500.0,550000.0,535000.0,563000.0,550000.0,524000.0,605000.0,587000.0,550000.0,563242.0,580000.0,545000.0,577300.0,550000.0,575000.0,577500.0,575000.0,572800.0,585000.0,561000.0,584900.0,560000.0,571500.0,577400.0,565000.0,550000.0,584165.0,540000.0,574528.0,550000.0,579000.0,570000.0,580625.0,580421.0,567700.0,580000.0,550000.0,580000.0,557500.0,562500.0,559350.0,540000.0,560000.0,570000.0,580000.0,565000.0,480000.0,550000.0,570111.0,565650.0,560000.0,579900.0,550000.0,540000.0,560000.0,580000.0,565000.0,563000.0,579000.0,560000.0,547000.0,565000.0,568000.0,579000.0,500000.0,568000.0,564500.0,560000.0,550000.0,547000.0,546000.0,552000.0,540000.0,551000.0,525000.0,559000.0,550000.0,571000.0,545000.0,550000.0,566000.0,577000.0,549300.0,520000.0,560945.0,542000.0,550000.0,555000.0,570000.0,550000.0,545000.0,534500.0,544400.0,635003.0,578418.0,555000.0,564945.0,540000.0,549000.0,526000.0,560000.0,542000.0,567500.0,564173.0,550000.0,575000.0,565000.0,525000.0,565000.0,557000.0,562000.0,375000.0,575000.0,530000.0,550000.0,525000.0,550000.0,540000.0,535000.0,575000.0,525000.0,560000.0,525000.0,550000.0,575000.0,565000.0,550000.0,477000.0,575000.0,550000.0,560000.0,533000.0,575000.0,565000.0,565000.0,555000.0,556000.0,540000.0,565000.0,560000.0,520000.0,555000.0,572500.0,560000.0,565000.0,550000.0,558000.0,526000.0,570000.0,573500.0,450000.0,560000.0,562700.0,555000.0,550000.0,550000.0,575000.0,525000.0,525000.0,530000.0,575000.0,537500.0,547000.0,550000.0,565000.0,540000.0,548000.0,510000.0,535000.0,570000.0,560000.0,575000.0,565000.0,575000.0,560000.0,558000.0,550000.0,550000.0,581797.0,550000.0,540000.0,537000.0,572283.0,525000.0,562000.0,534690.0,500000.0,560000.0,525000.0,556950.0,500000.0,560000.0,565000.0,560000.0,545000.0,540000.0,555000.0,565000.0,570000.0,570000.0,548000.0,560000.0,575000.0,546000.0,538000.0,575000.0,568000.0,543000.0,575000.0,558000.0,565000.0,546000.0,567000.0,550000.0,565000.0,535817.0,553000.0,550000.0,550000.0,535000.0,550000.0,575000.0,530000.0,567500.0,567000.0,554000.0,575000.0,565000.0,575000.0,550000.0,567000.0,582000.0,565000.0,575000.0,540000.0,555000.0,555000.0,571650.0,575000.0,575000.0,575000.0,570000.0,590000.0,651500.0,525000.0,560000.0,563000.0,570000.0,569000.0,564000.0,562500.0,559200.0,540000.0,565000.0,588864.0,535000.0,520000.0,575000.0,555000.0,555000.0,551000.0,574000.0,568882.0,573623.0,566200.0,553000.0,502000.0,572500.0,571010.0,520000.0,560000.0,570000.0,480000.0,549000.0,525000.0,540000.0,555000.0,555000.0,550000.0,540000.0,537000.0,565000.0,567500.0,500000.0,549999.0,520000.0,530000.0,560000.0,555000.0,535000.0,550000.0,552000.0,555000.0,550000.0,569900.0,559000.0,555000.0,545000.0,557000.0,510000.0,550000.0,560000.0,525000.0,555000.0,557000.0,536000.0,495000.0,545000.0,512500.0,535000.0,560000.0,552000.0,525000.0,550000.0,522000.0,527150.0,559000.0,569000.0,525000.0,545000.0,528500.0,555000.0,550000.0,550000.0,550000.0,536000.0,567109.0,552000.0,569000.0,550000.0,550000.0,557000.0,550000.0,550000.0,568963.0,563000.0,557000.0,562000.0,555000.0,555000.0,568000.0,537000.0,567796.0,567608.0,550000.0,530000.0,550000.0,550000.0,544000.0,575359.5,555411.0,560000.0,565000.0,645400.0,550000.0,549750.0,547500.0,540000.0,545000.0,535000.0,565000.0,560000.0,546812.0,555000.0,545000.0,520000.0,535000.0,537000.0,550000.0,560000.0,565000.0,535000.0,560000.0,550000.0,545000.0,560000.0,552500.0,555000.0,532000.0,525000.0,490000.0,535000.0,560000.0,552500.0,565000.0,538400.0,550000.0,555000.0,565000.0,530000.0,560000.0,552500.0,553500.0,565000.0,540000.0,542500.0,555000.0,480000.0,565000.0,555000.0,552000.0,542000.0,535000.0,540000.0,535000.0,550000.0,542000.0,535000.0,525000.0,547000.0,540000.0,553000.0,550000.0,400000.0,530000.0,535000.0,525000.0,556500.0,533990.0,549450.0,562500.0,550000.0,560000.0,540000.0,545000.0,545000.0,551000.0,543720.0,535000.0,490000.0,530000.0,550000.0,560000.0,550000.0,545000.0,547500.0,535000.0,554740.0,557293.0,559950.0,550000.0,525000.0,545000.0,543212.0,527000.0,553500.0,545000.0,525000.0,530000.0,530000.0,565000.0,530000.0,525000.0,540000.0,535000.0,530000.0,545000.0,530000.0,538000.0,540000.0,501000.0,500000.0,525000.0,520000.0,527500.0,525000.0,535000.0,545000.0,520000.0,500000.0,560824.0,551000.0,540000.0,543000.0,559000.0,532000.0,543500.0,559000.0,542000.0,500000.0,553000.0,545000.0,520000.0,543445.0,543678.0,546000.0,545300.0,555000.0,530000.0,550000.0,557293.0,559591.0,545000.0,532500.0,517000.0,546199.0,530000.0,555670.0,535000.0,525000.0,555000.0,564926.0,555000.0,537500.0,555000.0,555000.0,530000.0,525833.0,610174.0,547000.0,530000.0,552549.0,535000.0,540000.0,530000.0,551493.0,550000.0,550240.0,520000.0,550000.0,535000.0,525000.0,520000.0,495000.0,550000.0,525000.0,514900.0,550000.0,497500.0,550000.0,540000.0,525000.0,520000.0,525000.0,542000.0,520000.0,500000.0,550000.0,550000.0,545000.0,525000.0,525000.0,520000.0,540000.0,540000.0,528000.0,512500.0,540000.0,550000.0,525000.0,550000.0,550000.0,550000.0,550000.0,525000.0,532500.0,530000.0,490000.0,486600.0,498000.0,510000.0,535000.0,550000.0,544000.0,555000.0,550000.0,512500.0,520000.0,550000.0,545000.0,535000.0,520000.0,535000.0,537500.0,540000.0,528000.0,510000.0,547500.0,555000.0,525000.0,505000.0,530000.0,540000.0,532525.0,525000.0,510000.0,550000.0,510000.0,540000.0,525000.0,540000.0,539500.0,508000.0,525000.0,525000.0,545000.0,535000.0,540000.0,535000.0,550000.0,516000.0,540000.0,530000.0,540000.0,550000.0,500000.0,525000.0,550000.0,550000.0,550000.0,535000.0,520000.0,535000.0,545000.0,529800.0,560000.0,525000.0,550000.0,515000.0,550000.0,539000.0,535000.0,550000.0,525000.0,550000.0,525000.0,550000.0,545800.0,550000.0,548868.0,530000.0,525000.0,525000.0,525000.0,539100.0,550000.0,534000.0,545000.0,525000.0,525000.0,565000.0,535000.0,550000.0,550000.0],\"x0\":\" \",\"xaxis\":\"x\",\"y0\":\" \",\"yaxis\":\"y\",\"type\":\"box\"}],                        {\"template\":{\"data\":{\"histogram2dcontour\":[{\"type\":\"histogram2dcontour\",\"colorbar\":{\"outlinewidth\":0,\"ticks\":\"\"},\"colorscale\":[[0.0,\"#0d0887\"],[0.1111111111111111,\"#46039f\"],[0.2222222222222222,\"#7201a8\"],[0.3333333333333333,\"#9c179e\"],[0.4444444444444444,\"#bd3786\"],[0.5555555555555556,\"#d8576b\"],[0.6666666666666666,\"#ed7953\"],[0.7777777777777778,\"#fb9f3a\"],[0.8888888888888888,\"#fdca26\"],[1.0,\"#f0f921\"]]}],\"choropleth\":[{\"type\":\"choropleth\",\"colorbar\":{\"outlinewidth\":0,\"ticks\":\"\"}}],\"histogram2d\":[{\"type\":\"histogram2d\",\"colorbar\":{\"outlinewidth\":0,\"ticks\":\"\"},\"colorscale\":[[0.0,\"#0d0887\"],[0.1111111111111111,\"#46039f\"],[0.2222222222222222,\"#7201a8\"],[0.3333333333333333,\"#9c179e\"],[0.4444444444444444,\"#bd3786\"],[0.5555555555555556,\"#d8576b\"],[0.6666666666666666,\"#ed7953\"],[0.7777777777777778,\"#fb9f3a\"],[0.8888888888888888,\"#fdca26\"],[1.0,\"#f0f921\"]]}],\"heatmap\":[{\"type\":\"heatmap\",\"colorbar\":{\"outlinewidth\":0,\"ticks\":\"\"},\"colorscale\":[[0.0,\"#0d0887\"],[0.1111111111111111,\"#46039f\"],[0.2222222222222222,\"#7201a8\"],[0.3333333333333333,\"#9c179e\"],[0.4444444444444444,\"#bd3786\"],[0.5555555555555556,\"#d8576b\"],[0.6666666666666666,\"#ed7953\"],[0.7777777777777778,\"#fb9f3a\"],[0.8888888888888888,\"#fdca26\"],[1.0,\"#f0f921\"]]}],\"heatmapgl\":[{\"type\":\"heatmapgl\",\"colorbar\":{\"outlinewidth\":0,\"ticks\":\"\"},\"colorscale\":[[0.0,\"#0d0887\"],[0.1111111111111111,\"#46039f\"],[0.2222222222222222,\"#7201a8\"],[0.3333333333333333,\"#9c179e\"],[0.4444444444444444,\"#bd3786\"],[0.5555555555555556,\"#d8576b\"],[0.6666666666666666,\"#ed7953\"],[0.7777777777777778,\"#fb9f3a\"],[0.8888888888888888,\"#fdca26\"],[1.0,\"#f0f921\"]]}],\"contourcarpet\":[{\"type\":\"contourcarpet\",\"colorbar\":{\"outlinewidth\":0,\"ticks\":\"\"}}],\"contour\":[{\"type\":\"contour\",\"colorbar\":{\"outlinewidth\":0,\"ticks\":\"\"},\"colorscale\":[[0.0,\"#0d0887\"],[0.1111111111111111,\"#46039f\"],[0.2222222222222222,\"#7201a8\"],[0.3333333333333333,\"#9c179e\"],[0.4444444444444444,\"#bd3786\"],[0.5555555555555556,\"#d8576b\"],[0.6666666666666666,\"#ed7953\"],[0.7777777777777778,\"#fb9f3a\"],[0.8888888888888888,\"#fdca26\"],[1.0,\"#f0f921\"]]}],\"surface\":[{\"type\":\"surface\",\"colorbar\":{\"outlinewidth\":0,\"ticks\":\"\"},\"colorscale\":[[0.0,\"#0d0887\"],[0.1111111111111111,\"#46039f\"],[0.2222222222222222,\"#7201a8\"],[0.3333333333333333,\"#9c179e\"],[0.4444444444444444,\"#bd3786\"],[0.5555555555555556,\"#d8576b\"],[0.6666666666666666,\"#ed7953\"],[0.7777777777777778,\"#fb9f3a\"],[0.8888888888888888,\"#fdca26\"],[1.0,\"#f0f921\"]]}],\"mesh3d\":[{\"type\":\"mesh3d\",\"colorbar\":{\"outlinewidth\":0,\"ticks\":\"\"}}],\"scatter\":[{\"fillpattern\":{\"fillmode\":\"overlay\",\"size\":10,\"solidity\":0.2},\"type\":\"scatter\"}],\"parcoords\":[{\"type\":\"parcoords\",\"line\":{\"colorbar\":{\"outlinewidth\":0,\"ticks\":\"\"}}}],\"scatterpolargl\":[{\"type\":\"scatterpolargl\",\"marker\":{\"colorbar\":{\"outlinewidth\":0,\"ticks\":\"\"}}}],\"bar\":[{\"error_x\":{\"color\":\"#2a3f5f\"},\"error_y\":{\"color\":\"#2a3f5f\"},\"marker\":{\"line\":{\"color\":\"#E5ECF6\",\"width\":0.5},\"pattern\":{\"fillmode\":\"overlay\",\"size\":10,\"solidity\":0.2}},\"type\":\"bar\"}],\"scattergeo\":[{\"type\":\"scattergeo\",\"marker\":{\"colorbar\":{\"outlinewidth\":0,\"ticks\":\"\"}}}],\"scatterpolar\":[{\"type\":\"scatterpolar\",\"marker\":{\"colorbar\":{\"outlinewidth\":0,\"ticks\":\"\"}}}],\"histogram\":[{\"marker\":{\"pattern\":{\"fillmode\":\"overlay\",\"size\":10,\"solidity\":0.2}},\"type\":\"histogram\"}],\"scattergl\":[{\"type\":\"scattergl\",\"marker\":{\"colorbar\":{\"outlinewidth\":0,\"ticks\":\"\"}}}],\"scatter3d\":[{\"type\":\"scatter3d\",\"line\":{\"colorbar\":{\"outlinewidth\":0,\"ticks\":\"\"}},\"marker\":{\"colorbar\":{\"outlinewidth\":0,\"ticks\":\"\"}}}],\"scattermapbox\":[{\"type\":\"scattermapbox\",\"marker\":{\"colorbar\":{\"outlinewidth\":0,\"ticks\":\"\"}}}],\"scatterternary\":[{\"type\":\"scatterternary\",\"marker\":{\"colorbar\":{\"outlinewidth\":0,\"ticks\":\"\"}}}],\"scattercarpet\":[{\"type\":\"scattercarpet\",\"marker\":{\"colorbar\":{\"outlinewidth\":0,\"ticks\":\"\"}}}],\"carpet\":[{\"aaxis\":{\"endlinecolor\":\"#2a3f5f\",\"gridcolor\":\"white\",\"linecolor\":\"white\",\"minorgridcolor\":\"white\",\"startlinecolor\":\"#2a3f5f\"},\"baxis\":{\"endlinecolor\":\"#2a3f5f\",\"gridcolor\":\"white\",\"linecolor\":\"white\",\"minorgridcolor\":\"white\",\"startlinecolor\":\"#2a3f5f\"},\"type\":\"carpet\"}],\"table\":[{\"cells\":{\"fill\":{\"color\":\"#EBF0F8\"},\"line\":{\"color\":\"white\"}},\"header\":{\"fill\":{\"color\":\"#C8D4E3\"},\"line\":{\"color\":\"white\"}},\"type\":\"table\"}],\"barpolar\":[{\"marker\":{\"line\":{\"color\":\"#E5ECF6\",\"width\":0.5},\"pattern\":{\"fillmode\":\"overlay\",\"size\":10,\"solidity\":0.2}},\"type\":\"barpolar\"}],\"pie\":[{\"automargin\":true,\"type\":\"pie\"}]},\"layout\":{\"autotypenumbers\":\"strict\",\"colorway\":[\"#636efa\",\"#EF553B\",\"#00cc96\",\"#ab63fa\",\"#FFA15A\",\"#19d3f3\",\"#FF6692\",\"#B6E880\",\"#FF97FF\",\"#FECB52\"],\"font\":{\"color\":\"#2a3f5f\"},\"hovermode\":\"closest\",\"hoverlabel\":{\"align\":\"left\"},\"paper_bgcolor\":\"white\",\"plot_bgcolor\":\"#E5ECF6\",\"polar\":{\"bgcolor\":\"#E5ECF6\",\"angularaxis\":{\"gridcolor\":\"white\",\"linecolor\":\"white\",\"ticks\":\"\"},\"radialaxis\":{\"gridcolor\":\"white\",\"linecolor\":\"white\",\"ticks\":\"\"}},\"ternary\":{\"bgcolor\":\"#E5ECF6\",\"aaxis\":{\"gridcolor\":\"white\",\"linecolor\":\"white\",\"ticks\":\"\"},\"baxis\":{\"gridcolor\":\"white\",\"linecolor\":\"white\",\"ticks\":\"\"},\"caxis\":{\"gridcolor\":\"white\",\"linecolor\":\"white\",\"ticks\":\"\"}},\"coloraxis\":{\"colorbar\":{\"outlinewidth\":0,\"ticks\":\"\"}},\"colorscale\":{\"sequential\":[[0.0,\"#0d0887\"],[0.1111111111111111,\"#46039f\"],[0.2222222222222222,\"#7201a8\"],[0.3333333333333333,\"#9c179e\"],[0.4444444444444444,\"#bd3786\"],[0.5555555555555556,\"#d8576b\"],[0.6666666666666666,\"#ed7953\"],[0.7777777777777778,\"#fb9f3a\"],[0.8888888888888888,\"#fdca26\"],[1.0,\"#f0f921\"]],\"sequentialminus\":[[0.0,\"#0d0887\"],[0.1111111111111111,\"#46039f\"],[0.2222222222222222,\"#7201a8\"],[0.3333333333333333,\"#9c179e\"],[0.4444444444444444,\"#bd3786\"],[0.5555555555555556,\"#d8576b\"],[0.6666666666666666,\"#ed7953\"],[0.7777777777777778,\"#fb9f3a\"],[0.8888888888888888,\"#fdca26\"],[1.0,\"#f0f921\"]],\"diverging\":[[0,\"#8e0152\"],[0.1,\"#c51b7d\"],[0.2,\"#de77ae\"],[0.3,\"#f1b6da\"],[0.4,\"#fde0ef\"],[0.5,\"#f7f7f7\"],[0.6,\"#e6f5d0\"],[0.7,\"#b8e186\"],[0.8,\"#7fbc41\"],[0.9,\"#4d9221\"],[1,\"#276419\"]]},\"xaxis\":{\"gridcolor\":\"white\",\"linecolor\":\"white\",\"ticks\":\"\",\"title\":{\"standoff\":15},\"zerolinecolor\":\"white\",\"automargin\":true,\"zerolinewidth\":2},\"yaxis\":{\"gridcolor\":\"white\",\"linecolor\":\"white\",\"ticks\":\"\",\"title\":{\"standoff\":15},\"zerolinecolor\":\"white\",\"automargin\":true,\"zerolinewidth\":2},\"scene\":{\"xaxis\":{\"backgroundcolor\":\"#E5ECF6\",\"gridcolor\":\"white\",\"linecolor\":\"white\",\"showbackground\":true,\"ticks\":\"\",\"zerolinecolor\":\"white\",\"gridwidth\":2},\"yaxis\":{\"backgroundcolor\":\"#E5ECF6\",\"gridcolor\":\"white\",\"linecolor\":\"white\",\"showbackground\":true,\"ticks\":\"\",\"zerolinecolor\":\"white\",\"gridwidth\":2},\"zaxis\":{\"backgroundcolor\":\"#E5ECF6\",\"gridcolor\":\"white\",\"linecolor\":\"white\",\"showbackground\":true,\"ticks\":\"\",\"zerolinecolor\":\"white\",\"gridwidth\":2}},\"shapedefaults\":{\"line\":{\"color\":\"#2a3f5f\"}},\"annotationdefaults\":{\"arrowcolor\":\"#2a3f5f\",\"arrowhead\":0,\"arrowwidth\":1},\"geo\":{\"bgcolor\":\"white\",\"landcolor\":\"#E5ECF6\",\"subunitcolor\":\"white\",\"showland\":true,\"showlakes\":true,\"lakecolor\":\"white\"},\"title\":{\"x\":0.05},\"mapbox\":{\"style\":\"light\"}}},\"xaxis\":{\"anchor\":\"y\",\"domain\":[0.0,1.0],\"title\":{\"text\":\"sold_price\"}},\"yaxis\":{\"anchor\":\"x\",\"domain\":[0.0,1.0]},\"legend\":{\"tracegroupgap\":0},\"title\":{\"text\":\"sold_price boxplot\"},\"boxmode\":\"group\"},                        {\"responsive\": true}                    ).then(function(){\n",
              "                            \n",
              "var gd = document.getElementById('327fbe43-6c49-4b45-b3a8-5344b5271d19');\n",
              "var x = new MutationObserver(function (mutations, observer) {{\n",
              "        var display = window.getComputedStyle(gd).display;\n",
              "        if (!display || display === 'none') {{\n",
              "            console.log([gd, 'removed!']);\n",
              "            Plotly.purge(gd);\n",
              "            observer.disconnect();\n",
              "        }}\n",
              "}});\n",
              "\n",
              "// Listen for the removal of the full notebook cells\n",
              "var notebookContainer = gd.closest('#notebook-container');\n",
              "if (notebookContainer) {{\n",
              "    x.observe(notebookContainer, {childList: true});\n",
              "}}\n",
              "\n",
              "// Listen for the clearing of the current output cell\n",
              "var outputEl = gd.closest('.output');\n",
              "if (outputEl) {{\n",
              "    x.observe(outputEl, {childList: true});\n",
              "}}\n",
              "\n",
              "                        })                };                            </script>        </div>\n",
              "</body>\n",
              "</html>"
            ]
          },
          "metadata": {}
        }
      ]
    },
    {
      "cell_type": "code",
      "source": [
        "# ploting 'HOA' distribution on a box plot\n",
        "df_sold_price = house_data_optimised['sold_price']\n",
        "fig = px.box(df_sold_price, x= 'sold_price', title= 'sold_price boxplot')\n",
        "fig.show()"
      ],
      "metadata": {
        "id": "3rZq1jQP_IeK"
      },
      "execution_count": null,
      "outputs": []
    },
    {
      "cell_type": "code",
      "source": [
        "#saving the outlier removed and HOA converted data frame\n",
        "\n",
        "house_data_eda.shape"
      ],
      "metadata": {
        "colab": {
          "base_uri": "https://localhost:8080/"
        },
        "id": "fyjuq-6DgQ5p",
        "outputId": "2575fcd4-7124-4d90-b0b6-a76fdde9a0ac"
      },
      "execution_count": 9,
      "outputs": [
        {
          "output_type": "execute_result",
          "data": {
            "text/plain": [
              "(3771, 17)"
            ]
          },
          "metadata": {},
          "execution_count": 9
        }
      ]
    }
  ]
}